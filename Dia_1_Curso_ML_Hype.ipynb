{
  "cells": [
    {
      "cell_type": "markdown",
      "metadata": {
        "colab_type": "text",
        "id": "view-in-github"
      },
      "source": [
        "<a href=\"https://colab.research.google.com/github/wendy1305/Passiflora_Mitochondrial_Genome/blob/main/Dia_1_Curso_ML_Hype.ipynb\" target=\"_parent\"><img src=\"https://colab.research.google.com/assets/colab-badge.svg\" alt=\"Open In Colab\"/></a>"
      ]
    },
    {
      "cell_type": "markdown",
      "metadata": {
        "id": "d6v95zDeZaTc"
      },
      "source": [
        "# 🦝🦝 Dia 1 — Curso de Introdução ao Aprendizado de Máquina 🦝🦝\n",
        " *Hype - Data & AI* ---wendy\n",
        "\n",
        "O que veremos nessa aula:\n",
        "- Fundamentos de Machine Learning\n",
        "- Problemas clássicos\n",
        "- Etapas de um projeto\n",
        "- Modelos supervisionados e não supervisionados\n",
        "- Métricas e avaliação"
      ]
    },
    {
      "cell_type": "markdown",
      "metadata": {
        "id": "tHMnpJn-ZzsQ"
      },
      "source": [
        "## 🧠 O que é Aprendizado de Máquina?\n",
        "\n",
        "Aprendizado de Máquina (ou *Machine Learning*) é a área da inteligência artificial que ensina computadores a aprender a partir de dados. Ao invés de programar passo a passo, fornecemos exemplos para que o computador encontre padrões por conta própria.\n",
        "\n",
        "Exemplos de aplicação:\n",
        "- 📈 Previsão do mercado financeiro\n",
        "- 🤖 Movimentação de NPCs em jogos\n",
        "- ❤️ Diagnóstico de doenças em exames\n",
        "- 🛍️ Recomendação de produtos\n"
      ]
    },
    {
      "cell_type": "markdown",
      "metadata": {
        "id": "GNLayW8Dkdk9"
      },
      "source": [
        "### 🐱🐶 Exemplo: Diferenciando Gatos e Cachorros  \n",
        "Imagine que queremos **ensinar um programa a identificar se um animal é um gato ou um cachorro** com base nesses dados.\n",
        "\n",
        "#### 🔢 **Características (features) escolhidas:**\n",
        "\n",
        "1. **Tamanho (kg)** → contínua\n",
        "2. **Late?** → Sim/Não (categórica)\n",
        "3. **Sobe em móveis?** → Sim/Não (categórica)\n",
        "\n",
        "---\n",
        "\n",
        "#### 📊 **Tabela com 5 amostras:**\n",
        "\n",
        "| Tamanho (kg) | Late? | Sobe em móveis? | Animal   |\n",
        "| ------------ | ----- | --------------- | -------- |\n",
        "| 4            | Não   | Sim             | Gato     |\n",
        "| 25           | Sim   | Não             | Cachorro |\n",
        "| 3.5          | Não   | Sim             | Gato     |\n",
        "| 30           | Sim   | Não             | Cachorro |\n",
        "| 5.2          | Não   | Sim             | Gato     |\n",
        "| 7.2          | Não   | Sim             | ?        |\n",
        "\n",
        "---\n",
        "\n",
        "### 📘 Modelo simples vs Machine Learning\n",
        "\n",
        "#### 👨‍💻 Abordagem com modelo simples (regra programada manualmente):\n",
        "\n",
        "Você mesmo poderia escrever algo assim:\n",
        "\n",
        "> “Se o tamanho for maior que 10 kg e o animal late, então é um cachorro. Caso contrário, é um gato.”\n",
        "\n",
        "Esse tipo de lógica é **fixa** e precisa ser **programada manualmente**. Funciona bem se você **sabe todas as regras de antemão**. Mas e se alguns gatos forem grandes? E se houver cachorros pequenos? E se houver gatos que latem 😱?\n",
        "\n",
        "#### 🤖 Abordagem com Aprendizado de Máquina:\n",
        "\n",
        "Com ML, você **fornece os dados** (como a tabela acima), e o algoritmo **aprende sozinho** as regras que melhor separam os gatos dos cachorros. Ele pode descobrir, por exemplo, que o comportamento “sobe em móveis = sim” é altamente indicativo de gato — sem que você precise dizer isso.\n",
        "\n",
        "A vantagem é que o modelo se adapta a padrões que **você talvez não perceba** e **pode generalizar** para novos casos."
      ]
    },
    {
      "cell_type": "markdown",
      "metadata": {
        "id": "3rYENAHgzBUb"
      },
      "source": [
        "## 🧠 **Tarefas clássicas em Machine Learning**\n",
        "Para entender o que é um típico problema de ML, precisamos entender quais são os paradigmas de aprendizado."
      ]
    },
    {
      "cell_type": "markdown",
      "metadata": {
        "id": "NUB5quo4lOCw"
      },
      "source": [
        "### 👀 Aprendizado Supervisionado vs Não Supervisionado\n",
        "\n",
        "#### 🔹 Aprendizado Supervisionado\n",
        "\n",
        "No aprendizado supervisionado, fornecemos ao algoritmo **exemplos com respostas corretas** (ou seja, com rótulos).\n",
        "O modelo aprende a **associar entradas às saídas** e tenta prever a saída correta para novos dados.\n",
        "\n",
        "📌 Exemplos clássicos:\n",
        "\n",
        "* Prever se um e-mail é *spam* ou *não spam* (classificação)\n",
        "* Estimar o valor de um imóvel (regressão)\n",
        "\n",
        "👉 **Chave:** existe uma coluna de “gabarito” que queremos prever.\n",
        "\n",
        "---\n",
        "\n",
        "#### 🔹 Aprendizado Não Supervisionado\n",
        "\n",
        "Aqui o modelo recebe **apenas os dados de entrada**, sem rótulos.\n",
        "O objetivo é **descobrir padrões escondidos**, como agrupar elementos semelhantes.\n",
        "\n",
        "📌 Exemplos clássicos:\n",
        "\n",
        "* Separar clientes em grupos de comportamento semelhante\n",
        "* Detectar tópicos comuns em textos sem saber o tema de cada um\n",
        "\n",
        "👉 **Chave:** não há respostas certas, só padrões nos dados.\n",
        "\n",
        "---"
      ]
    },
    {
      "cell_type": "code",
      "execution_count": null,
      "metadata": {
        "id": "oZPpy2aL_a9I"
      },
      "outputs": [],
      "source": [
        "# Problema: Prever se uma pessoa vai cancelar sua assinatura\n",
        "resposta_1 = \"...\"\n",
        "\n",
        "# Problema: Agrupar músicas por estilo com base em frequência sonora\n",
        "resposta_2 = \"...\"\n",
        "\n",
        "# Problema: Prever a nota média que um filme vai receber\n",
        "resposta_3 = \"...\"\n",
        "\n",
        "# Problema: Agrupar pacientes por padrões em exames de sangue\n",
        "resposta_4 = \"...\"\n",
        "\n",
        "# Problema: Identificar se uma imagem mostra um gato ou cachorro\n",
        "resposta_5 = \"...\""
      ]
    },
    {
      "cell_type": "code",
      "execution_count": null,
      "metadata": {
        "colab": {
          "base_uri": "https://localhost:8080/"
        },
        "id": "_4_uY-gUlQfc",
        "outputId": "4778163a-42bc-4fc6-f2f0-721b82c97e3f"
      },
      "outputs": [
        {
          "name": "stdout",
          "output_type": "stream",
          "text": [
            "Acertos: 0\n"
          ]
        }
      ],
      "source": [
        "gabarito = [\"supervisionado\", \"não supervisionado\", \"supervisionado\", \"não supervisionado\", \"supervisionado\"]\n",
        "print(\"Acertos:\", sum(resposta_i == gabarito[i-1] for i, resposta_i in enumerate([resposta_1, resposta_2, resposta_3, resposta_4, resposta_5], 1)))"
      ]
    },
    {
      "cell_type": "markdown",
      "metadata": {
        "id": "MR1Ej164-3O4"
      },
      "source": [
        "### 🤔 Tipos de Problemas\n",
        "\n",
        "#### 🔹 Classificação\n",
        "\n",
        "**O que é?**\n",
        "É usada quando a saída esperada é uma **categoria**. O modelo aprende com exemplos rotulados e decide a qual classe pertence uma nova entrada.\n",
        "\n",
        "**📌 Exemplo:**\n",
        "Detectar **spam** em e-mails.\n",
        "Entrada: texto do e-mail → Saída: *spam* ou *não spam*\n",
        "\n",
        "---\n",
        "\n",
        "#### 🔹 Regressão\n",
        "\n",
        "**O que é?**\n",
        "É usada quando queremos prever um **valor numérico contínuo**. O modelo aprende padrões nos dados para fazer estimativas precisas.\n",
        "\n",
        "**📌 Exemplo:**\n",
        "Prever o **preço de um imóvel** com base em localização, número de quartos, área útil etc.\n",
        "\n",
        "---\n",
        "\n",
        "#### 🔹 Clustering (Agrupamento)\n",
        "\n",
        "**O que é?**\n",
        "É uma técnica **não supervisionada**, usada para **descobrir padrões e grupos** em dados sem rótulos. O modelo tenta organizar os dados em grupos semelhantes.\n",
        "\n",
        "**📌 Exemplo:**\n",
        "Agrupar **clientes** com base em hábitos de compra para campanhas de marketing.\n",
        "\n",
        "---"
      ]
    },
    {
      "cell_type": "markdown",
      "metadata": {
        "id": "IFBZh77n0aKn"
      },
      "source": [
        "### ❓ **Quiz: Qual é o tipo de tarefa?**\n",
        "\n",
        "> Classifique os problemas abaixo selecionando se ele é de **Classificação**, **Regressão** ou **Clustering**.\n",
        "\n",
        "1) Prever se um cliente vai cancelar seu plano  \n",
        "2) Estimar quantos kWh de energia uma casa vai consumir no próximo mês  \n",
        "3) Separar notícias de diferentes assuntos automaticamente com base no texto  \n",
        "4)  Prever a nota média que um filme vai receber com base em seu gênero e elenco  \n",
        "5)  Identificar se uma transação é suspeita ou não com base no valor, horário e localização"
      ]
    },
    {
      "cell_type": "markdown",
      "metadata": {
        "id": "DC4E2cVI0LKs"
      },
      "source": [
        "Respostas:  \n",
        "1)  \n",
        "2)  \n",
        "3)  \n",
        "4)  \n",
        "5)  "
      ]
    },
    {
      "cell_type": "markdown",
      "metadata": {
        "id": "KT1IxmjHK0E9"
      },
      "source": [
        "## 📘 Etapas de um Projeto de Machine Learning\n",
        "Um projeto de Machine Learning não começa com código — ele começa com **compreensão do problema**. Um um ciclo típico de desenvolvimento de soluções com ML, pode ser dividido em seis etapas principais:\n",
        "\n",
        "1. 📖 **Estudo do Problema**: Tudo começa com uma pergunta: *o que queremos prever ou automatizar?* Nessa etapa entendemos o contexto, os objetivos e como o modelo será usado.\n",
        "2. 🥢 **Coleta de Dados**: Precisamos reunir informações relevantes para o problema. Isso pode envolver bancos de dados, APIs, sensores ou conjuntos públicos.\n",
        "3. 🏋️‍♂️ **Treinamento do Algoritmo**: Aqui usamos os dados para ensinar um modelo. Pré-processamos os dados para que se adequem ao modelo, dividimos os dados em treino e teste, aplicamos algoritmos, ajustamos parâmetros e testamos desempenho.\n",
        "4. 🧐 **Avaliação da Solução**: Verificamos se o modelo atinge desempenho suficiente. Usamos métricas como acurácia, F1-score, erro médio etc.\n",
        "5. ❌ **Análise de Erros**: Se o modelo não estiver bom, investigamos os erros: será que faltam dados? O modelo está enviesado? A feature mais importante está sendo ignorada?\n",
        "6. ✅ **Melhoria ou Lançamento**: Se tudo estiver bom, a solução pode ser lançada! Caso contrário, voltamos ao início para refinar o problema ou buscar dados melhores."
      ]
    },
    {
      "cell_type": "markdown",
      "metadata": {
        "id": "kZhhiQAb2pb2"
      },
      "source": [
        "![image.png](data:image/png;base64,iVBORw0KGgoAAAANSUhEUgAAA1IAAAIGCAIAAADRLCkFAAAgAElEQVR4Aey9D2wTV7r3b1Ak2lVXrKo3EhVVd4W27Laiuq1u765aLbcrvVSw1LjT0TCZTGd9va7lzevrtUyI8poUXKXZKIIoRQGFvG0aRTSliM0NCKoQBUhTGrJRwp9gWcYYY1kmtSzLsixj+WdZXsu/jh96mDp/cBL/9zOyzNg+c+ac78wZPnnOeZ5HlsINFUAFSkOBoaGhtra2dtzKXIHW1tb+/v7SuKewFagAKoAK/EQB2U8+4QdUABUouALJ9DY4OCiXyxncyl8BOr21tbVFo9FUKpVMJgt+T+EJUQFUABVYXAHEvsV1wW9RgcIoAEwQDoe1Wi3LsoIg8Dwv4FaGCvA/3RiGcTgciH2FGUd4FlQAFchSAcS+LIXCYqhAXhQA7LNarTRN8zxfz3McxzE0g6/yU4Bh6nkOXhzHCYLg9/sR+/IybLBSVAAVWK0CiH2rVQ6PQwVyoQBg3/HjxymK4nkR+niBNzYZ8FVOCjQa9jfvMxgMAO48z1MUdfjw4VzcIFgHKoAKoAK5VACxL5dqYl2owIoUgFV9sVjMYDAwDMPzPMuy2oYPbN45fJWRAtbvb7mCd76+epahxYsoCIJcLh8dHU2lUolEYkW3BBZGBVABVCCvCiD25VVerBwVWE4BMPU5nU5BEEQ7Xxr7NBqNw291BPBVNgrY/RbPw3s9A92iyVZIm2x53m634wzvcnc//oYKoALFUACxrxiq4zlRgbQCgH2nTp1SKBR8emNo5tDHHzkDNrvfkn5Z7X58la4CDvHqWBx+q803p9PpwGRL03RTUxOYcvFORwVQAVSgpBRA7Cupy4GNqToFkslkc3Mz4IK4JkxB9Z/u8zy8Z/eJMIGv0lfA7re4Q3cvTV98tDST52mabm5uRlNf1Q1m7DAqUA4KIPaVw1XCNlauAvF4XK1WsyxL3HgvTV9E7Ct92iMttPssD6L3+0/3UQrRKYdPY5/JZELsq9xRiz1DBcpYAcS+Mr542PQKUCAej0PEPsCF/c37xFV9aOcrIwUC4gzv/uZ9j022FHX+/HnEvgoYntgFVKDyFEDsq7xrij0qDwVgYZ/b7Sb+HAzNdJ044ok4VzTD6wzYEBOLpYDdb3EF78y5Z8GTo54X/XIYhnE6nYh95TEOsZWoQJUpgNhXZRccu1syCgD2jY6OQqBmwIVzV4bcYQd4CWSFMgGr5cGNrEqWkf2sfJr6GPsg5mKa+QwGQzgcRuwrmaGGDUEFUIHHCiD2PdYC91CBgikAzJdMJtva2iiKEgSBYRiDwWD9/ha48T6R5AA4Zh3X9jfv++edq66gfQWwWD5c9UQdiltAvAoh+3e3xyE5BwRqHhwcxIh9BRtKeCJUABVYkQKIfSuSCwujArlRALAvEAio1WpI5EUpqCPHOkRTX3Y+vHafxRNxXrx2fvfu3YNnBx5E72d5YHE5qcLODldh8OwABGoGk+3c3Bya+nIzTrAWVAAVyLUCiH25VhTrQwWyUACw7+rVq5CTDXDhzMiX2S/sA+D4n4tDu3fvbmltEU196AtScCumGL0l7Dj08UcURfMCX8dyGo0GZ3izGAFYBBVABYqjAGJfcXTHs1a5AoB97e3tsLCvjuVUKpXlwY3s/TPSk7z2tk4zQzN7mToRGTHaX2GxD2Z4p6zfqlQqMNkqFIpPP/0UTX1VPrqx+6hAKSuA2FfKVwfbVpkKAPOFw2G9Xg9RPwD7bN65LC12sLDvxv1plUpVz3MwQeyNuWzZTRBX2ExrsbojGlwf3hseO0NTNJ/eKIqamJjAhX2VOW6xV6hARSiA2FcRlxE7UVYKAPZZLBaI0szz4uSgWqNeAfalgaP/dB9N04IgUAqqvfPvuLyvwPwH+TmOHOsAky3HiSbb+fl5tPaV1XDExqIC1aUAYl91XW/sbSkoANjX29tLFvbRFN3R3eYK3snGG9futziDtjn3rEajqWPFQHEAHDP2SfTnLRj5iVchYLtxf1qj0QC+0zRtNBpL4QbDNqACqAAqsJQCiH1LKYPfowL5VaCxsfFxXgcF9dWFL7I014Ezx5mRL2ma4XkemIOiqMGzA9l7hBQMjyr1RDDDe/HaeY7jSJRmvV6f35sGa0cFUAFUYG0KIPatTT88GhVYrQI6nU66sG/K+q0rlHXsvYDVZDbRNFPPi66j4Ai8v3mfGMMF/XkL4tgBPrw9A93SVLxtbW04w7vaAYHHoQKoQCEUQOwrhMp4DlQgQ4FIJKLVagH7aJpuaW3JMmIfMTI9ciMQ+P3N+5RKJQQK/urCF+jPWyD7YsBq/f5WQ0MDWFsFQVAoFFevXkXsy7jV8SMqgAqUlAKIfSV1ObAxla8ALOyzWq0wM8jzPE3Rnw2eWAH2RZxjUyMURTMMYzKZOrrbmpubIYxLS2tL2mRoLRD6FMSuVpp9cQZslgc3lEolxz1aXikIgsfjQeyr/DGMPUQFylkBxL5yvnrY9jJUALDvzJkzCoWCF3hwyLg0fdEdupuVP0c6OcdngydoiuY4TqlUqjXqQx9/JCgFcO+4Mju6gsniKua2NdIkeNUolUqQnabpgwc/jMViyfRWhjcmNhkVQAWqQgHEvqq4zNjJElEAmC8ejzc1NTEMIwgCTdPNzc1Z5tgAH95ZxzWVWsWyrCAIxiYjRVH7m/eZTKY6lqMouuvEkfkoBvDLr70TQrdI/Tlomj537hya+kpkoGEzUAFUYCkFEPuWUga/RwVyrwBgn8/n43keJnkpBQWglk1GXbvP8iB6/6sLXzBpZw6VSmUymcS1ZekVfhC3+VjfJ96YG+M2r9GYt/zhdp9lPuoCmyuf3hiGcTqdiH25HzNYIyqACuRUAcS+nMqJlaECyyoA2Hfu3DmI2FcvRtzjLl47n+UMr8NvtfssJpOJoZk6ltPr9YIgcOm1ZeAdwjCMsclg/f6WI2DNZsp4ebjBX5dUIO0u/X/N+yFcNsMwjY2NsVgMsW/Z2x9/RAVQgeIrgNhX/GuALageBZLJZCKRMJvNgH2wOM/6/a1sUvE+TgVG03Us19DQ8H/N+ymKEo186XlevV7PsixFUSeH+tGfd0liW/NyRpjh/ebWpb1MHc/zgiDI5fLTp09jTrYKGMgwQmGBJr6jAuR+qIB7m3QBsY9IgTuoQH4VIDO80uwaPM/PuWezyc8BtNHWaaZpmmVZnU7X3vl3rVZrMBi0Wm1bpxmwj6EZk9mUvfkwf3hUqTUDfw+eHYCcbBA0cXp6Gk19+R0/WDsqgArkQgHEvlyoiHWgAlkoANhntVpFH970Vsdy2oYPsrH22f0WV8j+zztXVSoVLAqEd5VapVQqVSoVL4gTxrBkUBCEsakRJL88cSc41hz6+COSJUWtVgeDQcS+LAZB6RaB4RkMBi9fvjyEGyqQVmB4eHh8fNzr9VbS6EbsK93HELaswhSA/1dsNptCoRAEMXYL+HOIEfv8luUZBSxMl6YvynfL61iO+XFjWVZcHshxLMvCdyzLKuQKk9mUjQVx+ZOu7le7zwKv1R1OjrL7H9XzRHHIIQXYAf6esn6rUqsgdAvDMA0NDRV2r1Zhd2BCs7Ozc8eOHRRFKXBDBRQKiqLe+uNbPT09lbSEA7GvCp9v2OXiKADYNzk5SbCPYZhzV4aySaQLM7wXJs4aDIb9zfvIS6VSAfZptdr9zfuMTUZ4N5lMN+5POwO2QjKTeK6A1R12eB7ec4fuim4lvifg7KKgBsDnCtk9D+95Ht5zBm0iRz6JjBetKudfivwdcZ67MiSd4dXr9XBxi3Nj4VlzpEAsFhMN5+n1mvAu4FbFCvA8r1QqFQpFb28vYl+OBhlWgwpUkwJABmazuDgPFoTpdDqbdy77LLo27xyxpQFRmcwmMPJ9dqrXHXY8LpA2leUcepap0O6ziA3wWS5NX7wwcfbS9EWbdy7L1CPSau0+izNo80Sc390evzBx9sLE2Rv3p91hR7GMl9K2wb4zYEvP8IoXked5hUJx8uTJSpoDqqZB+ZO+xuNxjUYD2fbAy56mxVw4uFWhAhzH1fOcIAh75HLEvp+ME/yACqAC2SgAzBcIBMj/KzRNt3f+PZsZ3sfkEbCKjPjjyxW8Q7Cv/3Tfg+h9sLeRAo8PXLP76jJVgR1uPuoa+Mfnf/2bWlAK7wvv8koxcdyV2VF32JE2OmYVP1k0aoYdN+5Pd3S3qTX17wvvvi+8q9EqjxzrmHVcKwnyC1ht3jm1Rg1wIObWo+nr168j9mUzCkq8TDweV6sfXVnwsjcajQbcqkwBuOgQGwuxr8THLDYPFShdBQD7pqenIcAepOL96sIXq7CHAYGJjgUBmxT7spksXobeVv9TOkZg/+m+Opbby9Tt2NHy5ps9u3bqRY8HJXOs7xOII/jE+sFeODx2RqNVMjSza6f+zTd7tm/v2LVTT1G0RqssCfJLz1wT7GNZVqvV+v1+xL7SHXtZt4xgnyAIFEWZzeZoNOr3+wO4VY0Cfr8/GAx6PB4IjIDYl/XowYKoACrwUwUA+7q7uymKEgQxf65Go1kjx5QO9h36+CN279uvvHJWJkuR18aN/jff7Nnz3q7PBk94Y+7l1/mJrhLBOzfuT2u0yl079bW1znXrkuvWJWWy1Lp1ydpa566dem3DB2tU7InouXyBx8nxVI/8OSiK6u7uRub76c1erp8ysK+1tTWVSoXD4ShuVaNAJBKJxWKBQECv10P+TJzkLdfxjO1GBYqoADBfPB6HvyB5gacp2mQ2ic4Ka/BUKDr2kQh2LP/erp36p556CJRGyO+ppx7u2qnff9Bo96fnppeeawaflY7uNpqmpcxHqqqtdULG4aIZNdMpUjwP7527MlTHiut+RF9sirp8+TJiXxEHVw5PvRD7EolEGLcqUwBMvGjty+HIwqpQgapTALDPZrOxLAu4QNNM/+m+NRJMrrBP9Jz9kT7Bi3Z5oxf5FXIEH/r4o/r6d158cTyD+cBW9+KL4wzDXJq+uEwcQbCiganvtde+zKiHkN+unXqNVjnnni2wh7K0v56Is+vEEZqieUHMqiwIgs/nQ+yrjCG9EPuSyWQ4HI7gVjUKgHHX7/ejta8yBjX2AhUojgKAfT09PRC6pZ4XbUUz9klX0E54i7BF9jtrxz4APlfI7gra7/ptd/02d9gBXibZNMzus8xHXabWpl079QB5BNHIzrp1yR8mbXsGupdhXIiK8tWFL+rr31nU1AeVb9/e8b7w7oWJs0VJPQfT0HPuWUiyIgiCQqHo7OyEeG/FubHwrDlVALGvauhuuY5Go1GY5GVZFtf25XSEYWWoQHUoAMwXi8Wam5shdAvEhrhxf7ro2OcK2j0R59jUSPvR1r/+Tb3vgP5Y3ycS99snRN0DXDvUceBPu/5CluIR4IOddeuSO3a0rAj7FrX2rVuXfPPNnuJinzt0d2xqhDjlUBR17ty5SgroVR0jcsleIvYtR0PV8Rta+5YcHvgDKoAKZKkAYN/8/DxkTuN5MYuaIAhp7LuTjVFtKfvfGq19dp9l1nGtZ6Cb5/ldO/Xw+tOuv7wvvPvZqV6bT4y9vHzzYJIXIhFu3nw7A9fARFdb66yvf2do5PQyJrq0Ic3+3e1xtaZ+4WQxVAtWQ7Wmfsr67RpxeSk9l/8eFjL2DHQDu3PpVHh2ux1neLMcCKVfDLGvOtDuCb1Ea1/pD1VsISpQ0goA9jmdTpKKl6bpltaW5YlqeQSBX1eNfRAq5Ztbl/YydfX178ByOjDOPfXUw9de+1JM72YyiS0MLBdvD+r56sIX4PIGBj/yLpOlwKVj3wG96Ma7fFV+izt098ixDpoSXToI6hEjYm2tk6bpI8c6lsHHbERbXRmQwuadMxgMDM3wPM+yrFqtjsfjJX3zYeNWogBi3xOAqAp+RmvfSkYMlkUFUIHFFADsczgcFEXx6Y1SUD0D3WJ05VXlLiPgshbs80ScX134gt37NnGhILi2bl3ytde+ZPe+fXKonyzIg1WAi6KqM2Azm8173tslDeCybl3yqace7tjRsnPP258NnpiPukTz4bKevM6ATRrAhUwWQwCXP+36y1//phb9Odbm/rxMG5b5SQTc0N1vbl2CIK48z9exnEqlisVii11z/K4sFUDsqwKue3IX0dpXlqMXG40KlI4CgH3nzp0D7IOcP6Jna9hRLOxz+K12v3XfAf2OHS3EnEaW4q1bl9y8+TbLv9fQ0CBGWhYLi0H13KG7rpBd/CgBOPGnkH3K+m1zczOvZLZv79i8+XZtrXPz5ts7drSoNfUmk+mbW5eWceMlsAWzqEeOdag19TRNv/jieG2ts7bW+dprX1KsQqNVXrx2XqxHcnZybL53YBXjhYmzlOIRuzOMmIYkkUiUzp2GLVmjAoh9T2aiSi+B1r41DiI8HBVABVLJZDIejzc2NoprwgSeYZj9zfucAdvaSWV11j6YmR2bGnlfeHfz5tsZ2EdsbNu3d9TXv/M/F4e8MZcraJ+xT16avvjd7XHw9hVTA0tivjgC1vmo6+RQ/1//poaMavX17+w/aPxhud6D6P3s463Y/RbPw3s37k8D/EFVak1914kjc+7ZYjEfkK4n4iTYB/5958+fx4V9lTTCEfsqHeqy6h9a+yppUGNfUIFCKwCmPo/Ho0rndYCkT10njmRj/XoiF64a+zwR59DI6b1M3caN/oXYB64Yr732ZX39O+euDM3YJ9s6zRqtEiDM1No0NjXyY6bdR/O2EO3PFRRtgVdmR89dGbo0fdHhtwKoEUB8Yo8AsJxBmzt097vb4+euDF2YODvnnvU8vCey45MWCGZT/+rKACt/dqoXTLb1PFfHclarFbGv0CMqn+dD7MsKiyq6EFr78jnCsG5UoAoUAOwbGxsjC/sYmjl3ZSgnfgmrxL70tOx3t8d5JbOM2yxM0ba3t6s19X/a9Zft2zt27GiBDLnvC+8eOdZh/f5WhhkP0gS7Q3c9D++5Q3dhdngVmPUommDQDvXAWVbEjqs46ZMPCVjFDMg0AyZbo9EYDocR+yppECP2VTTRZds5tPZV0qDGvqACxVGgtbWVpmlBEBiG0ev1lgc3MoDpycyxmDPE6rAPaMwddhzqOCDNqCZ16di8+fb7wrtKpWjh2769A4yCUlff3bt3H+v7hDh8SNsPlr+1U9qjeoqxkk/aHZDLFbJL/Tkoijp58iQyX3GGU97OitiXLRlVbjm09uVteGHFqEAVKACmvkgkAnkdeP5RKt6cmPocfuvqsc9ncYcdQyOn97y36803e6QJNgD+IDCyoBQg/YaUCAH+tm8XHS/EEHqhNSUayQCs0vwIyUi+uvAFROyD/BzT09OIfRU2iBH7KhfnVtAztPZV2LjG7qAChVMAsG9qakqS14E2mU1rD90CeLR67EsHyZuyftvU1FRf/w643xIP3O3bOzRapU6ne194F2KySNf/wf7Gjf4/7frLsb5P1u6PXJqoJ20VRJNu7/w7RVGCILAs29DQEAqFEPsKN5YKcibEvhXAUYUWRWtfQYYangQVqFAFAPs6OzulgZrFgMMRZ06ikKwa+2DiEjwnvrrwhVpTz+59m+Xfq69/h9379vvCu+euDB051kGxikVdfUmG3H0H9JDMQwpJFbYPwWtmHdcgYh+Y+np6epD5Km/UIvZVKMutrFto7au8oY09QgUKoQAwXzgc1uv1LMvy6Y2m6aGR07mykK0F+4D8xIApEeeU9dvu7m6T2dTW1nZyqH/K+q3n4T2z2cwwzMKUayQD25tv9ojY553LSTCakoVFiCY4PHaGmGxpmh4dHU2mt0LcSXiOQimA2LcyPqrE0mjtK9Row/OgAhWnAGCfx+MBXKgXM/GKeR1mHddylVJ2jdgHpGX3ifGWxeWGfoszYHsQve8K2t2huz0D3ezetxe6+pJ1frt26tuPtrqCd0qW2HLSMDvJGkfTfDqfMs/z8/PzaO2ruCGbQuyrRJBbcZ/Q2ld5Qxt7hAoUQgHAPq/XC34APM9TFNXWac6hD0ROsO+R2e/HkHhiHOZ0IrIp67eQdUOavYMs8oOofhevnc+Ve0pOEC3nlcAM74370w0NDWCy5ThOEIRoNIrYV4hRVNhzIPatGJEq7gC09hV2zOHZUIEKUgCwz2azEeyjKbr/dN981JWThX1r8eR9Ih5BdOLegR6KoqSZdgEBX3xxXCFXiAgbrHA3XpjhvTR9cS9Tx/M8mGwFQcCIfRU0Uh93BbGv4ihuNR1Ca9/jIYF7qAAqkL0CgH2ffvopScWrVCrFiCfBO2uPaQfclitr3+IUGBBT8ba1tbF7396+vePFF8fh9eabPezetw0Gw5T125zkGln87IvFKSx8SUjFOzY1QlLxUhR1+PDhRCIB1zf7+wFLlr4CiH2roaTKOgatfaU/TrGFqEApKgBMEIlE9Hr9o0DNNNPS2pLblXB5xT5Y6ucM2Ab+8flf/6YGJ19279tqTX3vQI8tvSIwV2bLwvNclmcEa9+5K0MUJS7sAzfe8fHxVCqVSCRK8c7DNq1BAcS+ykK4VfYGrX1rGEN4KCpQrQoA9jkcDpgZFFPxKqjegZ5c+fACteQV+2DNn5hXN+ywPLgxPHbms8ETg2cHZuyTnojTEbAWMUNultC29mKAfT0D3XQa+2Bhn9PpxIV9FTmyEftWCUoVdBha+ypyaGOnUIG8KwDYNzQ0pFAoBEGo57l6nrs0fTG3DhD5xj6CTc6AzR12uMMOT8QprucrgYRppG353QlYbd45Y6MB3LFpmj548MN4PI4zvHkfQsU4AWJfBfHb6ruC1r5iDD48JypQ/gokk8mmpiYRFwSeoRljoyFXS/oI6BQM+0h6XNHP128hDajsHfBrGZsaAWqHGd6hoSE09ZX/6Fy8B4h9q2elSjkSrX2Ljw38FhVABZZRAExBPp9PpVLVsZyYipdm9jfvy1VyDgJbBcM+csaq2rH7LA+i9wf+8bnUn8NisSD2LXPzl/VPiH2VAm9r6gda+8p6FGPjUYEiKADYNzIy8jh0Cy2m4s3twr68BnCpKrxbvrMms4mhGUEQaJpubm6ORCKYn6MIg6ogp0TsWxMuVcTBaO0ryFDDk6ACFadAMplsa2uD0C2itY+iewa6EfuWB6yS+lUM1Byyf3d7nMzw7pHLu7q60Ie34gbr4w4h9lUEua21E2jtezwkcA8VQAWeqACY+kKhkFqthhlenudZlr147XzOo9zhJG/+SBEi9p0c6gdnDljY19nZiTO8TxwC5VsAsW+txFT+x6O1r3zHL7YcFSiOAoB9fr+fZdl6XlzYxzCMsclo886JQU9y6g+xRuyTOmrkj5/KumaT2QShWyC33unTpxH7ijOuCnJWxL7yx7Yc9ACtfQUZbXgSVKBSFCD+HHWsGLRFxAUF1dHdlnN/jrWs7QP6dIfueh7e8zy85w47SJS+sqa0XDU+nYrXPmOfVGsem2xpmkZ/jkoZpov3o7jYF/5xywG5lHYV0NHs2/ijMOHsD1l1SbT2LT428FtUABVYSgHAvomJCeLPwTDM/1wcym3EPuCb1Vn77H6LO3TX4bd+d3v80vTFS9MXv7l1SQzLHLqbW2NkriCs8PVAlOYrs6PkIrIs29DQEIlE0Nq31J1fAd8XF/tisVg0va0aWcrlQOhp9q2NxWLxeDwWi2V/yFpKorWvAsYydgEVKJwCgH3t7e0URQmCALgAM7w5x5dVYJ/dZ3EGbd/cutTS0lLPc+zet8Wsa/x7LS0tV2ZHnUFbFYViXjrtL0Ts++bWJcA+QRD2yOUnT55E5ivcQCrGmYqIfeFwOBAI+Hy+YDC4FmQp/WODwaDX6w0EAlk2NRQKeTwet9vt8XiyPGQtxdDaV4yRh+dEBcpWAWC+UCik0+kYRoz6QVF0W6fZGbTlnPlWMckLbgrf3R7nlUx9/Tu7dupfe+3L1177cseOFhH+WParC194Yy4kP7D2DY2cJtY+mqYnJycR+8p2aGbV8KJgXzgcjsfjdrv9D3/4wwsvvGA0GlOpVCgUWgu7lOaxoVAolUp1dXU9//zm3bt3x2KxcHi5edtwOJxIJKampp7+2dM1NTWbntsUCoWi0Wi+e4fWvqxGCxZCBVABwgQzMzOPcYGiB88O5GNh30qxT5zADVgtD26YWpt27dS/+WbPU089lMlSMlnqqacevvlmz66demOTYc49m3PXk3wgb17rhOgt7Z1/h+vIsqxWq/X7/eQS491ekQoUEfssFsuzzz4rk8kYhkmlUhVp8wsGg6lUymQyyWSyLb/eEo/Hlwc4wL7JycmamhqZTPbss88Gg8F8Yx9a+ypyaGOnUIF8KQDWvqNHj5IZXo1GM+u45greyceyuZVO8rqC9kMdB/606y8bN/plstS6dUl4Afxt3Oj/066/HOo4kI9liHmltNxWnvbnuCP6c6jVLMvyAk9RVHd3NzJfvoZNydRbROyzWq3PP79ZJpPV81ylWvsA+w4e/FAmk217ZVs8Hs/S2gfYV1tbi9a+nIwVWU5qwUpQAVQAFIjH4waDAYK9QSrePDHfiqx9gDI37k+rNfU7drQQ5gPgg48yWeq1177UaJU37k/nr825RbR81AZT4V9fPUsi9snl8tHRUUzOUfFjvLjYt+m5TTKZjONE7MvS2gcurqGfbouyVDgcDoVCi/4UiUSgAumv0vKwT04iLZZhrssomXFGKfa99PJLgH3SQzI8fMHad/XqVYJ9aO3LyRhE7MuJjFgJKpACU5/VaoW8DhCxz2AwuEL2fJj6VoZ9Pos77Dh3Zeh94d3t2zukRj4gv3XrkjJZ6sUXx+vr37kwcTZPs9L5oLSc1wmezsf6PqEUolMOx3FKpdLtdqO1r+IHeXlhH0BSIpHIuC6JRGIhP8XjcbiBM0ANPkINxPwGyw1TqRR8A8eSsyQSiUWXHobD4VgsRoqROklhKfZte2UbrO2Ttj+ZTEYiEYKV0Iy5ubkNGzbIZDK09mVou+qPiH2rlg4PRCOFvpMAACAASURBVAV+ogBg38mTJ+VyuSAIIvbRzKGPPxJzsuU0SjMBnewnecFH4X8uPsI+Yt6TWvvWrUsC9p27MlTN2OcIWG3eOa1Wy7Js2imHam1tReb7yb1eoR/KCPtCoVAikYjFYjMzM+3t7QzDvPXHt/bI5QaDYXR0NJVKEX4Cm9nly5ebm5u7u7ula+NgHVsgEGhrazOZTBMTE/F4PBQKxWKx6enpgYGBmZmZeDzucrl6e3sbGhp0Ol17ezv4NhGYA3AMBoPxeNzj8QwMDDQ0NLz1x7d279598OCHDocjlUoBhkqx7ze/3ZpIbxMTE1qtlmEYk8k0NjYWjUal9BmNRv1+/zM/f6Zg2Idr+yp0cGO3UIFcKwDMl0gkWlpaYHIQUvH2n+7LeSre1WCf3+IK2qes3/JKhkzyZjAfWPvUmvop67euYL4slKTxpbkDpr5L0xcfmWwFXqFQtLW1YSreXI+YUqyvXLAPSM5isSgUCtmCbcOGDTqdLhQKAT9JYev55zdL/WfBnOZ2u2Uy2fr168xmcyqVCgQCqVRKq9XKZLK2tja/3w++JuQ8T//s6fPnzwNZAvOFw+FUKmW1Wrdu3UqKwc6m5zYdP34cCktb8uprr4ZCIY1Gk1FeoVC4XC7SSHCq3bJlC2BfASZ5I5EIevKW4uDENqECpaYAYF8oFOJ5nuPE5ByQouObW5dKAfuAsZxBW/vR1l079bW1TjK3SyZ8a2udf9r1l47uNmfAlifzZGminrRVYBbtGegmvtgURWEq3lIbbnlqT1lgH5ijvF7vll+LMPTMz58RBEGlUimVSo1Gs2PHDgApiqICgUA0GgXYam1tXb9+3W9+u5UQFZgDY7GY2+1++mdPr1+/rr29nWCfTqdbv34dTdNvvPHGL3/1giq9CYIAfic1NTW9vb2AldCeoaEhgLOtW7dqNBpozB65HBpjNptjsRi0pKWlRfTk3bLlrT++JZPJ3vrjW2q1WqPRbP/P7VBYLpcnk0npukD4adsr28j876JT1Tn5Eq19eRpcWC0qUGkKAPZFIhGCfTRFm0wmR8AqpYrc7mc/yQu510Se81n2HdDvZepefHGcWPvAzreXqTM2GWw+S9Vinwi7Aav1+1vGRgNDM3x6o2n666+/xkneShuxi/WnXLAvmUzqdDqZTLbxFxshTzTpTTKZZBgGfCAgwDhY71pbW2Uy2datmdgXj8fdbjcsngOrNpRvaGgACHvm58/AwlY4xfXr11944QWwvblcrmg0mkgkxsbGoPCOHTvm5+dJY2Kx2C9/9UJNTc2GDRsCgQAYBSGAC5Q/fvw4Wdvn9/tfevml9evXbXpuk8PhIFO90WgU8HHHjh3SGeqcQN6ilaC1j1xB3EEFUIElFQDs83g8xJ+DouiuE0fmo3mMfrwi7BPJz2fxPLx3YeKsQq6gWMX27R2bN9/evPn2m2/2sHvf3iOXfzZ4Yj7qsvnmcoun5VIbzPD+885VMNaCvZamaZfLhdi35K1fQT+UPvaBLSoQCIDVjaIocPsNBoOBQMDr9SaTSaPRCJO2MLsK8SaXwj6w9i2DfbCwNRAIwClSqVR7eztYGa9fvx6PxxOJBMuygHHT09NgLwyFQoFAIJlMHj58GH46f/48uIYQ7GtsbIRlf8FgEBp59OhRaPnY2BiJYhOLxRiGgYiGUlPlosS29i/R2ldBAxq7ggrkUwH4m3VoaIiiKIAGlmXHpkbymuh2pdhH8OurC190nTiy74CeSW//3dRw9OjRry58UbVzu6AMYN+U9Vupqa+5uRn8E4Hs83kTYd1FVqD0sQ+wJhQKDQ0NNTY2gg8ERLMDD4lUKmUwGIC0enp6UqnU8ti3lLUPrIm1tbUWi4UY3mBN4fj4ONQ/Pj6eTCbj8fhLL78E4ZSly/LAsdfpdBqNRp1ONz09HY1GU6kUTPLW1tba7fZYLAauIbDKcHp6GuyUYMKEed5kMgk90mq14KS8drZbvga09hV5HOLpUYHSVwAiuiUSCbPZDIGaGYYxNhrELGclM8lLmM/ht3oiTtGq552bsn47Zf3W8uCGN+byRJzSMlW4D9j33e1x4pSjUCiGhobQn6P0x2BOWlgu2BeJRKR/hCQSCa/Xa7FYhoeHzWYz8avIBvuWsvYB9v3ud7+DZXbASYB9Vqs1A/u2vbJNJpNt/8/tEG6QrMCThnSJx+NSl45tr2yTMhxxLgG7I6ymhUiBqVQKTIbgcZLhQbw8wK3iV7T25WQoYSWoQIUrAI9gn8+nUqk4jhOjfiioI8c68mrqW1HcvgyGs/ssgKTu0F136K4zYLP55jAVLwRqPjnUD/4c9TxXx3I3b97EGd4KH8A/dq9csA9wKhKJjI2NtbW17dixY+vWrQBMAGRgM3si9kUikSdiH5lsBReQRCIxNze3KPbRNE3sgoS3wuFwML1BWOZUKgVZOki4ZgKU8Xjc6XRCyw8fPgznhTS+vb29MpkMPE7yjX3oyfvjaMB/UQFUYGkFAPsuX76sUCj49MaybAGi3616khco0O63kFcGF1bzR5PZRKf9OUSTrdEYiUQQ+5a+9yvql7LAPjCM2e32nTt3An7B+7ZXtmk0mtbW1t/97nfr16/7weviidgH+OjxeBau7SPWvmyw79XXXpXJZCzLLppmF4AP+G/V2FdTUwMeKvnGPrT2VdSQxs6gAnlSALCvra0NrEQsy2obPrA8uJHXGd61WPuqmeqW6juZ4VUqlXWsaLJVKBT9/f3IfHkaNSVYbeljH8yfhkKhP/zhD0B7O3bsGB0ddblcgUAAfCaamprgp2ywLx6P2+327LEvmUwuZe3buXMnMd1JrX3weEwmk9JJ3iytfXBIV1eXTCYbHh6WMig5Rc53cG1fCY5NbBIqUEIKwEMtHA7rdLpHqXgZRqfTOYO2pQgjV9+v0dqXq2ZURj0wwzs8dgaccgD7rl69igv7Smiw5bkppY99MOl55swZADu1Wg0Li+PxOMBKPB4HQ91S1r5oNCpde5dIJMbHx8E6KA3gsiJrH6zte+nll7xer7R+aO3Ro0fB+wQCuEgneQmxgQlz4SQvcfVob293OBzoyZuTEYDJ2XIiI1ZSvQoA9k1NTRE/AIZh9Hq9M4DYl8eYhTlnTXs6kUlbp1k02Qo8wzANDQ0QwwwucfXe4lXT81LAvjqWSyQSgUAAHBoy3uGGBM/WZ37+zMzMTCKRCAaDkP0sI+Se1NrX1tYGcf7m5ubgEKg5mUyq1WqAyGywbxlrX01NjdPpJDGcIcmb3W6H1GomkwmMkYB9217ZJl0IuBT2AReSG5BgYl530NpHBMcdVAAVWEQBYILe3l6FQgGpeGmaPnKswxXKe34ztPblEP6cAduce1alUtWxYpIViqLAcxCZb5GbvkK/KgXsEwRhGQMzkJPBYKipqXnm589MTExAnDxwoU2lUpOTk5ue2yR16QAWPHPmDJj0lEolrFuAGxuC8K3F2pdIJCAoYE1NDbhigE0OwrVAyL2Nv9jodDphmeyKrH2RSCQUCo2Ojp47d25sbIzYKfOHfbi2r0IHN3YLFcipAolEorGxkVj7KAV1ZuRLz8N7+faNrR7sE02nATHcdA45T1oVBLK+eO08x3EQpZmiKJPJBDNoOb1ZsLLSVaDo2FdTU7PpuU1/+MMf3lhi2yOXB4PB4eFhsM+98cYbVqsVBA0Ggz09PbBK7+mfPQ350yCYczQa9Xq9tbW1cNTu3bsn0pvZbJbJZDU1NVu2bKmpqZEmZwOyfOONN6TL6Ugu4Jr0BnH7IpGIz+f7zW/FbLxAfvPz84Brw8PD0J5nn32WePKazeaampqlrH3QchLAJRaL+Xy+Z599FrJ3QITC/DEf1IzWvtIdotgyVKDoCsBfzNFoFPwAeJ6vYzm1Rj1jn3QF0dqXo0negHXOPQtkBrlGch5WWpzhDdmPHOugKZpPbxRFQZIDtPYVfZQVrAFFxD6LxQImOiCzpd7Xr1/ncDii0WhnZyeU3/iLjUqlUqVS/fJXYs60119/HWxvMpmMwBN47E5NTYHLrbRyhUJx+fJlSI9LEnKkUimVSiWTyX7z260Z2JdMJm/evAk1QC6NYDAYi8VsNhtJv1FbW7tz585XX3sVjIgKhWJ8fDwSiYB/BiQR2fTcpoWTvA6HA2qGlsA0sc/ngy9ramqCwWC+87Ohta9gww1PhAqUpQLABOFwmEwO0hR96OOP3GFH/kxTxExVDdY+8LQ41vfJ/uZ9Y1Mjdr+YXw6SC4vRB/05sP/Z/RZn0GZ5cKOhoYFlWT69URQ1OTmJbrxlOSxX2+hiYV8sFvN4PI2NjVqttmGJTafTNTQ0tLS0gNtEKpU6fvz47373u6d/9jRQ0euvv97X1weEp1Qqd+7cefjwYeIDAe4UP8Rq6ejo2L1796uvvbp7926z2QwoNjg4aDabJycnIW1GPB4/deqUVqttb2/PgDOI86dNb1arFSK2wMq8VCrV1dW1/T+3b/zFRmjS1q1bjx49CrO9YO2Lx+PDw8NardZsNpO2gY0tFot5vd6GhgatVjsyMgLnjUajwWDQYDBotdrGxsZ8R29Ba99qhw4ehwpUjQKAfVarlUwO0jT92eAJT8SJ2EfwdC07BPsUcjEmorHJ+NmpXsuDG/NR13zU5Q7dFSd/1wZ/YOqbsU/CRSRZlb1eL2Jf1QxlsaNFwT4IgwwJALNRG1xlwUk2EAjYbLabN2/abDYAO6gNHHvBz4NMicIMaSqVgplTOCPMxsJ5CeFBVfBlxnI6MIbBT7FYjFRO5nBDoZDD4biZ3ubn51OpFJyClCTm82VqTiQSpDysCIQzSr/M0z5a+0BqfEcFUIHFFYBHWH9/P0nFKwjCd7fHC+DPUSVx+wj2QZ5chmFomjYYDG2d5vbOv1+avgjx9mDl3+r4D7Bv1nGNsDtFUe3t7YlEgvwXtfjlx28rS4FiYR+wWigUgoQWy7xLzV0kFW8ymQROIr9mEBUhJBI5mbAjlASvXulR0BhSIakBdkjijYzvoTwMnGQySVLuSotB3OYV1bx8Y6SV52Qf1/ZV1rDG3qACuVMAmCAWizU1NdE0LQgCTTMms8nut+Y7UDPYz6STvJ+d6vU8vGfzijnWKull8865w45jfZ9AKGyO41iWZRiGoihKQdXz3P7mfcNjZ0T4CztcwTuP+r4S+x+A49jUCJnhpWn666+/XsahMnc3EdZUQgoUEftWxytgzyPv0kqkDCf9HhCTvGf8tPaPpDEZtsa111yYGtDaV0IDEpuCCpSaAoB98/PzPM+L7p8CTymoY32fPIjeL8AML1j7WlpbGNECxgz843P/v+bdobueh/cq6eUO3fUnPD0D3TRN1/Oiu4yx0cDzPJmQZRimjuUMBkPPQPes49p81PUgev/R5K+4+O/JbiV2n+VB9H7vQA+QJaTidTqdOMNbaiMu3+0pO+wrDAlV21nQ2pfvgYb1owLlqgBg3+nTp2GGl+PEeG9XZkfdoburm21c8Rq4gLW5uRm459DHH3114YuBf3xeea/BswMms4llWY4TbXvGRkMdy7V3/t3YaKjnOYZmOI7by9RRCkqr1R76+KOW1pYLE2fB89cVvLO8quKVClit398yNhoYhkmbbGmz2ZxIJMr1vsR2r1YBxL5qI7yF/UVr32pHDx6HClSBAhDUzWQygZWIZVmNRiPa+QJPtjAtzyLZ/2psNIhTk4IYOEY0+1XoVseK4fTqeU6v1zMMU89zglKo50X4a+s0Q5RsXuBZlqUpmqboOpYTnT8GT9y4P7285dXuE2eHr8yOgvlQEAS5XH7mzBk09VXBCM7sImLfQgyqwm/Q2pc5MPAzKoAKECbw+XwajQbWhLEsq9aoC4l9zqDNZDYp5AoR9ugKJb50twD7OE6czBWUAjAuy7KCUmhubm7rNBNvDEBAhmYUcsXOnTtbWlv+eeeqGPBlidV+YBQcPDsAJlueF9OyXb9+nVxivNurRwHEviqEvIwuo7WvesY79hQVWJkCMMM7OjoqxYX9zfuyN9StsWQ6h+yd3oEevV5vbDIaGw0V+2oyqjVqALtHU7FKwWQ2dZ04QtOMSqXSarWwtrKO5SgFxXFcR3fbxWvnr8yO3rg/vXxyZLvf6gzY9jfvI57CRqMRYlus7IbA0uWvAGJfBgNV50e09pX/UMYeoAJ5U+Dw4cME+8CfQwzUvIRhaY2ct+jhruAdd+huBb9cwTu++COXDp7ndTqdyWTa37zPYDBwHCcIAseJqAcvrVZ7rO+TS9MXnQEb+LUsv7Yvjc72f965+jjaNk03NTWhqS9vI6akK0bsq07Ok/YarX0lPUSxcahAcRVIJBI6nY6k4mVZ9uK18wVIxSvlP7tfzFRRwS+bTxLAReCVSqVWq4UwLvU8R1Pi3Pahjz/qOnGkZ6D7xv1pT8QJ5J1NJBdY2Dd4doBcRJoW/TkQ+4o7sop1dsQ+KQBV7T5a+4o1APG8qECpK5BMJrVaLRADQzMGg8HmnSukP4eU/yp1n4RrhsiIfDp0C8uyYGQ9cqxjbGrEFbzjjYlxW5xBG9DeitQwmR855fA8T1HU4OAgYl+pj738tA+xr2pRj3QcrX35GVtYKypQ5grAwr5gMKhWq8Gfg6botk5zYXKyrYhpyr2wFPtoilbIFZSC0ul0PQPd39y65Hl4TwzR57fafOk41SuZXodUvHPuWZVaRdx4FQrFzZs3EfvKfICusvmIfYR+qnkHrX2rHD94GCpQwQpAULexsTGysI+m6eGxMwVe2FfuSJdN+wH7RO8Nij5yrKNnoLv/dJ/1+1si8IUdom1vJagnPSP4xMy5Z8GCCD68er0eEpIC2VfwPYxdW6gAYl810x70Ha19C8cFfoMKoAIpiNjX2dmpUCgEQYwnotao59yzYnKw1VKIlEhwnygACXMvTJwdmxrxRJwwmfsoA6/PQoqtYgewb9ZxDbBPEASFQtHT04Omvqod4Yh9iH2RSAStfVX7BMCOowKLKwB2oGg0qtPpxNBxgkBR9KGPP1o+UMgquAQPIQq4QnYx94nPApO55Pu17EDEvuGxMyQVL0VR4+PjwPSLX3v8tqIVQOxD7ENrX0UPcewcKrAqBQD7bt68Cck5xMlBmhk8O1CwVLxrYZ0yPRZclXPbeLD2tXf+Ha5jHctptdpAIIDWvlUNi0o4CLEPsQ+tfZUwkrEPqEBuFQDs6+7uhoV9HMcplcpZxzXRjRRneP2FS0y3FgoE5rtxfxqSrKRNtlRXV1dubxWsrbwUQOxD7ENrX3mNWWwtKpB3BYD54vF4c3MzsRKpVCqbdw4nedfCYQU+FiL2jU2NQHIOQRD2yOXnzp1LpVLgr5P3OwlPUHoKIPYh9qG1r/TGJbYIFSiqAoB9VquVJIEFfw7r97cQ+wqMbms5HWAfOAjzPF/HciqVyuPx4AxvUYdXkU+O2IfYh9a+Ig9CPD0qUGoKAPadOnVqj1wuCAIs7GtpbVkLguCxRVHA5p0jSVZomjYYDKV2s2F7CqwAYh9iH1r7Cjzo8HSoQHkoYDabH/lzCDyloHoHegqck60onFQxJxVNfaG7390eF5RiSl+I2KfT6crj5sNW5k0BxD7EPrT25W14YcWoQDkrQKxEHMcJgvDNrUsQXqRiwKiyO2L3i9jXO9BDUzSf3miabm9vxxnech6UOWg7Yh9iH1r7cjCQsApUoMIUSCQSBPsYmtnfvA99eMsMEwNWu89ibDJCPmWe5xUKxddff43YV2FDdaXdQexD7ENr30pHDZZHBSpZAVjY5/F4lEplHStODtIU3XXiCGQJKzP0KZNIK/lQ1RmwWb+/pVKp4CLCJK/NZkPsq+TRm0XfEPsQ+9Dal8VAwSKoQNUoANg3PDxMUvFyHDc2NSLO8GLEvvLhyAzso2naZDLFYjHMz1E1Q3nxjiL2IfahtW/xsYHfogJVq0AymWxtbaUoShAEhmH0er3lwQ1noGiBmsV8Zd65zJdvzpZ+2X0W+9oS1+bD2FbcOtOBmu3f3R7nBR78OSiKGhgYQFNf1Q5q0nHEPsQ+tPaR4YA7qEC1KwCmvnA4rFarRVwQeIqi2jrNxZ3hfRC974t7fHGPP/H43Rtz++Ieb8w9H3WJLsZ+Sw6NkSJKlrNp0+6zPIje/+rCFxCoWZypp+mZmRnEvmof4akUYh9iH1r78DmACqACjxQA7Lt8+TKEbqnnuTqWuzBxtljYB+6o+w8a39j+++3/uf2N7b8nr/e4d//8wft//Zv6UMeBi9fOu0N3XcE7OTH72XxznohTrK2cyc/ht7a0ttA0DSbbxsbGaDSK2IdDHbEPsQ+tffgcQAVQgUcKAPZ1dHQoFApBEOO9CYIw555Nu/EWIRGtiH1hx849b8uW3Wpqav76N7U4sxmyr5H87H5LIOn9bPBEz0D3fNS1xtqKMtULOszYJ8kV3COXf/rpp8h8OM5TaO1D6ItE0NqHjwJUABUQFSAzvAaDAaJ+iPO8PD/nni2W6Quw7z3u3Zr0tiz7yV59/d++uz2+luCCdr/FGbT1DHQ/8/Nn9h3Q+/81b/POFQXd1nJSyMk2PHbmUbTt9Azv5cuXMRUvjnPEPqQ+UCAajQYCAb1ez7IsZOvu7e2tpEeEDEc7KoAKPFEBwL6pqSmCCyzL6nS6IqbiBeyjWIVMJnv6Z08P/OPz4bEzZ0a+lL6Gx878+YP3n/7Z0zKZbNsr2xwBqyNgXcX8rMh8Aduce3bTc5tkMllbp9kX99h85Yp9hz7+CNidZVm1Wh0OhwnZP/FOwAIVrABO8iL5obWvggc4dg0VWIECgH29vb0kdAtN0e2df3cF76zF+LSWYzOwz+6z+OKe+agLPDng/UH0fjDlBTRcv36dqbXJG3Nl4Bp4+y71Di0E7Jt1XPvlr16QyWSHOg54Y+4Ma99SNZSOCwgYLG/cn9Y2fLCXqYNwfQ0NDXBxV3A3YNEKVWAh9iUSiVAoFMatmhSIRqN+vx+tfRU6yrFbqEB2CgAZNDc3E2sfpaAG/vH5g+j9Yi1xy8C+Wcc1R8Bq881J8cvmnfM8vDc8dmbDhg0ymez55zdnzErbfeKaP3D49UScj14P73ke3nsQvU+8VWBu1Pr9LcC+tk5zKOWXIq/dL7rHioc/vJdRz3zU5QzY1gK4uTrW7rN4Ht4bmxqpY7l6XpyjZ1lWo9EkEons7gIsVeEKZGBfW1tbKpWKRqPxeDwWi+F7NSgQi8WA9WE9D07yVviYx+6hAkspANjX1NQE2CdODmrUs45rxVrY5/CLc7XusINM8t64P+0K2hdO4Nq8c764p6O7bf36dTKZbN8BvTg/m16WBzD3w4F//uD9l15+6Te/3brl11u2/HoL7L/HvXtldtQTcVq/v+WLe0ytTb/57VaYL9703KZtr2x7Y/vvyek8Eefg2YH/eOPfSSW/+e3W3/x260svv3So44D1+1u5Qre11AP+HF0njpBUvBRFHT16FGd4l7rtq+17gn08z9exnEqlampqasStahSAyw3vUq8vXNtXbY8C7G+1KwDMF4lE9Ho9rAljaMZkNhU3OUeW2CeyXejud7fHa2trZTLZ9v/cLrr0+sUwzp6H976+evaFF8R520W32trar6+edQZsgR9nijOKgaXTHXbsP2gErIQC0n1YCxhIejMmhdcCcKs8Np2Kt6GhgWVZnufh7/iJiQnEvmof4T/2Px6PazQalmXredEeXMdydHpjGIamaXyvbAXgWpN3jhPvAbT2/Tg48F9UoJoUAOyzWq3wnwEE+O0d6CkL7AO7oDNo2/bKNplM9stfvTBjn3QF77iCd/555ypM2j7z82f+j1H72aneCxNnv756tqO77aWXX6qpqZHJZP/d1OD/17w7dPfzM/9PrfuvZ599ViaTvfXHt/Yd0O8/aLT55uajrvajrUB7r77+bz8ce2bkyyuzo2dGvoTgMuvXr1MwcjFqdNHzhaSxT61RA/ZBCB6Xy4XYV02jebm+xuNxlUrFpZ30edyqTwFBEDI6LQiCQqHo6elBT94UbqhA9SgA2DcwMPA4Yp9SeBQPpXhRi7O09jn84oI/b8ytYOQAZ19fFUNMe2PuzwZPwDf/3dQQSvnnoy532OEK2UMp/4WJsxt/sREmhQMpr+XBDW/M7QrZt/x6i0wm6+hu+/9SIZgs9v9r/j/e+HeZTLbxFxuvzI6GUn6xkuCj9YJ//uD9H8pv2LDhn3euFpeSRQNhwGr9/hbBPoqiWltbMQ9v9Qzk5XsKd8Lx48d3797NcRxbxRvDMGDyZFmWYZg6tnrV4Dhu586dOMm7/NjBX1GBClQgmUw2NTUxDCMIAk0zxibR0JUOhlKEQM0wxZk99tl9Fm/M/R73LsE+z8N77rDj66tn3/rjW7/57daL1847AzbLgxuiR4jfYvPNuYKPCA+sfTA/O2OfBOtgS2vLDxVaHtyw+yzzUZeptemll19i+ffcobtiJV6xElgR+PmZ/yeTyWpqar65dUl0ECkuJYfuXrx2nphsKYoaGhpCU18FDtdVdYms5Th+/LhKpdJqtZpq3aDv9TynVqurVgdtetNoNIcPH/Z6vZX0oMC4fat6QuBBVaMA/Gfg8/l4nofZH4qijxzrKHqaihVh33zUJcW+B9H7Np8YftkddjgCVnfYkc7hK1r7ROug9zH2vce9C/OzzoDtxv1pEsCF+IU4/FZ36K4zYHMGbPNRly/ugextNq84/wvYJ5PJBs8OeCLOIs7zAqF+dqqX+HPQNG2z2SrpaV41gzLvHQ0EAsFgsGrfQ6HQ0NDQ7t27+/r6wuFwdepAboC8320FPwFiX8ElxxOWlQIQ3ePMmTMQsQ8Wen9z6xI4RqzSt8CfAxth9tgHk7wwFVtbW0sMb3afGITZG3N/d3u8u7/L1Nr0Hvfutle2bXpu08ZfbIS1fRSreCL22XxzD6L3XSH7mZEvjxzr+Ovf1G/98a1f/uqF2tpawyqcrAAAIABJREFU8PwtOvaJVsaAiLPGRjHJStpkSx88+CFcXCD7srorsbH5UgAn/VOpVDgc1ul0NE1rNJr5+fl8aV0m9VbeLYHYVya3HjazSArAmG9tbSXYx3HcUtFSCkmBWWIfEI/1+1uwLG/Lli3QeJtPDOk3Y59U6/4LnHxhChjeN2zYAMT2ROyz+8V53oF/fP7G9t9La4D9Z/+X6AJSCtjnCtm/uz0OEfvAO29gYKCSlmkXaXxU5mlh1FfhO/whNDExoVAolEqlXC4/d+5cMplMJBJVqEal/kGI2FeZjy3sVU4UgGE/Pz8PMZx4nocwv+mIfYsEyStB7ANn289O9ULEZl7JeCJOCON8afrili2ii4ZMJvvfu/64/6Cx/WhrW6e5rdP8gyvuSy+/JJPJlpvk9c2BHXH/QSNUsum5TX/+4P1DHQfaj7Ye6jjw1YUvSmSSV4xWE3F+NngCwi7C8j6c4c3JGMFKKkmBZDIZDoebm5sfRapimMbGRoxnXkmXOJVKIfZV2AXF7uRSAcC+kZERhULBpzeGEf05xPjDgRxM1K4FE7Ox9on+Gd45T8T5v3f9EVwrLkycFRf2eUXf3n0H9IBrEMN5PuoKJL3+f80Hkl5XyA7L+JbDPu8cOII8//xmmUxWW1t7afqiN+b2xT3+f8374p5Qyt8z0A2nKPraPkfAur953+No22p1PB7P5b2CdaECZa4APO5mZmbI445lWZVKhSOlzC9sZvMR+zIVwc+oAFEAnoNdXV2PcrIJPKWgjhzrIFnL1sJtazw2A/tm7JPgjWHzzsEL/CdCKf/APz6H+MlvbP/9o1jNfjGG83+88e/r16/b8ustkLENjgKivTR9EQK4LIN91u9vzUddX134gkT4Az8PqAdivhBDYBGxD5JzzNgnNRpNHSvmZKtjOaVSGY1G0Z+D3Oq4gwqQx510QcsPUxwOhwNHSiXdHoh9lXQ1sS85VgCegyaTSfoc/Prq2VIIPpyBfa7gnVDKD7Y6sLf94L1reXCjZ6D7l796Yf36dc/+r2evzI6KwfPSYZNdwTtgzxNZMHjH5kvDYvo9lPK3H20FUgTsA7dfqSev/1/zEKKFBP/7wZnDF/eko8CIJkZvzP311bPPP78Z6hk8O1Cs/MWQg+6rC188YneeZxjGZDLh1FWORwtWVxEK6HQ6mOGFBS00TXd1dcHavoroH3YCJ3nxHkAFllYAsK+lpUXEPoFnWVan00HEvjXa6tZ+OGDfe9y769ev27Bhw74DelNbs6m1ydTa1NHdduRYh1r3XwB2MM26571d/n/NP8rGm87nu3PP2zU1NRs2bPhs8ASEa/bG3A+i908O9W96bhM5SjQQ+kRPWMuDG1t+vWX9+nVvbP89mPQgvdvGX2xcv37dq6//m91n8Sc881HXfNTlCFghS0dNTc369es+O9VbLOxzBKzOoK2trQ2wD8LuDw4OogFj6Rsff6k6BeBZFwwGIT0drGMmSeo8Hg+Ol4q5J9DaVzGXEjuSYwXIc7ChoeFR1A+Kbus0u4JFduYAZATs2/PeLuCz5d///MH7lgc30onaxCWJ4IrR0d0GRz3//OauE0e+uvDFkWMdMPNbU1MDyPjq6/8mni4gHjIfdb36+r/BGsFNz2166eWX/nnnqifi/M1vt0I9FKs4OdTfM9D95w/eB3D85a9eeObnz8hksvajreIUsG9u7by7mhoC1v9j1IINA3LrTU9PoxtvjgcMVlfOCoDxe2xsjMxsYGDzcr6ey7UdsW85dfC3alYAsG98fByegzzP72XqhsfOlMLCPsi06w7dVev+6/nnNz///OZf/uoF8nohvW17ZdufP3i/u7/rqwtfpBOm3SFJMsTlbsE7N+5Pt3WaIbALocaNv9io1v3XldnR7v6ujb/Y+Pzzm7+68IXn4T2bb84ZtH1z6xLE/4PyA//43Bf3DI+d4ZUMrAUk9bz08ktHjnXcuD+9c8/bz/z8mT3v7RINjQEracNq6G3V8Q4DVjJ1xTCMXq+PRCJovajm0Y19lyoAwVmi0ajRaJTO8MI8L8MwDQ0NgUAAikkPxP1yVACxrxyvGra5EAoA9h09epSiKEEQWJbVaDTp0C2P+amg7LIo9ASskCFj4bsreMcTcUL6DbvPksFbQH6+uGfOPdsz0L3/oHH/QWN3f9ecexZmae0+yze3Ll2avvjPO1edAZsImulUbFPWb7v7u7pOHOkZ6IafHkTvP4jevzR98VDHgf0HjYc6DlyYOOsMioGgPQ/v3bg/fWV29NL0xUfuz4X1gLb7xWQks45rarUa/Dkoiuru7kbmK8QQwnOUiQLwrJucnCSmPo7jCP8JgiCXy8+fP4+jpkyu5xOaidj3BIHw52pWIJFI6PV6ePzRNN3c3OwKlhLzLQqCki/tPjHB7lJTq5B+FxJ1BJLeQNLrjbmdQRsc5fBbXSE7mAkJ3dp8opkQorR4Y25X8A7gILhNgEOJ/1/znof3YCoZEoG4Q3chCxypp2A7ELHvwsRZSC0PC/tGR0fRblHN4xr7nqEAYF9nZydgXx3LqVSq5uZmqRfUwYMfZhyFH8tUAcS+Mr1w2Oz8KgDPwevXrwMupBeEMWIUkof3iphYNh+0BPAHLho235zUKGj3izZC6TcwuQwomVnYJzrwwksq0aKV5KMji9YJRs2O7jaaogVBqGM5jUbj9/vRbpHf8YO1l48C8KyzWq0sy5KI9AzDHD9+3GAQkxnyaef3hoYGKFk+PcOWLq4AYt/iuuC3Va4APOD6+/sVCoUgCDwvuvFOWb8VA6D4LYsSBn5ZagrY/eIMuOXBjYaGBpZlwdR3+PBhZL4qH93YfakCYPk+evQoidLMMExTU9PBgx+SdB0cJ4a6dLlcaCaXSlem+4h9ZXrhsNl5VACYLx6Pm0ymx9McNIPYV2pgt3x7RGfn0N2xqRFIxcvzPEVRw8PD6MObx8GDVZebAvC4I84cYNvr6upSKpX9/f1g/4M01qdOncI/mcrt8i7SXsS+RUTBr6pcAXgOWq1WcALgeZ7jOJVaVXL+HJJlfMsDUHX+Cgv7jhzroCkaLiLP816vF//rqvIBjt0nCsCzLhwOQ5gqCG/U1NRkNpvlcnl7e7vRaIQ/fSG3jc/nw+FD1CvTHcS+Mr1w2Ow8KgCPwtOnT5PQLTRNm8ym6oSnMu21OBcfsFq/v2VsNDC0uD6J4zhBEDB0Sx5HDlZdbgpAuL6JiQkyrcGy7PHjx2Fli0KhaG1tValU8AewQqEAYzk8Icutr9jeRwog9uGtgApkKgAPtfb2doJ9lII61vdJ0fJMoFVv5QrADO+U9VtBECD8GMeJCXlDoRCaKzLvePxc3QocPnyYhKlSq9WffvopidjX1tZGsI+m6ZaWFkjUhuRXvrcMYl/5Xjtseb4UgL+A29raxDXOgmgl4nn+m1uXxPwc6QB4xDsVd0pXAZ+4sO+zwRMwwwuzV62trZiKN1/DBustNwUA3a5fvw6QB++NjY0Mw3AcBx/BCkgydtA0PTExgX84ldul/kl7Eft+Igd+QAXgiZZMJg8e/BD+AmYYxthkcAXtruAdfJWLAs6AzRNxpp1yxBleCDl77tw59OfAMY4KgAKAfeDDC+GNVCrV8ePHSaBmhmF0Ol1XV9fjeQ+KMpvNiH1lfQsh9pX15cPG514BeBTOz89LpzbaO/9+4/70jH0SX2WkwI370yQVbz3P1bHc3Nwc/o+V+zGDNZahAvCgCwQCJIENjBFw3QXzXh3LqdXq48ePS41/RqMRB1EZXvDHTUbse6wF7qEC5HE2PDwMUazqxTleMWaVSq3CV9kpQMLP0jTd1NSEUcdwjKMCoABgX19fH7HkMQzT0tKi0WggRj1M8sK+0WgErw5I4OHxeMijEvUsOwUQ+8rukmGDC6FAe3u7dFELx4m2InyVnQJkTRJFUX19ffh/VSEGD56jHBQA7JNmYIMxYjAYpI++el70f+/p6QHsgwB+6M9bDld4yTYi9i0pDf5QnQrA0xDceCGKAQ+bwPP4KjsF0tcOFvZNT08j9lXnoMZeL1QgA/vgDySYzIV96Tv5HoI5Nzc3o2vUQknL5RvEvnK5UtjOAikA84Aej0etVisUCpqmKdzKWQGapnfv3n369Gmc4S3QEMLTlLwCwHwzMzMkXJ8U8pbfh2w3o6Oj+EdUyV/nxRuI2Le4LvhtNSsAz0SXyzU+Pn4VtwUKTP50W/B7aX0xMTExPT0N17Sa72rsOypAFIDhAC66ENhyedST/grYB7GQkumNVIs7ZaEAYl9ZXCZsZKEVQEpYRnEQB5/4y0iEP6ECJasAjF+/3y8IAsMwdSzH/rjB4l0p5NXzj3+FUlCGZVl07CjZS7x8wxD7ltcHf61eBQBr8J0oANH5JycneZ4XXZtVKoZhurq6kskkCdxPCpfaTvXex9hzVOCnCgD2zc/PT01NzczMTEu2mZmZ0dFRErsK/HYXLTY5ORkOh3Ge96fSlscnxL7yuE7YSlSg6ArA/xaTk5M0TXPpzCVyufzw4cMYALnolwYbgArkSoFgMKjValmW5XmeZVmNRpOrmrGeElEAsa9ELgQ2AxUodQUI9kEQf0EQFApFZ2cnYl+pXzlsHyqwQIGF9niw2Xu9XgjdR7AvFostLAxPgwW14hdloABiXxlcJGwiKlAKChDsA0sAYB9a+0rh0mAbUIG1KwAD3OfzZWBfPB5fe+VYQ+kogNhXOtcCW4IKlLQCBPuk1j7EvpK+Ztg4VCBrBRD7spaqvAsi9pX39cPWowIFU4BgH1r7CqY5nggVKJgCiH0Fk7q4J0LsK67+eHZUoGwUINiH1r6yuWbYUFQgawUQ+7KWqrwLIvaV9/XD1qMCBVOAYB9a+wqmOZ4IFSiYAkXBvgxnEdLZjLBQ5HvcWbsCiH1r1xBrQAWqQgGCfWjtq4rrjZ2sMgUKiX1Ae9kLvNLy2ddchSUR+6rwomOXUYHVKECwD619q5EPj0EFSluBfGOf1LBHlAiFQjdv3rx8+fLg4OBhydbV1XXq1KnJyUmr1RoIBEj5RSshv+JONgog9mWjEpZBBVCBFME+tPbh3YAKVJ4CecU+qJyIFggEzp0719raChlBGIZRpDfqxw0+MgzDcZxGo+nu7r569WoikSA1YIIQqRQr2kfsW5FcWBgVqF4FCPahta96bwLseeUqkCfsI/OzoVDo/PnzTU1NJpOpoaFBLpfTNF3HcvU8xy/YhPTG83w9z9WxnEKhoCiqsbGxubn54MEPZ2ZmoLUZNFm5FyeXPUPsy6WaWBcqUMEKEOxDa18FX2XsWtUqkHPsI8CXSqXGxsZ0Op1CoaDTG8MwBOz4LDZBEHieh2MpiqJpurW11WazwcVC+FvRTYvYtyK5sDAqUL0KEOxDa1/13gTY88pVILfYR1AsEAicPHmSpmn4c5GXbAzDUBTFpDd2sY1hGEC9OjbTIkhRlFKplM78kjNW7iXKTc8Q+3KjI9aCClS8AgT70NpX8dcaO1iFCuQQ+0hVjY2NGo2GoihesnEcBzDX0NBw+PDh8fFxi8XiWGy7efPmyMhIZ2enIAgAiFBNPc8JggCg2NDQ0NnZCcv+kPyyuW8R+7JRCcugAqjAY5cOtPbh3YAKVJ4ChNXWkpOXTOzabDadTkdRlNRQx3EcIKDZbJ6YmHC5XJFIJJreIktssVgsFArZ7fahoSGDwVDHisgoXQ4IJsPOzs5IJIJ+Htncloh92aiEZVABVOAx9tWx4p/a8Pd3Z2dnKpXK8LBDsVABVKDsFFg79hFj28TEBCzFgzV5PM/DTK4gCH19fVarNRwOx2KxcDgcDAYDgUBw6Q1+BToMBAJTU1Otra0Af1KgVCgUTU1Nbrcbye+JNx5i3xMlwgKoACogKgDP9KtXr8rlclhVvWPHjra2NsQ+vD9QgQpQYI3YB4fHYrG+vj6GYYDJwCzHMIzBYBgdHfV4PGDUeyLtLeRA4L9oNBoKhRwOR19fn1KphJkHmPOlaVqlUk1MTJCHVQVclHx0AbEvH6pinahABSoAj3W32z0wMHDy5MnBwcG+vr7x8XF8yFbgxcYuVZ8Ca8E+mNuNRCKtra0KhYJPb/W8GJyFoiiTyeTz+Yh5LwPpQqFQMBhc/p0UgGPBWHjz5k2lUknTNMR54XkerIDDw8P4UFrm/kXsW0Yc/AkVQAVQAVQAFagKBdaIfalUqre3d49cLggCWXtXx3KdnZ0+ny8cDpPJ3IWElwGCGR+hfMaXgUAgFovNzc0ZjUapZbGe5xiGmZycRPJb6q5F7FtKGfweFUAFFlEA/qyXvi9SCL9CBVCBclNg1dgHB16+fFlqeGMYRqlU2my2cDi8KLdJMW4hCEq/gZLSb2A/EAiE09vo6CgxMfI8z7KsWq32er1Ifoveg4h9i8qCX6ICqAAqgAqgAlWkwOqwD46yWq31PMdxj6LrMQyjUqkmJyej0SjBu4XcJv2GFMvYWaoMIb9QKBSJRAYGBmia5rhHOT8oimpubkbf3kVvX8S+RWXBL1EBVAAVQAVQgSpSYBXYB1Z/j8fT0NAA4TxhPZ9arZ6eno7H42RiNwPmFn6U4p10X1oy43v4CAVisdjJkydhchk8PCiK6urqikaj0K8qupBP6ipi35MUwt9RAVQAFUAFUIFKV2B12JdKpUwmk0KhIEv6fnDjtdvtxM4nZbXl96WEB/sLy0u/zygfj8dHRkZISwRB2L1796effoqhBjLuXMS+DEHwIyqACqACqAAqUHUKrBT7oLzH41EqldyP07sURR09ehQC8mVgGXwMpLdFA7gsBXnkQDiKWBCl5YPBYDgcnp+f1+l0sMQQAgeazWayELnqrugSHUbsW0IY/BoVQAVQAVQAFagaBVaBfYlEoru7m7hTMAxjNpsDgQAAGYm6Qj4Gg8F4PB6LxSKRCKTfAKSTFiCwKKU6KB+JROLxOLEjkpKEC6PR6NzcnFqtJq7E6NW78P5F7FuoCX6DCqACqAAqgApUlwIrwj4oPDQ0JGU+k8kkZb4MLAOX3rGxsU8//fT48eNjY2Pz8/PRaBSsd1LIk1IguOvabLahoaGjR48ODg5OT08T8ss4CqK6WCwWnhcdTOC9nuecTid69ZK7GbGPSIE7qAAqgAqgAqhAlSqQPfaRkmq1GvJkwIzqxMRELBZbiHHBYDASifh8vp6eHoqiFAoFpPnR6XRXr14lDCfFREJ+iUTi8uXL9byYipeiqD1yOc/z58+fh3Qd0kOkNr/e3l5I/svzPEVR7e3tiH3ktkbsI1LgDiqACqACqAAqUKUKEJjTaDQAcyzLajSaeDyeoQiU7O/vJ/4TXNq05na7F13VFwqFXC5XS0sLoBhJ1EtRlEaj8Xg8GUY7AnPhcHhyclKtVjMMA0cJgsBxYuaP/v5+KJZxLBj8pqam4FwkO9z169eR/OA6IvZl3M/4ERVABZ6gAFkiDTtPKI0/owKoQDkosFLsO3jwQ2JRo2n69OnTxG6XgWJ+v1+v11MUBd6+JMwKz/OQrtfn8xHzHlkRGIlEpqamMtL7kkV7e+Tynp4eckZCisTmZzabwbdDEAS5XI4uveQeROwjUuAOKoAKoAKoACpQpQqsCPuSyaTJZAKuYllWq9VmoBvhsHA47PF4IG0uRPWrY8X8abAP5Dc+Pg6L/Aj8gdHu6NGjBBY5LvMoo9EYiUQIJhLWhGPHx8eJcVEul/f392MkF7izEfuqdIRjt1GB1SkAa3cgCoPf7w+Hw6urB49CBVCBklIgS+yDYg6Hg8RtoSjq+PHjQGAZEEbiqsDkLGRO02q1ZrOZZNRQKBT9/f0ktjOht2Aw2NTUBGRZx3IqlcpsNhNYpGmaYB9BTLITCoV8Pp/BYIDZYZqmDx78EGarof0lpXyBG4PYV2DB8XSoQLkqAI/L6elplUql1WobGhp4nj9+/Dj+DV2uVxTbjQpIFFgR9vX29sLCPo7jBEGwWCzEJ5ewF+xAOD3CiHUsp9FoTCYTwT6Kok6ePJlIJEhAPjgwFAo1NzcD9nEcp1QqTSYTWA3Bg6SxsXFRax+E94vH44ODg2QaWqFQ4PI+uNqIfZK7HndRAVRgaQXgf4XJyUmaputYMfelXC4/fPgwYt/SmuEvqEDZKJAl9qVSqVgsptfrIRsbTdONjY0LvXfJdC1M8gLkkUlemqZhH1x0wZ+XBH8JhUIwUXv8+HGp1wg5CrDPYDAQE2MGa4Lv8PXr16VwCcv7oJtlc1Xy0FDEvjyIilWiApWoAME+8PITBEGhUHR2diL2VeLVxj5VnQLZYB+UsVgsBKfAmYPEbVmIX8Bwra2txLVW6tJRx3Ktra1+v59gIqkhEonMzc2pVCqS7ZeY+up5cZ3f6dOnl7L2kdpMJhOZ5zUajdFoFP15Efuqbmxjh1GB1SlAsA+ewoB9aO1bnZh4FCpQagpkg32JRCKVSp0/f14apdlmsy2PXwBh7e3tZMqV53l4gOj1egjjTCZ2yerAQCAQjUbtdrtWq4WpXj69cZwYw294eDgWixFGXLgD9kJoKqwsVCqVLpcLsQ+xr9SGHrYHFShRBeB/BQipQJ7aiH0lerWwWajAChXIHvsGBgbkcjkE0qNp2mq1LjPZKuW5vr4++seNYZjGxsapqalIJJKxqk9KfvF4fGpqCmx+cKggCJcvX5aeEbAy4z0QCMTj8bGxsT0/NpVhGKvVitiH2LfCkYHFUYFqVQCtfdV65bHfVaFANtgHoTo7OzuJ3S4D+zLYiwAc7ITD4ampqVOnTvX3909NTfn9fhJ4b+GBxIAXCoU8Hs/o6Oinn346NDRks9mInQ+OIiWlO4B9o6OjgH0QvW9iYgIXpSD2VcV4xk6iAmtXAK19a9cQa0AFSlaBJ2IfFIhEIsSfA1wryCSvlLqW2o9EItFoNBaLQXa1hXY+OFBKgRAFhhy10DooLUz2M7APsrShV0cqlULsK9kxiA1DBUpLAXjoT05O4tq+0row2BpUIBcKZIl94XBYp9NJU/FKJ3kJdRE738JvIOon4cKFBeAbUgB2ABAJJkqPyihJysfjcWLtA+zr7u7GSV7EvlwMF6wDFagCBeB/BVzbVwWXGrtYjQqsGvtWZO0DJlsU7KT0JqW6VRQG9+EM7KNpGuKMQk+r8Rqn+4zYV7WXHjuOCqxMAXhWorVvZaphaVSgTBTIHvsaGhrWYu0jGLeQ7aTfSClwGdshqS2j/KKTvIh9OMlbJsMRm4kKlIAC8L8CWvtK4FJgE1CB3CuQJfZFo1Gj0QgrPVaxto/A2VK4llFgGRBcpuSi1j6Konp7e3GSF619uR88WCMqUJEKoLWvIi8rdgoVAAWeiH2k2OHDh1fqySulNynwLfxe+g0BO9iR/iTdzygGHzOsfeDJOz4+jtiH2IdDHhVABbJSAK19WcmEhVCB8lQgG+yDcM19fX3SuH2rXtsH6LYotC3FeQsLS/lPug/YJ43bR9P03NwcYh9iX3kOUGw1KlBwBf5/9r4HpLHs3j8jAZllllmkA7N0mV2GMu2WWTpLp1uEme5u3zymhMz93YZLJnNfXip5klprxfokz3VcIYgEG0TyxOa5VsT6rPgLrrhixbrW+qwV13XzQsimWScENw0hhBCyIb8QsuH+NvnMnL3eaMw4jmP0HIbM8d5zzz33e8+fz/18/xzK9h25yOkNqQSOTgKlw76ZmRkx2+d0OknwZDHwKp4nAK7EYqUDQZTELh12ux27+t5Va/R6/fb2NoV9FPYd3aCid6ISKGsJULavrF8fbTyVQHEJlAL7UMbpdN7jNdhaV6VSjY6OFtmTl8A7SUaM9iSnxH+KiyFf/KykvNFoJHvyNjc3p9NpCvso7Cs+EOhZKgEqgYcSwIxPPXlph6ASOJESKB32JZPJ2tpaOPOqVCqj0RjLp339bcWYrHT0Ji4puYXklPjPRCLhdDp5ntdoNDRon7jHUtgnlgbNUwlQCewpAawKq6urGo1Gq9XqdDqWZS0WC93saE+R0RNUAuUjgVJgH6HK+vr6WJbVarUajUan021ubhI9rxh77ZUX479CDk9y1V6FC4+TI9Dwjo+Pq1QqPp84jtvY2CDtL5/XcvgtpbDv8GVKa6QSOJESwKqwtLSkUCgYhmFZ9u0fv20ymSjsO5Gvmz7UaZPAY8E+r9fL8/w9PvcFyLJsX18fgX0EexFmTgzjcFZ8BPnCq8RHCstHo1GyY0fh2VgsFggEsJuIVqtVqVTt7ffhj4LHPG0vV/y8FPaJpUHzVAJUAntKANOlx+OxWCy9vb1Wq9VsNk9NTdEP6D1FRk9QCZSPBEqEfRjvmUzGaDSCS1Or1fX19ZFIZC9IF4/Hk8lkEVy414VFEGEyn8TQkORB9a2traF5CN0yODhIP1DRGSnsK59BSVtKJUAlQCVAJUAl8HQk8FiwTxCEjo4O4s/Lcdz4+PiuwC4ej3u93oWFha2tLZgA7sXSEdxGaMJCOBiJROLxeCgUcrlck5OT4XC4sAyIQJPJRGDfHaVyeHiYwj50HAr7ns4AorVSCZxQCWSz2YwoUY3JCX3P9LFOnQQeF/bZbDbAvns5r4lc8vl88XhcrHKNx+PBYLC+vp5hmLtqTU9PTzQaTaVSwGrAf2K0J75WnEfJeDyeTqd9Pl9TU5NKpbqjVNpstmQyKYaJoPqWl5cVCoVWq4W7MTXsE/dmCvvE0qB5KgEqgYcSeEI894SX09dAJUAlcMQSeFzYFwgEeJ6/q875yfI8z3Hc+vo6IrkQBi6RSPT29sL54x6vYVm2vf3+4uJiOByGlhYEYSSfxDiPmO7FYrFEIoHCW1tb4+PjBoOBOGqo1eqlpaVkMkkYRERpHhoaIkwkwzAmkymTydBJCT2Kwj7Igf5SCVAJHJoE6PR6aKKkFVEJHJUESod9xJx3YmKCoCuO41pbW4mFXyQSSSaTc3NzSqWSzycS549lWaPRuL6+7nA43G43ODxAW4dcAAAgAElEQVQY/8UfJUC9dDodiUQ8Ho/D4Zientbr9QzDIHAMvElUKpXBYNje3iYsYyKR2NzcrKmpAR69x+ccjd1uN2nzUYnz+N6Hwr7j+25oy6gEnpUEstns0tJS9lF6rGZg8fD5fIFAgE61jyU6WphK4BlK4LFgHxna4v15GYbp7OwkVF8sFoMHWF4D/JAU1Gq1oAZVKhVYwM7OztHR0cXFRYfD4ff7g8Ggx+PZ3NxcWFiw2WxtbW2IFaVSqQD4+EeJ4zi9Xj8+Ph4KhWKxWCQSSSQSbre7pqaG4ziU+irgwPLyMmntMxTv8bk1hX3H513QllAJHAsJYPYfGxvr7e1Fg3CklMahpMfjMZlMiUSilEtoGSoBKoHjIIEDwL5sNuvz+RC9j88nlmUHBwdhbxeNRhP5tLy8rNPpEPUJxcivRpPT/LIsC3IOAUERGkatVrMsq1KpNPl4y+SSu+rcJQzDNDc3e71eWArC1SMSiTQ3NxMVsEqlam1tTafT+IAVaMpLgMI+2hGoBKgEdkgAs38kEtFqtSMjI/hQxsEd5Qr+QBmfz1dTU2O32+kXdoGE6AEqgeMrAYzfUChEduBQq9W1tbXY0GzXduOSjo4O7HuLHdvuqjWbm5tie7tkMrm5uWk2m9vb7wPMIeQ7L0q4VqPR3FXnyEFohEXnea1Wq1arGYapqanp6OgYGhoKBAKSu0xOTpKWaLVahUIxNjZGHXgl747CPolA6J9UAlQCAmbzycnJW7duDQ0NlYL8xJivvr6eRkal3YhKoLwkcADYh5kBX3rEt+OuOmdO53K5xBv1JhKJVCqVTCZXVlbMZjPP8wzDcBwngXfaR4kXpXu8RqVSMQxjMBgGBwfdbnc6nU4mk8SeD24c4+PjxLMYQaQ7OztTqRSeq7zexVNtLYV9T1W8tHIqgbKUACZKv9+P2RmRTosoSgDy/H6/wWC4ffv26OgopfrK8sXTRp9iCRwY9gmCgNjImkfaWI7j6urqnE5nKpUi/rlw14VPrsPhsFqtzc3N0NhCacvsTFD+QmPb3n5/eHjY7/fD84N4/sKDJJVK2e12tVoNypDneZVK1djYGI1G6URU2KMp7CuUCT1CJUAl8JDws1gs+M6GrmRX5EdWi6amJpZla2pqfD4fnW1pH6ISKC8JkIFcupIXD4gL5+fniY8tnDb0ev3q6moikRA7eSDSChx1w+Hw5uamzWbr6uoyFyQcHBsb29zcRLS/eDxOArUgwksikYhEIna7XaVSEeJQrVbTWahI36Owr4hw6CkqgdMrARB4k5OTCoUC5ti7cn6Y8be2tmprazmOY1m2v7+fYr7T22/ok5etBDCWH8u2jzwrru3t7b2jVJIgyWDybDYbwikTio7wf7FYLJlMplKp9N4plUoBOALwEQQJHw6v19vS0nInHyOGwD6GYRYXF6lJH3k7kgyFfRKB0D+pBKgEchIA7Jubm2MYhs8nhmGA/HAW23UIguD3+4H5dDqdQqEYGBggp6goqQSoBMpFAk8I+zKZTCwW6+joUCgUvCixLNvV1RWNRmGQRzAfyQAOFvlFSQA+gD8gRa/XW1tbq1KpxECTYZiJiQn65Vmk11HYV0Q49BSVwOmVANaAcDjc2NhIgmDdUSqh7SVyCQQCzc3NiL8Fk5qFhQU65xL50AyVQLlI4ElgHxny8Xh8aGiI4zgSLRnTQmtr68zMzNramtgVgyC/UjIAfMlkMhaLLS0tTUxMGAwGTE3g+VQqVU1NzdzcHGlMuUj+iNtJYd8RC5zejkqgbCSAZWBqagqEH5lbjUZjx6Ok1+tJlCyO45qbm0ETls1D0oZSCVAJ5CXwhLBPDLZmZ2c5jlOr1YSH4zhOoVCo1eqJiQm/3494foTAI/pfYDvyS47HYjF4h7hcLovFckepxCa/fD5ptVqVSlVfX+/xeMTNoC92VwlQ2LerWOhBKgEqgZxXRzabDQQCJBwrQX5wsiNBVrFRklKppD68tN9QCZSpBAD7gsGgxKUjlUqV/kTE62t9fV2v1yuVSmJyh/05WJbV6/VfQbfNzc1wOJxIJIhdHyK8wNUXatxMJgPVcCAQmJ+f7+joAHeIqvh8AqBsb78fiUSIdUrpDT6FJSnsO4UvnT4ylUCpEsAkbrVaSUAsMonzjxKOILJrMBikX9ulCpeWoxI4ThIATx+NRg0GA3xyMajRRoDCEtuLqnw+X19fH7ZW4/MJcwVcPTQaTWNj48DAwPT09NTU1PT09OLi4sqjND8/Pzk5OTU1NTMzMzAwoNfrOY4j7rqo5x6f266jqalpbGwMewI9ViOF05oo7Dutb54+N5VACRLANOrz+RAQa69fnudZlh0eHqaYrwSh0iJUAsdFAvC+EhtmzM7OYm80nucReBmaUwztTD6V0nqCwAKBQG9vL3Syj4Ix57blvcdr4PuvfJRgEahWq4ELFQoFwzDKAn0uqD6VSnVXrbHb7WQTSHLHUpp3mstQ2Hea3z59diqBfSSAmTSTyZhMJtjw7Yr8ENXZ4XAQFc8+9dLTVAJUAs9UApKhmk6nV1ZWOjs7sQcuiXsMzwyTyYSQKKTJksvJcXFGXMZut+v1+jtKpUKhYFkWdB1BgcgAC5JbF569q9YwDIMampub19fXcbtMJkMxn1jyxfMU9hWXDz1LJXDaJQAmYHh4WPkoIlch8kN0Vr/fT9m+095d6PMfbwkAihGQFAqF5ubmpqamWltbYbDLFyToUjmO6+npmZycXFhYIOygpLZdH52Av3A4PDk5OTY21tXVhQ9FKG3FhnoFN89txavR5JS5LMsaDIa+vr6xsTHSBlL5rremB3eVAIV9u4qFHqQSoBJ4KAFM8dPT08SfVwL7YGTd0tKSTCYp7KP9hkrgeEqAQD00LxqNLiws1NXVKfMMHAnSxPO8RpNTvyJpHu23BkMOKF5bWlqmp6fT6TR50n3hl/ju2Ww2GAwODg4ajUae5+8olSzLqvIJBnz4xf5Ad5RKnU5nMpmmpqZisRi5I51qxKJ4rDyFfY8lLlqYSuDUSQDzNfz7SCwuMfLDejA1NUUn4lPXOegDl4MExJgsnE+jo6MGg4FhGMRYEfNtcN5qeJQQGwU6WZ7PcW+g9u8ola2trfPz86FQSGxdJ4Z3EtkU2hGm02mfz7eysjI5OTkwMGA0GhsaGpqamhoaGtrb79tsttnZ2Y2Nje3tbVIVKilyF1KSZvaSAIV9e0mGHqcSoBJ4KAFMsuPj4wzDIBAXgX1YAxobGxHlgU7HtNNQCRwHCQDqiQFfMBi0Wq131Zq7ao1KpeI4Toz24EXBcVxfX5/D4YjH4wik4nQ6Ozo6cJYXJcBB1FNfXz86OoqduPHtR+6+lyjEDdurjPj4vhWKC9N8cQlQ2FdcPvQslQCVQC6AnyAIPp8PCiCx5bVWq71Dw/XRPkIlcJwkIPn6crvdFoulpqaGBEDhHyWoU1mWramp6enpWV9fT6fTmUwG4ZQRVC+RSDidTqvVqlKpoI0F6/+oDp7jOFiAjI+Pi5m5fel/AuZIhkiRHEGGHKeZJ5cAhX1PLkNaA5XAyZcAdCudnZ2SAH4ajUar1W5tbe07xZ98GdEnpBJ4phIQIyTYz7lcrv7+/nt8zgFWk7fSI+paeMXW1dU1NzebzWav14vgLPF8IrAvHo+TiMrr6+u9vb1NTU16vZ5UyOcTlAAsy+p0ut7eXp/PFwgExJ4fz1Qw9OY7JEBh3w5x0D+oBKgEdpUA+AOPx4M4rlDywqpvYGCAYr5dhUYPUgkcgQQIMYZ7pVKphYUFk8mk0eSUuSzL4tuMf5Sg5K2rqxscHAyFQtgJI5VKSQAfQX6JRAKnsJ1GKpXyer3Dw8M1NTWwDnxUce5/eN2qVCq1Wm0ymcQx/yTtFGh6RhKgsO8ZCZ7elkqgrCSAKTudTre33ycB/KDh3dzcFNMMZfVYtLFUAmUsAcm4SyaT6+vrbW1tDMMU6nPhKgt97vT0dDgcxr5ngHRg9cRQrzCPMvF4HIpgl8s1MDBQV1cHcCn2BebzCSEATSbT8vKyWMqSZotP0fwRSIDCviMQMr0FlcBJkABUNv39/SSAH9g+t9tN2b6T8ILpM5SPBMTIKRwOezye+fn5hoYGYDs+n0hIZJZlOY5ramrq6OiYmpra3t5Op9PF6b1CzCc+Qsi/TCYTDocHBwdbW1tbWlpwI/HdEfOPZdnu7u719fWtrS2ywy+NsfysuhuFfc9K8vS+VAJlJgHoee12O8z7aLi+Mnt/tLnlLwGgPeKxEY/HZ2dnEYpFDLngonuPf6jk7ezsXFtbi8Vi2Wz2CQFfIfhLpVLpdDqbzcbj8cnJyaamJgT843cmMIIsyxqNxsnJyWg0ircheaLyf0Vl8AQU9pXBS6JNpBI4DhLAYuP3+2HBo9VqGYYZHR2lVN9xeDu0DSdbAmJ6TxCERCIxOjpaW1vLsixi7/H5pNVqEWwFrrUmk2l+fh6Aj5jolaLPFcO74nmxjjiTycRiseXl5cbGRuL2S5xI0EK4/RoMhoWFBQL+MIcQOHuyX+UzfzoK+575K6ANoBIoGwlgXu7p6YHlkE6nCwQCFPaVzfujDS1DCYgBXyAQcDqdY2NjdXV1AHx8PgFawTm3pqamM5/E0VgOF+rtCgSB/xKJBDS/8/Pz3d3dra2t0POK28nzvFqtZlm2trZ2ZGTE4XBIYv6V4VsqpybLxF2qnBpO2/rUJEC7RBHRnnLhAPZtbW3BmWN4eJhivlPeJYoMFnrqwBIgG1oQAszhcCD2HrYyk/hPwGkXsfeIrW06nQbDtytKe3oHEeoZpnvJZHJzc7Ovrw+QVOJTzHEcy7J3lEqNRtPb2xsOhyExuhXHgXtOKRc+ZPtI3yrlGlrmBEuA9oRSXu6plRIgTiaTgT+vy+U6zaDn1HaDUsYILXMwCRQOKIfDMTAwAJsKMWzSarWATbC1HRwcJL4asViMcG9PD94VqRl3j8ViIP9SqdTq6mpvby9ivpCwL7BBFMf8s1gsLpeLiA7SoAONCORQMrJoNNrd3W0wGOppohKor6+rq+vs7KTRd3cdXZlMxuFwdHV10fFSU1Nzj9fU1dWd5kGDULezs7OwnaKL066jhh4sXQKkCyUSifV86u7uhjGcxEIOStKGhgaz2TwyMuL1elP5dATK3CJob9dTgICIDri1tdXb29vd3d3Q0EDAH/8oaTS5sNI8z9tstrW1NQn+K12MtGRxCcgsFotSqVSr1fC+ob+nXAJ31Zrbt293d3dT5Z145GA6drlcCIh1yjsJx3F31Zp7vIbKQa1W37p1iwasFg8Wmn8sCUgUmolEYm1tra2tTaFQ3FEqxeH3wI2B4dPr9TMzM6FQCHxYKpV6JvrcXXHergcB/lKpFObSQCAwODiImH/Y6o0wfwj4rFAoOI4zmUyLi4vJZBIixT4iBBw/lpxpYSIBWVNTkya/ZwufT1qaTqsESAdQqVRms5l0EZohCHh+fp5lWUxPEBf9PY0S0O54aCxOAk1UAo8pAYk+N5vNzs3NIfYex3FYiPhHSaVS3VEqGYZpbW1F7L1MJpNMJp+5PndXkLfXwXg8HsunZDKZyWRCodD09DQ2CwbGffS4PKZZlUrFMIzRaFxdXU2n00TAEtGR4zRTigRkzc3NZLclOH6T+DosTadJAmq1GnoElmW7urpK6T2npwy+LxcWFsQ70mKPI8RHpb+nSAKsCgb1GC8qlcpkMp2esUCf9MklAIYP9UQikZWVFbvd3tLSolI97Fo8z6N3kQ3WOjo6+vv7x8bGwuFwNptNJpPP1npvL2BX4nE0HuAvEAhMTk5arVaj0SiWAP8ocRynUqlaWloWFxeXl5eDwSBER8Ef5PC4v1/DPo7jGhsbx8fHR0ZGRmk6TRIYGRkZHx9vaWnBJyaFfYWjiMA+mJ4gAEFDQ4NtuJ/+O1US6B+2vjdmM5lMxJWSwr7C8UKP7CoBiT43EAgMDAwg2PIdpZL0KJ7PcV0k7onJZFpYWEgkElA7lDvgE+NCieY3Foutrq6aTCaWZaHdFqtWOI5TKpUKhUIS808i1V0lTw+KJfAQ9sFLCBxPKpWCBp3+ngYJYHdtQRCsVivDMFqtlsI+8QhBvhD2qVSqNlObP+7d/uIzf9xL/50SCfhinvCXgakP7YwyN1iwVQll+wqHDD1CJFBISvn9/rGxsdraWrg1iPW5cGtgGOYer2lvv7+2toYNcBOJRHnpc8Xwrnge4I+4/cbj8YWFhc7OTo1Go1AoGIaB8R/QsFarFcf8I2Z/wMSYqInkaWZXCXwN+1iW7ezsRJRtvAb6e0okEIvFkslkT08PDNco7CscKrvBPq7N1OYJOT1hZ+6X/jsdEnAHHduJLfvsOKNk+LyRH2X7CscLPUIkQIBINptdW1ubnZ0dGBjAZtbi3TV4nocrQ01NTW9v7/Dw8ObmZjKZTKfTWIaKI6eTcZY8aSaTSaVS6+vrAwMDfX19wMcE/PH5pFarGYapr68fHR2dn59H3HgK/kjHK5L5GvYxDNPZ2Ymd9U5GH6JPUboEUqlUb28vhX17DZW9YJ837KL/TpUEPCHn58kHFPbtNVLocUhAbL2XyWQ8Hg8mWNBXJBoLeD6EMuZ5fnBwMBAIwHfhWQVbLn3VeHolgf8gh2w263a7u7u7a2trVSoVIhcS5a9arb6jVN5RKvV6fXd3t9PpJD0Q8aIJ7CbHaWYH7Ovq6qKw7+l15WNbczwep7Cv+FxAYd+pwnZFHpbCvuIj5ZSflehzEemztbUVekmipuTzCcZqSqXSYDCMjo56vV6Y3MDd9RhG4DviJYzIAYZnPp+vu7sbBmnimH9i6KzRaPr7+xFGnnRFyUshx09tZgfso2zfEXfr43M7CvuKTwEU9hVBQqfqFIV9xUfKqT0rxhbYlMJut5tMJgL4iHMu7EEZhmlqahrLJ4THT6VSRMt5fJaG49ASiCUfjjrldrvtdrvNZquvr2dZVqL5hR8MYpDZ7XZxzD/xCzq1vRQPvgP2UbbvOHTxo28DZfv2nQUo7DtV2K7Iw1LYt+9gOVUFoMzNZDJ46lQqNTs729DQwHGcQqFQqVT8o0QcgO6qNa2trXa7PRQKkaso4Nt34QP9mUqlBEHIZDLhcHhqakqv17MsWxjmkGVZ6NNbW1vX19eJ5wcN+CwIwg7YR9m+fXveSS1A2T7Mv3v9UthXBAmdqlMU9u01Rk7bcQl7FI/HJycnEQYLaI/Yn93jNSqVSqFQqNXqpqam2dnZZDKJ2Hsn1Tn36S2URPMLfxe/3z8zM9Pc3HxHmUuFOBsx/xobG2dnZwEZ0VElr+9U9d4dsI+yfU+vsx7nminbt++Yp7DvVGG7Ig9LYd++g+XEFxAjhkAgMJpPTU1NDMOIY+/x+QQg0tXVZbfbV1ZW4vE48dWg1ntPsiwSzW82m41Go9PT05OTk52dnSTmn0SrzrJsa2vryMjI7OwsgiCeWrffHbCPsn1P0gvL+lrK9hVfqyjsK4KETtUpCvuKj5QTfFYSFtjn842Ojur1emyeCz1jHul9vbEYx3Fms9nj8UDJmMlksHMuBXyHtVwS5Tg6Hon5hxA593gNOFf8QvPOsqzBYLDZbOLdPuD2e4J7r/jRdsA+yvYdVl8sr3oo2yceErvmKew7VdiuyMNS2LfrADnZBzH8yTMGg8GhoaF7vIZhGEk8EY1GA6sylUrV09PjdDoJvQd9bnktDWXUWmz1m0gkEPNvY2Ojvf0+Aj6LPT+A/+6qNYj5Mjo66vf7yZsF/yf+80Tmd8A+yvaVUS8/3KZStq/48KawrwgSOlWnKOwrPlJO0lkoczH2s9msy+UaGhqyWCw6nY5lWY1Gw4sS8dgdHBycn59fW1sDBAG9d7jTNa2tiATA/6XT6WQyub6+Pjs7a7VadTodx3HklYEFBEbned5isQwNDa2urqL3ipX4J6k/k2fZAfso21ekM53gU5TtI+NhrwyFfacK2xV5WAr79hojJ+Y4Vn3inCsIwsbGhtFo1GhyFBEYPj6fiOqQYZi6ujrE3sOFRJ97gheO4/xoAH94F6lUKhAIgKBlWVayOQrP80w+sSzb3d3tcDhITz6pAZ93wD7K9h3nfvxU20bZPjLUd81Q2FcECZ2qUxT27TpATsZBCc2TzWaXlpY6OjrgiksMxfh84jgOcKG+vn5wcBC6QsTeo/rcp7palV453H4TiQRi/nm93tHR0draWsR2UavVeJUIo012zGttbd3c3BR3acz/4iNlnd8B+yjbV3p/OkklKdu37ximsO9UYbsiD0th376DpewKiJW5giDE4/HR0dHe3t6Ojg6GYbAhGC9KqnwyGo1TU1MrKyvBYDCbzSaTSeJecJJWh5PxLHg1qVQqm836fL7FxcW5ubmWlha8X9G75QHx76o1JpOpr69vdXWVhH2R9JOy6+ekwTtg39Nm+yB68vts+9MRN+OIb/e4sqVsHxkSu2aOEvZ5wk5P6DH+FcEoBz71dRvCzgNXsteFucof/durjPj4XoX3Oi6+9tDzFPbtOkDK9KCE3guHw9PT00ADDMOwLMs/SrADQ2Tgpqamubk5xN4rBfCRyb+UzONO3QcrT1pysMvL9ypwHJjPA4HA5ORkW1sbiFuWZcleyWD+EJGnoaFhdnZWrPSXdJuy6/w7YN/TY/vAtSK+YiaTgbklel7xDvT0HN1TqRSaUbwBBztb2Gw8eyqVOliFT/UqyvbtO26PDPZ5wk5/7O/bX3xW+r+tiPtwwY0n7PRFP0UDfFGP51CR31bE7Y/93Rf1+GIeX/TT/VseceVK5gp7JIV9UU++qhIqCbsk1x74Twr79h0sZVEAIxpN9Xq9m5ub09PTNTU1JPYeCfyB/b60Wm1HR0dPT8/y8nIsFiOme/uuYslkEjtDlPJ7ZAvEU13+nupq9eSV45XFYjGQf8lkcm5uzpRPQHuaR846xHZTpVK1tLTMzc05HI5IJIJuU77gbwfsexpsHwAfkHIkEvF4PC6Xa2trKxQKYX9l4nctfp3iSNzi44eYDwQCPp8vEokkk8lDrJYAXEmdoVAIT324t5Pc5cB/Urav+Fp1NLDPE3ZtRdx/+3T5w4/mSv/n/PzjQ0R+nrBzK+L++MEaGvDxg7WtqPvQkF/E5frHJ3/7dPkj71/XPSsfP1jbF365g46PvH/FP0/oa+rRE3Z+/GDtb58uO/wfeSOHhur2bQ+FfcVHyjE/K4m95/f7h4eH1Wq1UqmEsT//KGm1Wo0mF6JFrVYj9h6UfYSzKGWyTSaT4XDYVXIKBoNQFpdS+ZOUCQaDW1tb4XD4yNYjsqY/SbMP91oC2eG6kclkVldXTSaTVqtVqVRi5o/neTCCd5TKuro6m81Gwr5IetQx7/9o3g7Yd+hsH2gkQRCWlpYaGxuvX79+7vlzMpns/AvnX/3uqxzHwWsmm82K6TFyFRxwnka/TCaTN27cqKqq6u3tFQQhFosdSn9CiCZBEEKhEKkzFosJgsBxXFVVVXNz8yHe7lDajPgCFPYVH65HA/vcQUf4y8DtO/9cUXFGLpdXVJwp/g9lRt8fDqb87pBjX8hSSgF30BHJBltNLbJ8+mVLXSQbdAcPoXJ30BFKb1uHeqq+UfXyK5cuvnjx29+58qe1P/rjXjGeI410hxzBlP+90d9efPHixRcvvvTSN9c9K/7Y3z0hpy/q+cj71x9Uf7+qqorhlIf4+OTue2Uo7Cs+Uo7tWTG9JwiC3+83m82SoL58PgHtMQyj0+kGBgY2NjagqyHARbxaFZmEMfNPTU1hKBX/lcvlMpmss7NTEIRoNFqk2ic8hVapVKqqqqqWlpajWY/IyphOp0uU3hM+5mNdTt5sOp1OpVIej8dsNnMcx7IswzB31V9H6tFqtWq1+o5SWVtbOzY25vP5xB2+XPi/HbDvcNm+eDyOb53m5ubKyspdO/35F84bjcaVlRU4QBEI4vP5xsfH7/Gajo6ObDZLINRjvcsihZPJ5MuvXJLJZCaT6bCGGdCqy+UaGRlpamoiPCKG2Y0bN2QymU6nO6zbFXm6A5yisE88egvzRwb7Itng2z9+e9fBstfBEfvQIeIewL5/b2/C7X7RZIgIhwb7wl8GunpN4gfpH7aG0tu7wsqcvjvu/aefvEXKr7r+QmDfumcFQ7j65g/Dmd1r2Au6PclxCvsKR8cxPyIGfC6Xa2VlpaenR6vVElsuwuuA0amtre3p6enr69vY2ACXQ2ihx5paMfNPT0/LZDKgOtKT98p0dHQ87QUCraqurpbJZDU1NU/7dmRNdzgcw8PDdXV1TxXUPtYLKiyMF53JZJLJ5Obmps1mM5vNer2edBU+nwD+GIa5x2sGBwdXV1c3NzdJNyOZYzsudsC+w2X74vF4JpNRq9Xo4hdfvNjV1bW4uLiwsDA3N9fd3X31tas49e3vXMlkMvgIQKccHx/HqdbW1qfxOZJMJq9cuXK4X1doeWNjo0wme+ONNwhJieNYy/V6/REMs8LeXPwIte3bd3weDezLG9V5/vjX6T988Hvyb3J+wmztJCNl6kP76PvD5OwfPvj9xw/WfNFPD0sPC07uN/9p/vZ3rnz7O1c6LR17wbLHBU/gMvEs8nyqqDjzm/80B1P+QrbPE3Juf/HZ5PwEHhwL598+XRbDvsvfuiyTyW7+6OZhtbCUJ6Kwb9/BchwKAK4RM/xsNruxsdHa2qpWqxUKhdg5l9hvsSzb2Ng4OjoKCiebzYKaOjA7hZkfsE8mk924cWNlZWV2dnZ+t7SwsDA/P+/1ep+2khetuvmjmzKZrLa29gjWo3g8ns1mDQaDTCa7cOFC8cXoOJzFG0+n04IgZDKZ7e1tScw/9Bme5zX5TVlgIdDT0+N2u0mXO84x/3bAvkNk+/Cml5aW8JVz80c3iS6cTArBYPCll74pk8nOPnd2YWEBrB6sZScmJrAwtLa2ZjIZ8n0AML7rOCSnCs+KT9YYlhgAACAASURBVMGUMJlMYs0AqY4wS6TYrj2P8MC7nk0kEmh5Q0ODXC6/+aObpDyG2ZtvvUm+riKRCLlj8QhPpBK0rXjhvRpWynHK9pFuuWvmaGCfN+zyhJ3bia1gyh9M+YIp/+fJBzEh/OFHc0A/P6j+fkwIf558kC/wsAzBfA/9f/MeGDt8gR/5ZORcX3f1EX5UgOCerWjO8ULiMLFn/fk6ybV7ZcSw7/wL58HVMZwykPQVwj4U1tf/TCaTVVVVFYd9lO3btdOezoMSRVs6nV5cXDSZTHfVuW3TSIQ2Pp9UKtUdpVKlUtXV1Y2NjUWjUWzthWWicCkpZS4lZSSwT6VSAUYUeS9EB0pmflKbJFNYQLxGkLWscMnYC/aRSyQ3Al2Hs7ueImuZuAHiktDw1tbWyuXyy5cvo+USDR65O8kUtlxc5xHkiYQR88/j8YyNjdXX199RKu8olRzHoQuRHqVSqTiOMxqN6+vrYsJP0iGLvP0jO7UD9h0i24e+pdfrZTLZxRcvut1ufFVgOMViMQywmZmZ8y+cl8lkCoUCTky4cGZmBusclLDEbSqdThPWXfzioVCGfIm+GAWIww6RPga2GPZFo1GY62azWcnlqISYGwqCQGg8SQMSiYQgCC0tOaOoN996E68wmUziiQjswy2w9x86x653xGDDBwdajsLpdFoyYMTNOFiesn37jrcjg3055BdyukOOh/+CDn/cO/WhHcPh2vXvfZ584PrHJ18XCDnA8wEvBpI+8GGBpI/824rmXH1RjBz8PPmA5H0xjxh4gXT8PPng8+SD3KlHoBDlfVGPO+jwx/5OLg8kfdtffLavcaEY9l24cOHX7zRUVlaee/7cB0vvbye2djQglHNnXvesvPTSN+VyOcMpKezbt4vSAmSGR+w9aJZMJhObT/zOhEW6vf1+f3//9PR0OBxOp9ME4hxsIpVchZmfsH0Mw2QyGXzzk3VQkgHQhKIMa4SkTvInZiSiJcOFOEjWC7JkiPErWlXI9pGryC2QweqAs5K1D0wHWcuI/MXG+ri1IAj19fUymezlVy6ho2azWXIjQD3SAFLPXisjufBoMngEYA+fzzc0NDQwMNDc3IwPBlgIEDsB9CuTyTQ3N7e+vp5MJsnz4nXgz2f7uwP2HSLbh771xhtvEEiH7i5+T/F4HL4OMpns0qVL4XA4lUpFIpGNjQ2z2Yx1Tq/Xb2xsLC8vR6PRbDY7PDxsMBhsNhvp7gQeeTyexnza2Ngg5Hw0GhUEYXNzs6Gh4UY+NTY2Li4uZjKZy5dzGiKwfel02m63N+TT6uqquHLUn0ql3G53c3NzU1OTw+Eg32TkcZLJZCgU2tjYuMdrZDLZtdevraysLC8vBwIBwEEC+wRBWF5e7ujouH37dk1NjclkCgQChfaLQKtut9tqtfI8f+31azd/dNNoNLpcLkEQ0Cpy9yfPULav+DjEiF1YWGAYhs8nlYprM7XtxWwd1nFPyBlI+j5Yep/Avl3N+ADU3huzdVo6JucnQunt/mHrTzX/51//7V/eG7O5/vEJ/HO9EZd9dvw/Ov797R+/ffW1qz+o/j6v4zotHTlXibgXuA3a1Znl97t6TV29pqkP7TmXi3yYvZ7f/qar1zS/Ohv+MvCR96//0fHv//STt+789CetncY/rf0xmPIXf2ox7Dv73Nk/rf2x+uYPZTLZv/7bvwSSPjFqxFO3dhplMtm558+B85PL5V8reWOev326TJW8xTvtKTkrcaUMhUIzMzONjY0KhUKZZ/IwYAkrw7KsSqVqbm5eX1/HGgRbrkOfVAthXykGS6Aw5ubm+vr6xsbGdv3IR0Dp/v7+xcVFYCNAk+XlZavVqtForr1+7fr16wzDWCwWt9stxk+7wr5kMtnZ2dnY2NjS0hIMBkl5ANCFhYX6+vq2trbt7W2ig47FYtls1u12j4yM8DxfXV197fVrHMe1trYuLCxgDcWzhEKh9fV1lUoFDggr4/r6OpYtcIGZTGZ2dlar1V6/fv3GjRv19fXDw8NwNN5VAk++5D1uDcCmiPkiCEIkEpmcnGxtbb2r1qhUKtK7eP5hwGfYEjQ1NY2NjQEDAB9D+ftsx+YO2HfobN/t27eho/F4POC3ITtCCycSCbfbPTs763A48Ong8XgqKs5gkRP/bm9vC4LAsizh0khvQD9eXFxE+dHRUYwuAO2pqalLl3LeG+I0Ojp6/fp1CexDgZ6eHsngRP3d3d1YhPx+PxkV6DoosLy8LL4F8iMjI3jZgH1NTU19fX2SYldfu4pNoMkTYTJaX1+/cOGCpPCFCxfMZrPkq+txe7CkPGX79h2Exx325dHht7+TM1fV1/+s57e/QbfBUHrX/E5MCDs//xif+JIelftKuf495+cfw6N2F5eObNATcrr+8cnZ587KZLKe3/7mDx/8XtIzzz1/7l3zO8UDqYhhX2Vl5Z8/+dN/dPw7CADn5x8TVTX4zu3E1g+qv19RceYH1d//9TsNlO3bt4uewgKEFsKzR6PR6elpnU6HoMrafCLrMcuyCoWC47ju7u6VlRWom2Ccg1VJMis++Z9YFwrZPqI9xDoo/k0kEqAqOI5Dn19eXhaTAgBby8vLGNo2mw3UpiAI7e33C4c2zOkWFxfJooZWSdi+VCp18cWLuNzr9RJeA43p6uqSyWSVlZWE8iBrIgwwJPeVy+UTExPQ7wmCMD8/LykAy65MJhOLxdLptMfjYRimsMxdtQbBDsVs5ZO/lyepgWioEY4xlUrNzs42NDSQGECE9iM2owzDNDU1TU1NkYB/gATPkPzbAfsOke3DV8LY2BiWijffetNisczPzxM7x1Qqhe4O7SrUuMlkMhgMGo1G0gmqq6uN+RQKhQRB4HleLpcrFArSiTFuESMG5oDj4+MgkCORiMlkgnHhm2+92dLS0tjYaDQav/2dKy+99E30ciiRoeS9detWRcWZ69evh0Ih8k2D75Xt7e1Xv/uqTCaDZ7GkF+J7xev1Go1GoMmXXvpmS0tLU1PTxsYGHhDD7Nrr186/cP7mj262tLQ0Nzfr9XrouC9cuDA/P09IymQy2dfXhxa+8cYbaHlLS8tddY5KrKg4YzAYxBJ4kn6MaynbV3zVLAvYd+369yoqzlz+1mX0+WvXv1f1jarzL5z/8yd/cvg/YtW5iRXk2c9/pdfX/+wXTYY7P/0JClff/GEuRF/E/TCAS6cRsWN+/U5D5BHsq/pGVUXFmeqbP5TL5RcuXNDX/+znv9L//Fd6AgF/N/FfuxrqgQUUw76zz5398KO5//nfxapv5Oz2en77GzGL6QnlfHhB5v3mP81w/qVsX/EueqrOigHf1tbW7Ozs4OCgXq9XqVTicBv8I6N7juM6OztHRkYWFhawuwa4PclM/uQTqbgGCezjOA7rfZE3RZYzk+mhw/vw8LB4qscnOs/zcGaCbjoUCsGVsLKysra2trm5Gbwdz/OIoXH1taterxdsxV6w78qVK1hAt7a2COxDYYvFgiHvdDpxKpVKDQ0NIRybQqEwGo2NjY1NTU0NDQ0gWc49f25ychLxUNxud0tLy7XXryF2G5RmXV1dCIvj8Xhg4o+AMo2Njc3NzXV1dZhVFAqF0+mU8CxiIT+rPPlUgNnV0tLS8PAwQgJJYv5ptVrEgqmpqZmYmJiZmYHK7hmCvx2w7xDZPgwqQRA6OjoIij/73FmAmOXl5WAwSPi/SCSC4QdRir8Purq6MEjQ/zSaHO65ffu2eCTg1NLSEm40Pj4OcEkCJt380U2iYkdQPYRTIQFcAMOnp6exBA4ODpL6UXlvby8I6u3t7V27INovCEJra6tMJnv7x2+j2el0Gh9M5I5Go5E4+wiCMDc3B+RXXV1Nxrzd/tCW665agwagtmw2q9PpyFegRBl94AFA2b4iEzGRvCAIx1fJm2f7iGv8Sy998w8f/N4ddPz5kz9NzP53+MvAv/7bvwDzvTdmiwnhSDaIf+EvA79oMoA5MFs7w5lt5+cfF8btA9uHjor15uMHa+HMdvjLwP8TYl29uY+rioozvI4rHfZNfWiPCeHbd/5ZJpP9oPr72A7Ekzdt9Me9f1r747nnz1V9o8of975rfoeyfft20dNQANwPoUl8Pl9XV5dWq1UqleL4auD57qpzwZZ5nu/v73c4HFgCiPLxqQI+TMWYugnbV11dPT8/Pzk5Ob1HWlhYwLqZTqe3trZApJlMJsL2gUzZ2NjAOjU2NoY1FBixsrISK5e4J5jNZhRGaBiYEgqCUMj2wepJLpcD9okfAZquqqoqILB0Ok1UWzqdTrycCYKwtraGll+/fh3ShuQBTC9fvkyaB/0eIOy5588B4JKzKysroFquX79+4KXtCC5ER4IQksmk1+vt7u4GztNoNGLK+a5ao1QqFQqFRqMZGhoiTq4SKwUigaeX2QH7DpHtI99S6XS6pqaGID9k5HL51deu6nQ6ss8x0W+C9RUHcEmn05FIBOCpRNgHTwi4A8tkMmDHcDgci8XC4bAgCMR2kLB9gFxQk6lUKjI7JBKJVCoFFS3Cr5CmSroUWt7QkFNI3bhxA24r4IQFQQDsq6g443Q6YRkQjUbR7/F5dOHChUAgAL+WN996s6LizPkXziNoezgcjkQi4XA4Ho9HIhGwIHfVGtD7kmYc7E/K9hUfY2XB9hHY996YLSoEvWFXbp+3xJY76IDb7O07/4xYJ65/fOL6xydQrf7P/y6ef+F8RcWZTktHJBsUwz65XI5wzWLYV1VVter6y+fJB+6gI2c1mN8549r17+Fr5/PkA7FzhtjaT8L2fbD0fkwII7ARHDtwrTuUi+oMqMfruKjwMHY0ZfuKd9ETfFbM7eExNzc3LRYL9LlYXPlHieO4O3kUiPB7LpcLoVgwwx8B2iMzsBj2AXtJ1kHJnxcuXCAKn0wmAz3vtdevEZMeVNjW1oYLV1ZW4CAIFdPNH92E2jSST1gvgsHgy69cqqg4g1BoWHRKgX0QFO4ohn3AcGA35HI5QpZghcIiBaWcTCa7+tpV+HbATr22thZG/ICekUgkk8lsbGyAMmxoaAAjE84nKPdsNhvkRgy3iGyPW4Yo7uEY5HA4+vv7tVqtQqG4o1QSBhoo8B6f+yDRarVms7kw4PMRDOQdsO9w2T4gP3hp9PX1mUwmnucLTQEUCkVfXx9BMOhnExMP43W1tbWBeMPxEmEfPgqbm5thOeTz+QhFB4Xs6uoqehuBfajfZrOBiIbbBwwp7HY7qPLp6WnCAhZ2O8SswTcN+EWUQc34unr7x28DNYpnH1DclZWVfr8/k8kEAgFoxq+9fm3XHoBGnnv+3ObmJmHjC9tT+hHK9u0qZ/HBsoB9UKNcu/49RD8m8VY8IecfPvj9u+Z3Jmb/G364vphn+4vPch64iS1vxAVzgl+/0xBM+cWwTyaTiWEfBq+a/2kOSj7aFAR7aYBNvPra1ceCfZFsEPDuq3E6/H9/l9PzBh1bEbfD/9Hlb13O6YnmJwj1uAP2RT3rnhXi0kEDuIj76knKSwDf/Pz8xMSE1WolbAovSmq1mmXZpqamoaGhyclJv9+fzieijyt9SjyUkpj5wfYBvkCLWvhbWVkpl8uvXLlCwlmAUTv/wnm5XD4yMkKim31lzgQO4uKLFz0eD0DG4uJiX18f9NfRaBRmZyRYDL4GDQYDKoHh+C5sXz4KZilsXyqVQuxlm80Wj8fJHQGvBUEwGnPOWFeuXIlEIoABJG7fy69cgmyxtiLwxeVvXQatI+m6c3MPA1cdz3i3u3YSrOxw+3U4HGNjY6Ojo3q9nuz1TDosAX9Wq3ViYgJ8ENH8EkpbIpND+XMH7HsabB9QDtqaTqcDgcD8/LxGowGvRj53oJkl3NgTwj58ZOAWDMMQzIf3BKoca6R4M5xkMhmNRnFcrVaDk8tms3BMqag4I3G8kLz14rAPY3XX8Jhi2JfNZgOBACDpzR/dtNvt46I0NjY2NTVlNpsrKysrKs4MDAwUgaGS5hX/k7J9xYdTecC+POWmr//Zju3UIi5vxLX9xWfBlD+SDSLqyqrrL/Ors++N2fT1P7t2/XtYk/713/4F0WHESGsH7Mvb4UEXTPbVyNkCCsFfNOVisb78yiWH/6OtyO57+ErYvpnl9wNJ38cP1tD/zdbOQNLn+scnwZTfOtSTs+W488/BVA6YwqV3B+yjnrzF+2uZn5UEW47FYktLSx0dHQzDKBQK4k1P3DWAAknsPYxWTPviD+zic+ChnxXDPtgmBYNBt9vt3SP5fD7SBlwLwg9RYHEqGo0CxtXX15PJX+IcGgwGNzY2EK2wuroanIVKpQJHIKYhyHqUTqclSt692D5UAlhDTBUjkYjT6VxZWenq6mIYBt+HF1+8uLW1BSP+QtiHxwFPWV1dPTk5KVroctmpqanu7u5zz5+Ty+WknUQ+xzyDLw1oHQVB2Nrawt5dCO9C+i3cftGr7/GalpaW9fV1MnYlJg3k+JNndsC+w2X7yDcHYtdFo1EwbRiTwWBwZmYGXQ3eRqFQCF1EEIRDgX1QbNXW1kps4NAMOAWLYR8+ODDSLl26tLW1BUL71q1bMpns29+5Inb1KOx2pcC+mpqabDZLok+jEjHsE7N9BBPvlenu7iYjv7A9pR+hbN++A6mMYV/eWs4X9QSSvt9N/NcvW+qqb/7w4osXC7VO+vqfbSe2XP/4hMA+KdtHYN+XgR2wLxv8+a9yETpfeumbf/t0WeyTW0TJO7P8PkjHn2r+j0wm+6efvJUL4xJ0BJK+Oz/9yVdzQv+w1R/37g77KNu3b5ctzwISei+RSCwvLzc2NjIMIwmTwfM8x3FAgfX19XNzc6FQCKFYiMat9DnwaZSUwD6WZRH2NZ1OZzKZXX9JM0CGYR0kLrTZbHZhYQEwbmlpiVgiYZ1aXV1tb79/+/bty5cvo4x44eA4DtTgrrAvlUpJYB9agsJiJa8YO7pcLovFAhIHVIX4jhdfvIioF3gW7NJB2D6QLNAziK/aNa/R5CyaJOsmkdWxzaAfksjB0Wh0ZGTEYDCwLKvMB3wWu/3e4x8GgjGZTFA2khEsGRTk+IEzO2DfYbF98H4NBoOrq6t2u534EBGDv1gshp66vb3d1NQEnSb0rfCuOADsI0am8OSNx+OwmQO5Lf7mA9sHUwMx7EMXB+0sk8nggu71egEfrVZrcYxVIuwr7L5i2Cdm+6qrq5uamup3SwaDoba2Fp7R4kc78AA4kWwfsNqBx4b4wvKFfbk4fImtDz+aQ9BjzKqVlZWvfvdVBO1r7TTCV+Mx2L69Yd+6Z+VxYd/k/MTZ586efe5szvsksz05P4El5I9/nfbHvZ8nH1C2T9wVT2pevLaFw+GZmZmBgYGmpiZEY+F3JsTea21tnZ6enpubQ+hThF84lPnwwBOp+EIJ7GMYBt/8oIJ2/RVfjuWSaGOxywDYCo7jCJeZTqe9Xm9DQ4MYQl17/RrLsiaTyWq14vhdtUaM2Ei1WI8KYR/ECCrEYrEgEBvx5E0mk2azGSsXppSXX7l0+/btzs7Ovr4+ECUvvfRNmFftBfsikQhmnuvXr++10tXV1en1+uHhYZgtSuRTLn/iXYMICwaDCwsLExMTiPlHdvsgYZ9VKhXe3fDwsN1uRy8iyt9DGf47YN9hsX1o6OjoKL45UC20veQ9AQgjuAlYa2zUgX62F+xDMORCT95sNjs7O4v+RwK4oFqe5zFCxLfOZDKIHimGfcRPCjAUFhVwkvr2d64AqhaZU0qHfRJRiGEf2D4se01NTbDPwIRIfuE0BN948lBPkjnBbN9hOUmVL+zzRlzukINocm/f+ef3xmwO/0fuUG7/j4gQDKW3sTDo638mUfIegO17LNiXixGdp/f+6SdvyWQyXsfFhDCvy0Usq6qq+vMnf/JFPbvDPsr2PcH0TwbFIX4XHbg5En1uJBKx2Ww1NTWEESH7n2q1Wk1+C1SVStXd3b28vIyFBm4NWFmfZBo89GsLYV9x4kDSACyFd9Waiooz554/5/F41tbWKirOyOVy7GWKR85ms8CCMpns1q1bQ0NDHo8HUzpeCsyWAPtIsIhdYN/etn1YBOHJi/A3VqsVq+3lb102m81ut5tQOSR8x6VLl4rAPrQEFCPikZHgbmSlQ/8E3pUIpxz/JOAPDxiPxzc3N41GI/mwIV2d53mVSqXMp+bm5unpafi4AA9IdPoHGHo7YN9hsX3o7oODg+gZcNKBdafkbaFnQ8GvVCpJuJNC2EfGAIwkiE876ccDAwNi2JdKpRD874033oCdLLk1lLyFtn0okEwmYYeHZldXV8tkspaWFvEdSVXijBj23bhxQ+J+hTprampKZ/vefOtN4n2GHoNIh4lEYnt7m6gzxG04cP5Esn3EtOLJP5XKFPZhu4v3Rn+LcI//+m//Ekz5A0mfL/qpN5LbBc4Tcv7t02XY4hTCPoknL2Ls5Wz7DontA+wLpnyIzPfSS9/cTmxh6447P/0J0flStu8AM/tel0jCbWAF2qvwUz0uAZ1+v7+/v7+uro7E3iOrILbTVSqVWq22q6traWkJGlJMj2RWPPDs95QufELYh8vhmPjVJgVLS0tQtl57/RphH7CWXb6cC9XJsixmvFQqBeITkSsArdRqdYlsnzhcs1gzdv6F8w6HA/vLXX3tKjbY9Xq9giDgjolEAv652JR1V9h36dJDl45EIpFMJoE+q6urQeZhmSO/0Wh0e3sbbSCP/JRe1pFVS54ukUggSsnq6irsVgs3ldFqtWq1mmEYvV4/OTkpDvhMDCsPMEh3wL5DZPsymczS0hI8D65cuYI9eYmqm2xEKAjCwMAAyC1sjyFR8ra3389kMtF8EgRBq9XKZLLLly9jAxkch0UgCYxH4vYh2F5lZeXo6CgAJdyO0un0xMQEmEjiyYu3jogqCOB36dIlq9WKMJXwmSre88SwT4zYMHpLhH2ZTCYUCl24cKGi4syFCxfAC2Jeg/Sy2Wxra+ur3331rloj3irnSXrtSWX7xsbGLBbL8PAwuh+Gx8HWuTKFfYi9DMO7s8+d/WDpfX/ci73acjv/Bh3hLwPvmt/Zy6XjKNi+kMMX/fTjB2sIM/Gu+R2Q9BOz/10M9u1k+xDqGTvIFf6K7QufPO8JOT9PPrDPjjNKhtfy+C7HNHKA+fcoL0Efdjgc3d3dg4OD6+vrULY8+UfRYz0F4XJw1draWn8+6XQ6hmHUajUvShpNLtRFbW2tzWabn5+HkpHYtD3JpHcE1xbCvn2VvOIlBtOyx+MBbuvq6rpyJbcNz9DQEGENAfswZBDhD3FbsNIJgkB0bvva9iFInlwuR2xarNGAjzBzAuwTBMHhcGDGaGxshOMjoEw0Gk2n0z6fD+UvvnhxL7YP0c2y2SzZ/wMPBQcANB4avG9/58rbP37barWWtZJ3r86G153NZiORyNLS0sLCQnd3NxzSNRoNGQcE/NXV1Vmt1rGxMRL25WDL2Q7Yd1hsH4wSyO7LcPEbGRkhO9NhwGez2YGBAWhUL1++TDbgEwTBbrcjhCw6Fl65IAgwMpDJZIhChHpisRj8MHAJgX0zMzMgOZRKpSAI+NbBTFdXVwdqUAL7iLc5QKRY2SrRzBa+SDHsu/raVRgvEieVUmAfYByJdCiXy9vb74PXRf8QBGFmZgZDThwjprAxj3vkhLF9WOEsFsvt27dZllWr1b29vWTHFDFVjpLoSEV+UeyYh2tG8DyxJy9g3y9b6ioqzpx97uyIfQhOvnDICGe2J2b/G0EisKubRMl7BGyfJ5xDn5FsEAPk3PPnzj539tr17/ljf8+dyoeh3pftiwlhX/RTf9xb+C/Ha4Zdh/iv3GHfysqKIu8My3FcQ0PD/Pw8InoA/BFFW5GxcLBTWJ/EXOPGxobFYkEM2ztKpTj8HtHn6nQ6q9UaCASIZQsQxuPOb8+kvAT2EZeOvfw5CrWZqAHm5iT22cLCQiHsq6g4g8UCkfnwTh0Ox0svfRPLYhG2DxTdPT6nTZbL5YgCTSbG/v5+rJUE9rlcrrPPnZXL5ff4nKcFNpTD8pdIJBQKBcrDpQMOncST96WXvoklGA+7vb2NFp5/4fzKygpqSyQSeN1gDWUyGUK87bsEP5O3/IQ3RX+G6hwePw6Hw2az4SvorjoX8Jl/lNRqNWJS8jzf1dW1tbWFwUjMNkocmztg32GxfQBPyWQyEolASYp+8OZbb/b3909PT8/MzPT09KjVahyXyWSTk5Pi0ESjo6OIy//GG28sLS1NTk5iC0XynSGXyw0GA06BKL744kV0oImJCRIlEnc/+9zZr3Y283g8sVhse3sblgoInlQI+zDS0NfBCE5NTe2r4SW6ZhLH0mg0LiwsbG9vA+zeunVrL0f0l1+5JJfLzz1/DrAvlUptbW0Rv6rGxkbYasTj8YWFBTL419bWSmlVKZ3y5LF9mLMQ3wvDBmGTGhsbl5aWYDBARkgpH0zPEPZ9nnzwwdL72Crt2vXviTcxI2gGytwfVH9fLpeLYR8wyoh9CAPt29+5MvWhffuLz8KZbW/Y9d6YDUsCpnsE5HvoydtpxAARb84G/99dlby/aDLI5fKXX7lUim2fXC4//8J5eGzkSMd8fGaEKMdH4Lvmd3JhpUMOPBf4yLPPnf3bp8s5OBhy+h6xfajq1e+++u3vXJH8w8GuXlORUIJEgKVnyh32ra6ukrWE4ziVSvXVRlj9/f2BQICMiMPl/yTjK5PJOJ1OEnsPwSzI2gaV1h2lUqfTjY+PI5QpjLOPrTJ3rzmWwD65XF5ZWVlVVXX1tavF/9XU1EgIv3Q6vbKygsFYWVl57vlz0LSiGNg+2OZevnx5bm4OoCoajbpcLlhPYSWF6TxZp958602soaDrBEEYGxvDLHH2ubP19fXT09PDw8PAcAiiee75c2BbY7EYapbL5d3d3ZhOU6mUz+fDxxvuWFVV5Xa7sXeZIAiIaHv2ubPt7fcXFxdn76l9lwAAIABJREFUZmYgHyjlcjuDv37N4/Fgawan00l2eThcgmOvl/VsjwP8AdciOI7T6ezt7a2pqWEYhhj/kcgv93gNy7Jarba3t3dzc1M8ckux/NsB+w6R7QPyS6VS2GMXtBkBeeLMq999dWJigsRYgRew3+8nXRaMnd1ux0fS4OAggT6kntbW1uXlZUCl8fFxfAyhI5rNZty9qqqquroaO/2xLAs+j3whid96MpkMh8NXX7taUXGmsrJyeXmZfF2Ji0nyAE8ulwvNQNsMBgM+XGBKiG0ZJY7oWOpkMtn29jYGCTbnIVtrn3v+XHV19bXXr4HnO//C+ZGRkVKaJGlhkT9PJNvX29vLsixiI/H5xHEcwzANDQ0Wi2VgYMDhcJSo53qGsC+Q9H2w9D6609XXrhaBfQhfjJ0tSICVHKCJuHp++5uLL14EvKu++cN/+slbKHzt+vfeG7Nhu94LFy58/GDNE3ZGssFfv5PbbEYmk/38V/qIEPSEnM7PP8bl75rfEccFdAcdUSFINn8rHsAlkg12Wh7u1vjB0vvbX3wG+8LPkw9+N/FfuOOFCxdywf+iueB/iAVNGrPq+kvOHDDk8OXj9pHN4nDhrr8//5V+V4mVjvMkJU8A7IPzIAkeAaRlMBi6u7utVuvKygpRy0gQm3h1KSUvvjyRSMzPz/f29ra330eYPQxJ0gxVPhkMhpmZmZWVFdjVAPCJkVCRSey4nQKsITtt7to/JQdf/e6rWAHJI8OyDTuYyWSyxsZGqK3wsFh0vgp6R+Lg3rhxg2EYqH1ffuXS6OhofX29TCY7+9xZgDCgNBQQB0aJxWJ2u1287KJtDMMQU3tszpZMJh0OB/EjefW7r7IsiwCBlZWVXV1dxM7eZrMRT+GvIjxD+Ytqq6qqEFAmGo12dXVhXa6srLz2+rXr16+DcPlKR9Hd3b3XhqjH7XUfVnsAARFp3Ov1rqysjI6ONjY2Qm0lHjXEw8lsNvf09ExPTxOOVjz0CofqDth3iGyfuFMKgoC9dBBS6OxzZysqzlx88eLNH90cHh6GMR/p5cCLmUzG7/fr9fpXv/vq5cuXAQ1BbmWz2a2tre7uboVC8eZbb9bU1ID0TiQSo6OjVqvV4/GQyQKL+sLCwts/fhs96eKLF+vq6vx+f29vr0qlApqUsMcYGFAcY6tctGrf9wqi2+123759++VXLl26dKmxsTGVTzabzWg0jo+PiwctKuzq6jIaje3t96HmxgcZQjUODg4yDEP85C9dutTQ0LCxsXG4mO+ksn14xYB9ZHVBuC8mnziOa25uXllZgUaekByFY+aZwb6w0xf99CPvX7t6TV29pvfGbL6YxxN2SrFI2OmP/f2r3dV+2VL3u4n/kmyMm0NyQvCPf52++aObVd+oAnF4+VuXf/1OgzfiignhyfmJOz/9yZ2f/mRyfiK3n9sXn03M/vdXgZp/2VI3+v5wji3LI7B/b2/6ZUtdji9MbJEd2EDIDf/f3/2ypa7V1OL8/OO9wjUjlMzUh/ZfttT9+p0GAhA9YedWxO0OOVo7jWg/qd+Tfy7SGIf/I0SH2Yq4nZ9/jPJo516/f/jg9/64t1BiEgGW/udJgn1kUBDjIZDiBoNhamqKkOJEhUQWlcKFRHwEw4foc5PJJGLvsSxLwu/xooSIFe3t9+fn50OhEC7HPCleF/adfo9bAVBxTqfTaDS27pfa2tpaW1sHBgYkT4FKvF6vMZ+w9YhYLNDnBoPBr1hbgCeYv+v1etg0u1wujSYXE25mZgbmUul0ur+/32g0TkxMiNcjLCsmk+n27dvV1dW1tbVTU1MILmGz2QYHB2FSDySaTqcbGxsJ3Lxw4QLDMNhqIp1OGwwGjuPMZjNcG7EyAiy+/Mqll1+5pFAocGvMvR6Pp6WlheDCiy9eVCgUUDfDvlAilhP/JwF/GH2xWGx0dNRgMKhUKrVaTdhxDCMsZyzLdnZ2Li0tkc+2vWw2dsC+w2X78GLgiAAPo0QiEQgEvF6vx+Px+/34GALKkbxF9PVsNhsKhQKBQCgUIh0dGAVa8Gg0ijkC/L+QT8B84ruDStza2vJ6vcFgEHZ+yWQynU4Tf1sAO8ga9wI/97ghkeEUAmfb7e1tbFxDrGfIHnTi50Wz8UTkOFqCg8Fg0JtPaPzTMG498WzfXbUGKi0MGDJsuHyqq6ubnp4u9JMi69yzgn3esCuHiqLuUHo7lN7O4bkCzAfI4gk7Q+lt7MNBMBlBM2DIPGHnR96//s//Lq57VhA5JRfeJb8fGqziHlaVD/UXyQYj2eDXGtKIK/xlIJINgqIjNedamLfAi2SD4S8D3kgxQ7oc8vviM9RcGN4vnNml/Z5wLu4gLtmKuL++b8SF8jgVFXKtLfwFZv36qie28zthsE+jyY0L8H+SQVFbW2u1WuGqSeYozLfkT0lGcjadTtvt9vr6erI5Af8oITgtfDja2tpmZmYwmZPYe2TCJ1NiOWawkEmkVPzPwsckSx6Wg0LJICBwOp3e3t72er1+vx9TGXRHCBcHag2V77Uegf6AgR2ZDME+os1kuSTqSKxNW1tboVAIBBXWYuTFazGi96GRgUAgHA6TxmA7e0EQgsEglmliHFV2mv3C1/ckRwggAVwJhUKzs7MNDQ2w8CMx/4jyl82nhoYGMWdP6AzS8XbAvkNn+8gDA/wlEolUKkU6BABfYScmvQEdjjiHF9ZG5gicgvNRYYU4Ap9/QgQSgZLbgZYDUjaZTHK5/Nrr1wKBwON+beB2eFLxOIGxLXkKkoFbk0TzS55IIrSnMQx2ZftAN5b1L5S8Wq2W47j6+nqLxdLS0oIVCHtjE7YDWqf6+vrOzk6r1bqxsUE+mLCSPUPYB+TnDjncwZytWxEE4w4WK5PDixGXP/b3HMKL/T3HyT2qjXi/ksrh5yu5Y5H6SXlSw14ZUrIQv+5VP7lEUifKF/8lzyi59sB/7gX7jv9IwQS4srJCVguNRtPa2trc3AxuRq1WkxHB8zyUvzqdrrOz02QyTU1N4UO9cBWRHIlGozabrbOzUxyTTGxrAVul7u7uxcVFp9NJvAEKp24ySZZvBn6pCDqx769E70SemlRCjkgyWM5SqRRMoeBIAXlKVjpciEWnUOBkpUYNaA8OStomuSOipJEKSUbcTnIJWWrJWdyCwAOyoQgpQDOAQ9jQYS2fWltbwZTz+YTBi/UOm1N3dXWJw76Qr7IdsO9psH3it0X6H+mO4rO75sklhWdxqvD4XkeKVwVDwEAgEI1GLRYLzAGHh4cPpk4l99q19+/Vwl2Pi6t68tp2vQWQJQFJDMOA4yQfB2Wa6evrg90rgp739/dbLJbBwcHGxsaamhqVSqXRaO7xuX8YNrD8wwYAcHIk4A9s+fz8PIwF82E7uDZT24HRwzO5kMA7ZJ5JG8r9prvCPkR9L4thsrm5KbbtU6vVJpPJaDQ2NjYaDIa7ag1CqJAlBPZDsCs3GAx9fX0keARBe4QU93q9AwMDtbW10DqpVCqMLPLLsuw9XmMymVZWVgBDM5lMiSY0e81d9DiRgHixIAcPkEE9pVxISj7W2kSuktxC3P7HqlBSz0n9E/IBuIfN2/LyssViUavVGFlkoMGWCeSfTqcbGBgQ22zsgH1Pj+075q8BX7ETExPnXzhPtri5JoqKeczb/4TNk7B9HMcZjcaV8k8wHtdqtYB9ZrP51q1b9fX1DQ0N/f39HR0dOp0OyA8QUDJmOI6rq6sbGBggTo5LS0tkG3iVqvxgX7lDruPQ/kLYBwvR1dVVMmKQP26/aN7w8DABdvjmUalUDMMYjcahoSGj0VhbW3tXnfsWEpuQY2jcVWvu5GMmWywWhNsQHiWfzzcyMkKiTqA8tMZ31TnDMpZl76pzgM/lcmHdImv8E05f9HIqgVMlAfHAwRY1S0tLnZ2dPM/DdlYS/PKuOhf8Uq/X22w2fLPtgH1Pm+07tu8GWoaVlRW4fcCZfH19XWzuemwbfygNI7Z9mK+xx7niUVIqlQqFolx+H7VaQZRZgH3d3d1Ye9RqNcdxLS0tWq1Wp9N1dHS0tLRAqyXx/4Ceq7a2tr39vslk6unpIXVS2HccQNjRt0EC+8CKqdVq0uuObQbjF6wAAF8h1V2bTyqVqrGxsaurC6S4eFCQiHosyxqNxra2toGBAavVqtVqGYYhsfdI/SzL6nS6vr4+h8PhdruxMwHWrUOZuGglVAKnWQIYStiyy+v1rq+vDwwM6PV6EO3iAQ7wp9VqnU7nDth3atk+9JtoNLq4uNjf32+328PhMIkpc+J7lZjtIyY4gETaMkw6nQ6tJs9CYB+4OizVRMmrVCo7Ozv7+/sJz0EWLZjKwg8ORoFkIFHYd/SQ6zjcsRD2EX0oOt7x/BWPY9K9xRl0daLk5Tius7Ozt7fXZDKJlxDS/2FCpHqU7vG5uLLiCu/xGo1GMzY2hrmUxCKmyrsTv6DQBzxiCQD8wTISO8F0dXVJSP17vAZk/MjIyA7Yd2rZPrwkEikbrkynanoSs32Yr9Xln6DA5XleAvuwoZYmv/uNTqdDLDGz2UxM/cjaBu4TgI/jOLKwlalt33GATeXehl1hn0aTM4kriwQFrgSfoZ/Dqxd4rr39fnNzc09Pj9FolMA+AES1Wk3GBXzkUYm4Zo1GYzabFxcXA4EA1iTiUXfE6yK9HZXASZWAGPOlUqloNLq8vNzQ0EDcFslyptVqFQqFFPadcrYPnsWxfDpVmE/C9kFTA3VPWf9CIUVgn8VigUOGSqWqr6/v7u7u6enRarXt7fdra2vFyi/CfMAktrOzc3l5eXt7e3JysqxdOsodch2H9u8K+7RabbmMlJqaGjEyI0YdcH5qbm62WCwGg6G+vp64vYuVvPhkgqnQxMSE3+/fzgcN6ezsBPEnAX8YQXV1dUajcXR01OfzwRqJ6nlPKgqhz3VkEhADPp/PZ7fbW1paGhsb8T0mGbaImtnV1RWPxynbd2Tv6FjfiLB9cIDo6OgIlnkKhUJms1mlUhGXDpPJpFAoampq2tvvY23jOA6m62S7Kixa2Pqwpqamt7d3fX1deJQWFxcp7DsO2OsZtkEC+wCD2tvvH//hggCos7OzEk9ebM47MDDQ0dFhNBqhGxITeBgUcOllWbajowNxlR8Ni9z/2HKtra0NsZCg+MaFcCqE44herx8fH8d2RIT5O1Xf2Md6GaCNKwcJAO0hJGQ6nQ4Gg/39/TqdDjEoiPU5Rh8WOI7jLBbL5uYmIijvgH2U7SuHl374bRSzfQBJZrNZPKeXad5qtZIALu3t9+fm5hrzqaamhoSoJYZZd9U510Uclzjwkl0Kyj2AyzNESyfm1rvCPpPJVC5jZH19nSwMarVar9d3d3cPDQ3V19cDwhKLWHDe4PA4jtPpdBaLZXFxMZVK4WFJSEsSwCWTyayvr/f09Nzjc1GgwaCTKNA8z2OU6XQ6m80WDAYRhPYEbMhx+JMyrZFKoEACAHwwk02lUg6HA/GSWJaFzRL/KCGkC0Z6Z2fn6uoqmaCy2ewO2HdKbPsQGbL0T8zToPaVsH34ABBP6+WYB+zj+ZxtuVarbWlpqa2t5TgORg/EyJ2EpbVYLGtra9gSRrywIT6ZIAgLCwvHLYBLbtu0oMMdchwHXPWwMUFHYSjmwuY9DEC9x6YjheWPyZG9YN/xHyCIPbm6ukpgn0aTs/Kur6/HBw/5BIINK/i55ubm2dnZQCBAtm0g4frIQkIGCzkSDof9fv/w8PA9Phc8Amw6wX8Af1Al22w2bL8L8Pc0wtEXrJ4n5ACJolz6Wlb6kyOesyREc+mX05KHJQFAPbwIxIRfWVkxmUwNDQ1wn8dyho807LLIsqzBYBgYGPB6veFwmAxPzFGCIOyAfaeB7UOsFsxcpYyWxy1/WC/7KOs5eWwf6AcEoAZ7AW9ccUAjlmURawNBaP1+P1m0Chc2VHjcYJ8n7PTFPNi3rfiuaEeAmXKNiX6618Zr0t0yIq5gyh/+MrDrFsNH0NoD32Iv2CfuPMczjz5MYB8s/IgbB59PHMchzguCKi8sLJDtqvFQqKTIA5KlBWV8Pp/NZqutrUUEKII4ES8JjKBWqzWbzQB/2DmTBnDed/6X7JlWylq2V50AFuKze+3eJi5D809bAngvxNM0Ho9/FWPObDZj1HAcp8l7JeYHbm5PHaVSCaNbq9VK0N6uw3YH7DvxbB/U4bOzs2azeXp6et+wfCg/OTlpNpvn5+f3Lf+0+8HTq7+Q7Ssysx//U1icent7xU6IZHiA27BYLFNTU9PT0+Lw5YSzkTwjKjxWsM8Tdvrj3j9/8qd3ze/85j/Nrn98smPL2ifefPaxgFGuMbG/r7r+8osmw89/pV91/cUf+zs4P+wI8nnyAWneVsTt+scnv/lP87vmd/78yZ/8cW8p7OBjtefpFT5hsA+DAupdhmGampomJyftdrvL5SJDYK9BQQoUZiSXhMPh6enpiYkJo9HIMIwY/PF5Mh7GGL29vSMjI2tra4lEguze8SSA5ulNmM+2Znyo+/3+3t7evr6+YDAo3v32sdoG8WazWXIVdsidnJxsbm7u7e09waseeeTjlhEDvmAwOD09PTo62t5+Hw5SZMwiAzPcxsbGkZGRubm5UCiE8SgZg+JBugP2nXi2Dws8y7IymezWrVv7bryG3Ttu3Lghk8nu8RpBEHbdOfe4dZrHbU8h29fV1SXuJWWXJ7APywm0S/hIwgbzYkeNQm6v8HmPIexzBx3hzLZ1qEcmk8nl8o8frPminmeFnzwhZyDpm/rQLsunqQ/tgaQPDN9WxL39xWe/m/iv//nfxRwWDOUYyo+8f62oOCOTyaxDPeHMtjt4LJTUpYDFEwP7YOSALTQYhuno6JiZmRHTPEWWjcIBstcRVELOplKp8fHxhoYGfHpBM8Xnk0aTM65VKpV31Zq2traZmRmAP7I5LMV/ZGLHwrS4uIjhtrm5mc1mDyAf6LJSqdTExASC7GDzX0EQ9Hq9TCZ79buv7rtKklbRzBNKgGjtk8lkJpMJBoPz8/ONjY0MwyiVSlAYGCwYvNj8pr6+fnl5WczKSwYdGX0kswP2nXi2D6Plrlrz1TKpVCr37dAof+vWLblcrtPpTirsk+zJy7LsyYB9fX192KxGoVAgaIvNZiMfQ3A/hMETGQ97ZY4n7Ault/uHrRUVZ849f+4Ywj53yAlK8hdNBrlcPrP8/ufJB+6QwxfNwb5zz5+rqDjTP2wNpSns26vfHeZx9OG1tTXsUgNlrk6nM5vNKysrOPtYg6L0xsEpKpPJ4JJ4PL64uFhXVwecB4d6Pp/EZoVtbW1il2Hi+fuEi+sJuBwL09LSUkXFmYqKMw6H4wCbC+Brf21t7c233qz6RpXP50un04lEAuQIhX1H2U9A78FZCpvtTkxMGAyGwq8jxCODyUR7+/2VlZVCbdW+A3MH7DvxbB9Gi1qtlslkCoWiRNj39o/flslkJxj2nVS2z2w2q9Vqq9U6Pz+/urqaSCQwHvb9GCocNscT9oW/DIDte/awL2fY51n3rLxrfudd8zvrnhVf1OMOObYTW3/44PcVFWfOPnf2j3+d3v7iMwL7zj53ViaTAfZJLf+OVkNdCslHypQv2wfUtby8rFAoOjo6ZvNJbNJ6gHFROFKKHwH+Q5l4PL68vDw5Odna2npXnfP85XcmQmb09/ePjY1tbW3RmH/AIgT2ge07MOzLZrPXXr8mk8n+P3tnANJYdu//jAiyZZZZhrcwS5dpGcq0fczypnTbx8Bud7edxxTJ5N29XDKZ+/LSkCfW57NiXfG5s9NAEBErIv4ltVMr4vP5F/9ixYodXNda67rium4aQiabdUPIpCGEEEI23F5CNtz/Jt+Z02ui0ZnRjJrfYchc7z333Hu/OeeeT37n/H7n/Pnzfr+fgbUsywsLCz09PaOjo489fFxKbDq+1wLwpXIpEAiMj4/b7fbm5ubCFbERioXnefRoi4uL7HfUo7bcbdhXSmsfHIVgl2ZOQ7FYbDdPLrjTYqovssViMbVZGwbSmCoVFlWIfdFolJVWeHXkL4J9uHN2zcIrojrCcg5nnCKnFB4qWW0+YXP70K8sLS2pe7X9DObixMLPEmMfvFyzLrrb/6nxKDvIWxT7CgvxRlye8M6ev8wJd9sVwzv45D4oIeeum5d5K+YOpwIh2b8Vc3sjLnfI4Y9/8puxAY1G88xXnpld/p0v5nH99WMM8qqxz/XXj/OKKhytxnWhQN6jMVkKn4IdYtz2hBvHF/tQh7e2tu7evcuCsLBGwax9hZX/wPfk9VLpdNrhcKinLmFWBj4RRFOn05lMJsT8QwCLRw3IULJ3aeGFCvumwr5GfVZefvQL6s6uCPYh844euOiGWL8Zi8VkWb700qWKilMvvvjVra0tjKejk2VIob4ubjKvn9rtWdS3zS6NvnK3jlItwsneZrVXluVMJuN2u3t7ey0Wi06nu67Vqn8CsVWwRVHs6el51OlJOzbebdhXSmsf7kaSJGaDYfennl7KvnscxWwPllNRFFRK2KvU+7GdNx01D/vy3j7sEqyiF8E+5Cm8IuZYsBLQhBAjEcbFwlOQRz2rhuVRl8OkOPCNk2ftYwJiA37vT9KxlRL7PBFnSPbDJVb9GfkimPV+CDsBLu6QA4O8Go0mz9oHL4q8QiJfBL0Rlz/hjWZCIdmvph/mEay+XDQTCqcC3qhLTWCYwxfNhCLpgC+WdSJmp8BpA27Fvtg9TzjrcfI3JT41PwHsW3X96W9KPJDc8sXuffTZGrCvb6gnnArclz5j5ex2XeS5L33mCTvV141mQtl5hJHsgLIvdi+S/vstRTOhwOefMsXUj/zY28cX+3ZsFHk7S/knC4eJi8qyvLGx0d3dzfN8dXW1TqczPHRUBP9hLXmLxdLf3x8MBtEkmYHqwN+KB1Wg2uU2T94dDWm79WUY+8Nd7YZ96k4kr++AeyJuAN0iBIS172tfP49z2WDxjti3W69XuJwpuxP1tdSPv+OzH5TmR7kcZt7DLy6n02m32xEul0UWE3NJr9cj3IQoiu3t7VtbWxAwb8qEWtV9bm/DvlJa+2pra2/oDR6PB3am3GNmP2pqamZnZyVJYrVWkqRoNIo5jNFodHp6GosKGwyGkZGRVCqFNuDxeBoaGlg5KGptbY2hIdZeUxQFg7yY29fZ2clOuSkaWlpa4vE4u/pu2IcmJElSc3MzOx3Tk6enpxVFYSUkEol0Or28vGwwGDBhbmBggE1kNhgMZrM5EolgCmdXVxeLvmMwZOc1Y7JFCSrxibT27Yj1ymOlUmKfP/7JLzrf5vS6Nw3/yul1bEM0CbPLv2Mcs6O1D/Y8X8zjT3hZISjHUv8TDLnqBO1bt5tYwBf4WPz5L4v/2VTLroVT/tv6lvP+R1sxN8jPHXaEZF9Hr00naP/9P/7tjx+/+18tdThFJ2h/Mzbwwb1lnaDVCdo/fvxuOBX4zeiv9OKbr73+GpxOrl3/F734ZkevLZwKrHtWgH2/GRsIpwK/6Hz7TcO/4h9uzx3KTgFUXdffN9SjE7R9Qz0h2f/ztxvU+fuGegLJLW/U9cG95Z/+zKI+9H9//z/MueSxUU994nHHPjQK1OfHagqHcpL6fhwOx/Ly8tjYWF5YMoQVRF9YV1fX3d3d39+PHgSwgg61BG/L/V8CDBeLxVhHw9Yvqampcblcea4YoCWv19vY2Cjm0k0xG3PUYDDMzMygL4OhSFGUpaUl9SBvPB5Pp9Pt7e0Gg6G/vz+dTjObH7qh1dVVLDu+sbGRTqcHBgZMJtPzzz+P342IrTg+Pp5KpdLp9ODgIPogBoJ4llQqNTw8jH6KPUtfXx/6RPTauJzVajUYDEtLS4qiTExMsF7vpmiora3d2trKM8rsX9VjmhPipNPpVCq1uLjY19eH1UHZLxymJxytampqBgcHV1ZWvF4vWt1B9WjbsK+U1r6qqqovHYUmJiZ0Oh3qrvrTarUy/wlZlsPhcEXFqcrKyomJia99/TzLaTQaFUWRZXloaAjVlx3CxpnnznR3d7PqBYwTBAFz+6xWa15+jUZTX1/PGkwh9sE6nUqlvF7v1atXC0+vqDjV1NQUjUZhw0MJw8PDGo3m2rVrExMTlZWVeWc1NzcripJdILkg9ff3570XDqPGn3hr35P3VKXBPnfYEZR8v+h8u6AiPNjxta+fd4ccW9Esh+1s7cv5yTr8H167/i+FhVx/88c//VnWQe/SS5cQTsUdctyXPvvD+zPnXjhXmF+j0YgmIST73TkTozvkiCmh62/++Ms5ec8//3zeJSz1P3nvw7soZGLuf/+mxHGtvGLf+OEbcSXywb1lYF9Hr+1Nw7/m5dFoNFde/WeH/8Os1TD3pDElZKn/iUajsdT/pL17h2bb86tfxpUIEFNd2ulnT4/+bpixshrgHm/7uGPfk7eFQyqhkEfdbjcWIWABn8WHCSHWETu9o6NjdXUVvSmGKY8I/+G96vV6L3/nMvzW1TVTo9Fc/s7lcDicZyMYHR3dsTE+85VnOjs7EdcG3Uoe9mFq//e//32NRsPzPOtAmb1jfHwcNwDbxI49b0NDA77fPJcOPEsgEKiurs57Cvz52uuveb1e2PBwe5deuqTRaIaHh9vb2wtPufydyxjrO4we7eiUiaoI/gZXLC8v9/T0GAyG67kwew9rdPZ/o9GIcBMmk2lycpL5arCZGPhqnvxzG/aV0tp37oVzZ547881vXcQAkNVqHRkZaWhoQP0498I5r9cLmYB9z3zlmXMvnENNOnv27LkXzlVWVs7NzSmKMjo6irOqqqqua7V9fX34pYh+paLi1MDAAAZYUR15nsfvG/Ret2+/MzMzY7Vazzx3BuX09PSo8+fN7cP94E40Gs0rr7zS3t4+OTnZ3t6OEioqTk1OTqLV4YpjY2OVlZWXv3P59LOnTz97+obe0N7eLggC3gVVVVW3bt2qrKwPrfrEAAAgAElEQVR88cWvWiyWjo4O1nudPXuWzbQ91Kp8Iq19T948WAklwD5gXM+vfolKeP78+Z/+zGIf7vvtxK/fut2EqlVZWfmLzrdDcjY2yk7WviwkeSMuBmQXvnHhrdtN9uG+/2qpw++iZ77yzJcN53tXvgt29EZdgc8/RQ1HvIb2buvo74Z/+jMLmo9Go/lv61uRdABXjGZCokmorKz82tfPn/2HsxqN5uw/nD397GmNRjO7/Lv3PrxbmUvT703GlUjfUM+Pfvz65Zf/Cda+71357hs/fKPN1hLNhD64t4wffniu08+e/vf/+LdfdL6tF9+Ec6JGo2FRYNwhx5fDynAHRmnnXjgnmoT/tr515dV/Zm+M/2yq1Wg0F75xwVL/k/9sqv32P34bhy69dMkXu/d4kFd4FmEfaxSHtJE3+BuNRu12u8ViQTeZN+1JveTo6uoqlhJJp9NgKTZkdKgvz90KZy9/1MNXf/Cq3W6fnp4eGhp6+eWXsdNisbC+JpPJTE4+CIFUWVlZXV2NvsxsNrPGCPIDEOyIfdeuXSuMO4E7mZqaqqysrKqqunv3biaT6erqunbtGhpgVVXV1atXr127Njw8jClJjY2NlZWVV65cwe3hGcGUGo3m4sWLzc3N4+PjXV1d6oaGsTJc7pVXXkEJeNKampru7u66ujpm+BgeHlYXvpuMx3c/xvcxXJ5IJDY3N9va2uCoBCOu+DBhRZzq6uqGhobp6WkWbDmvLRxUi9uGfaW09rEfNDqdjs1SlGV5fn4eVrRLL12CAV+SpHA4jK5Fo9G0tLS4XC6n07m4uAg/DzShs2fPAraAxoqi3L1798UXv4rOLBqNSpKE1gLs02g0L7/8ssfjQcwCRVEcDkdzc7NGoznz3Jnp6el0Oo38auyLRqOZTIb94hkcHEQjwVfrcrkQFPD73/8+VpxECcySd+6FcysrK/jyMpnM1NQUM1JeuXKFDd7DkH72bLZbheGTmesPow2QtW/P5nTY2OcJOwPJran5Cbzf//0//s3h/xCT3u5Ln4Vk3x/en/nele9++ev5a18/n2W7aNZhIm9unzfiCqcCv/w/nRqNpqLi1PU3f5wblvUHklsh2f/nvyyiBI1GA+zDvD1OnzW3n372dHu3dd2zEk4FAsktmAABUmDN+9Jnrr9+HM2E9OKbeI9ffvmffjvx6z+8PzP93uRvxgbuS5/NLv8Oh36/9LtAcmsr5o4rkYm5/8VPuz//ZTGuRPwJry9270Pv+8A+jUbz1u2md9f+cF/6LCj5oplQ31DPM195pqLi1H821WJ8FtjHbIeXX/6nVdef4Dvij3/S3m1lHcnP327whLMzI8OpgCfifOt2Ew7Zh/tCsu9AlrAj7NuzsRxUBvWQVigU2tjYmJiYaGho4HmewR8bF8M69C0tLV1dXeg4M5nM04U/jHVqtdqKilNGo5EhKWbC3b79DhrL8vIymxF+5coVdEBjY2Osm0in0xsbGy+//DKGvDBEm8lkdsQ+9J4YB2NRZsFhYMqKilPz8/PwiVYUhXnyoqtKpVLYqK+v12g03//+92G/UI9HCYIALsFbMRaLmc1mmDBgYcGTIt4tQt6q14RdWlqC0eTKlStsUPgw+rWnVSYzNqfT6XA4PDs7293d3dbWptfrWew9Vm8BfFardXV1dW1tDd/UgZv38prkNuwrsbUPxjawDryB8MwrKw/m/XR2dmI2A8O+ixcvJpPJTCaD+QeKoszNzaHxsHFhsCDqbm9vL46Oj48rioLqCOyrqqrCbIloNMpiVEqSBIh87fXXWANQY18sFkun0xcuXKioOAUzdSKRgDswWsLa2oO56jAZ4ooM+9ra2pgVEKEyUXhlZeXU1BTuMBaLSbmEO9lPoJknr99k7ctrGHl/Hjb2ucNZhusb6rnwjQsXLlz44N7yfekz5/2P4N/qvP9RTAm1tbfCuoZx3kJrnze34tl/tdSh5/jjx+8GJZ/rrx/DUBdOBabfmwQGfe/Kd70R133pMzCZRqP56c8scSXii91zhxzZ/Lnh5kBy69UfvKrRaM69cM7h/9Addqqxr+dXv/ybEvfFPCC2+9Jnv1/6O/bh0v6E97cTvwb2ZT15457spL1cuGYA7veufDco+QLJrQdL9Iadgc8/BZ5+78p3syH9wll35pgSAvZVVlb2DfVEMyE4//rjnzj8H54/n534cea5M3/+yyKu6w45Ap9/+sG9Zfys+q+WumgmdCBBoQn78prGYf+phj9M6VlaWqqvr+dzCd4e4sOETpTjuIaGBqxYgOnRmJxTYuMffk5fuHBBo9G0t7crihKJRGKxWDQalWU5Go02NTUNDAx4vV7M7V5YWEBv1draykyArG8aGMh6xGPYFEagJ8E+GDVSqRQIDJ68GA5GL6zGPtjw3vjhGxUVp86fPx8MBnE67i2VSkWj0W9+6+KXQHnlyhU2pgzsO3v2LGwr6OLRLwN5n3/+eRYj+sm7sKdeAhvPlWUZA5Xj4+N1dXWokwz4HlZVEWY/m822uLj4SMGWn7zFbcO+Ulr78KY2m81sIh2+NtQwTIbgOA4AFA6HYYuuqalBftYYWlpaYKtwOp1sDh/m1cmy7PV6YTND1D1AGOb2Xf7OZZjQ2LsAljxRFDUazYsvftXtdiPMgRr7ksmk2+2GqbK7u5tZFtXfxJUrVyoqTmm1WmZfxDB0ZWXl0tISu0msgYMpFC+++FW/36+e5PFlRFP0uCXAPrL2qb++HbcPG/vYYKLz/kcfet/3Rl2+mCco+YKSLyT7g5Lvb0oc479nnjvz7tof/PFPCq19WN8W454/+vHr/oRXbd+CjZARFfyFf/52Q0XFqaqqqtnl32Xzq1bLcN7/KPJFEBBZWVn5m7GBwOefRtIBZu2DdwWw0vXXjwuxDxMHh//fb4F92bh9ObxDuGZg3y863w5KPnbdLMumA6IpO/sWRMgGl2F6PPfCuQ/uLT8YoY5kvYw9Yaf6oeC364k4t6LuD+4tw95P2LdjrT5GO/Nm/kmStLCwcPv2Oxj5LexTsWJVbW3t+Ph4PB4HJ5XY7RfWvqtXr1ZUnDrz3JmRkREmODO2AWRBWrdu3dJoNFVVVRsbG3BVRJ+IsUKfz4ffMKIoIsj8E2IfZIG1Dx2QLMssXDPDPtwq6/Vqa2vVswZZ/sbGRvz0ws0rioL+67XXXwMPoZ+F38nQ0BDeCcFgkHWIT53bHvsG8ICgPUVRAoHA6Oioeika8WFii+IIgnD79juzs7PMY/qQxnNZlVNvbMO+Ulr78DqGKVs9ggkbGGDu7Nmz+GERCoWAfWyWHvtJAZv2qz94Nc9cjD8lSbp27RrGefFrQ1EUYF9jY2PexAK0vRt6A8bIpqen0dmrsS+TycB0V1Fx6tJLl65evfra66+98cM38O+111+7evUq5h1euHAhGAwiPA2w7/Szp9U/btS/e779j99W1340SIwXlwD7Tt4qHeoqfiDbJcK+qMsbdQGDVl1/+r+//582W4ul/ievvf7aqz94FWYDxD0Goqnj9n3ofT8oZceCgVP/1VKHWCcMKDHg+/O3s9Nnr7z6z56IM/JF8Ec/fj07tfzlf3L99eO8WC3ZoVUlBOyrqDjV1t6KwVM19rEFNhDYJc/atx/sy1ulAxcF9n3zWxezfsRRN5vbh4asXsMXJk/MZbx2/V8iXwQZQXojrq2oG7OHCfsOpBUckULQGBVFSaVSLpfL4XD09fWxKVOiKLIRNCGXmpubrVar3W4PBAKpVKpkI7/oUNRTz9/44Ruv/uBVnufHxsb8fj96MeaZi7lDV65cwYAPs0cwKwacMC584wKWGmKLsyFcMzqUfQ7ywnqSyWSYtY9NIkc5DPuAmHfvPvTWmpjI8zJElz09PQ1j5MDAAL4gYJ8oioWhZ+BcUlVVtba2xjyFH5u6nuKJAL5UKpXJZBwOR29vr81mq62tva7V6vV6UZVuitm1B41GY09Pz8bGBlwX0KD2uVLUAba+bdhXSmsfDGZLS0t5dQhNpacnu9JoVVWVz+fDADmwTz0JFDlRt65du1boFgR4qq3NTvT+2tezUcjhHg/s6+npUVdH9qsF2KfRaDAurCiKGvsURenq6sIUddTy3T7PPHcGDZs5nZx+9rR6zewi2IdD+19N5AnrPVn79mxRpcE+REiZnBu/8uo/o8IX1i419qnn9gH7puYfuIq/dbspL3AJ4Kmj1/YA+8LOSDoA7Pvele/CFwSfIEXkB/ZpNJq29lbE5MvDvgfWtdyavI+NfSy0Hi4K7Lt48aLD/+FW1I05hbD2ffsfvx1IbqnzR74I7oh9mC6J+eaEfXvW8OOVIW/kV1GU9fX17u5uURR1Oh3DPjGX4B3JcZzFYrHb7bAw4Wc2uu0nfH/udjqsdPF4vK6ujs1kZS363AvnrFYrJiCqie21119DgWrsQ2cHl8cXX/wqInocFPYhXDOwj/WDauxTT6aamZnJ67IRusXlcmECSUdHByxYcEyEz0reLMOxsTH0oQsLC8cO+5jxEg8uy/Lm5qbdbjeZTDqdDqtrqOceAPhEUezo6GDT99Hc2A+YEre+bdhXSmtfcezr7u4G9vn9fqxJjF5waGiImejU2Hf16lVgn7qpoC3BS+NrXz8fCATysI8VhWaG/PvEvme+8syVK1eu7pRgm+F5PhQKPba1j1klydpX4iax4+VKgH2IQtzzq1/CXIfu4ZmvPHPhGxde/cGr8OfFfIY/vD+zo7UvkNxa96ygg9kR+yLpAKKfZK19KuyD8S8b8y/nCPxI2Afr2iFZ+3bGPlUE5iLWPiwHTNa+HevzydjJRn5Z9+nz+drb27FuqdrzQ8wlBHyuqakZGBiAhQxhXw4P/tAfpVKpzc3NuroH3vSM/ODugGUzFEWBoW5H7EPf1NbWhglIj4d9U1NTGMian59/JGvffrAvEAjgzbMf7IO1r7KyEiuMqXvt3Rj6iOwHysO1ALPIenp69Lm4ynk/NrATFDg4OMjWiyqstKVvjNuwr/TWPvx0KBzkxUQBWLNTqRSb21do7YPdOy8AElv3QpIklkGWZTQeWPtaWlp2xD6DITvIW1VVxda8U1v7MpkMm6h39+5ddSzoZDIJ9MT3inkSYFM2yLtPax/Own2WAPvI2rdnwzts7Muapj7/tK29FQ5xevHN6fcmp+Yn/vD+zIfe9z1h59+UOIjt9LOnGfaprX0ffbbmT3id9z+68I3sFHLRJKitYgjj7E942bQ5uP3CjffCNy586H0fQfL+PiicC5vCrH25wDFZD9mSWfu++S2y9u1ZMSnDAwXU9r9gMOh2uwcGBrCYveHhah/omA0Gg06nMxqNbW1tHR0dKysr6MXRaxw4XqBwzNxyu91LS0vLy8vt7e0sBBiGqtjv/EsvXQoGg2yeN+4Hr2j0CJdeugS/xiJz+/JWkEeHYrfbd8S+Pa196XSaXctut+eNkmEKIxsFHh8fx9uyiLXv2GEf+2EAX5aVlZXu7u6WlhaTycRxnBr41LH3pqamtra2GPDt6AnwVBrwNuwrpbUPLh1wd2UWYMx1+DKGNfNmyHPpKMQ+5tLhcDjU0+MwX83v98OsaDabmScvw6k8bxI4fMCl4/z581ijMG+QN5VKLSws4GdNV1dXXgOAl8bs7OzMzEwwGGSTNo449tHcvj3b3qFiH5wt3CEHiO3sP5yFuwZcXH0xjzucXdwW8YrV2Mfm9j3zlWc++mzNF7vnj3+C6Mff/NZF+OR6wtlVyzAq6g45EO0co7pY7gI/crD+h9oFBEOrmAu4m0vHI8/t+/xTdzi7/MaH3vdh1Cw+t++JrH05kqZB3j3r9knKgHbKnigajU5OTqJvZjFfxFwyGAyYDigIQmdn58rKCvCFmQwOxAQVj8c9Hs/Y2FgoFEL5rO+PxWKXv3O5srLy9LOn3W63oigw5j3zlWcQooXdACxMwWAQfdl+XDo4jlM7hcRisUwmA2PKl3M8Hsnat0+XjtbWbJyBM8+dYS4dJwD72HguXK2TyeTi4mJzczNqDs/z7BcFKpUgCNe12qamptnZ2VAoxOqh+jcJ2/kUN7ZhXymtfXDpeOWVVyRJQgVlkLSysoIofR0dHQhxtKO1DzNJZ2ZmYDPPi40Chrtz5w6O9vf3M+xDAJezZ8+6XC44JcEvOJPJRCIR9BPV1dU7xu2Lx+ORSOT8+fMI4IKfYrDSI7ZLOBxG47x69SrzOzni2EfWvj1b4GFjny/uYcvUnnvhHCa0IXqL668fZ1fUiLpgHthtbt9Hn615I65oJvTf1rdQ5/uGeuJKBIuw+WL34koEE/vgJOuNuLBWGzJb6n8SVULeiMsdzgVwCWVBMyj5MPkPsVG8EVfki+CjWvtYABfmgFyIfeq5eogI/eXk2gOw9n3+KWHfnnX75GVg42h4tEgkMjs729jYiNh+efzHRoTb2to2NjYwYevJAz5jZvns7CxsBIuLi+iA4vF4LBZDtK+Ojo5sSKaHPRELRoZ1m+CDiABh6rB5PT09RTx5MTb18ssvo2NF34TZeGgLedjH4vb5fD50WBgTY3P7mGnjtddfY3ZBRDdDv4mVUS69dAlujgiI9uXaccca+0AjcM5NpVKRSGR6evrWrVvwEBdVCVP3MKOgsbFxbGwMArLYe3k/RY5Cc9uGfaW09oGNNBrNGz98g8VMzmQyw8PDOFRdXQ2oQrjmQpcO/CxLp9NarRbe4IODg4i9jBDKMzMzp589XVFx6pVXXmF8pigKC9d84cIFRIpGoJb19XW0gXMvnHO73TvG7QNNwhjJYinDp0xRFLfbjdAzZ547s7q6ykoA9p157szRHOQla9+eTfGwsQ+cd+Eb2XiQ2crj+lPki6A//ok/4Y1mQh99toYYJSwAXuHcvo8+W9uKuv0J7x/en8H6GS+++NXfjP7qo8/WPGHnB/eW29pb0QOxcM2YkId4eFVVVV8uZeu8/1FI9vsT3nAqsOr6049+/DoGnXt+9ctAcisvXHPfUM9+rH0jk9lgDZWVlb/8P50IDViIfcz9NuvSoWQXAimGffuc20fWvj2r9UnPoLayJJPJQCCwsrLS2Nio0+l4nse8ezZCx/P8TdHQ0NDQ1tY2NzcXiUSeEP7AQwiz/M1vXdzY2ED3hJfJxsbGxYvZRap4nofhI5PJsJiydrsdmeEesbW1Ba7SaDQrKytFsA8eh1iwKhgM4hseHR1FHAB4XRRa+yorK30+H6LJgFrgPsLCNWcymeXlZfxERMBatswBBsTwokD4C5RwTLEPFj4E0gsGg4ODgy0tLfX19fjNIKrSTTFrMDYYDDabbWlpiQXuYMB3ZJvXNuwrpbWPYR/e70NDQ/Pz82yR3Oeff97lcmEQFouh7Yh9mLKAIED42dTY2Dg1NYWiYFD8sqfs6urCND7kR9NCgZdeujQ8PLy8vNzZ2YkIf1VVVSysDPKr5/bFYjFZlh0OB1oR1vbFzY+OjrLpGup4m4/hyYvrssHovDmIQNgD/CRr357t81CxDxPv7kufwVkVK4z1DfWsuv70h/dnOnptYL7Tz56uqqqqqDg1/P9+i6DEeXP7ssPBIUdI9v9m9Fd4v8OH/fLL/3TuhXMVFafgIPJ37Mut9rEVdbMlzt744Ru/nfj1xNz/dva1s+Zjqf9J1ik4tzauOlwzsA+Gut1cOgKff/ru2h/QW2AZ37duN4Vk/7rnQUh2DPKStW/PGkgZHlsBzKtjpycSiaWlpdu330FHzrAPkV9gzuE4rr6+fmxsDHHmWMA/NvC6n9cvXuNsxOnSS5cmJibm5+dnZmZu334HPeDpZ08jiAnGYWEgwGhpQ0PD5OTk/Py8zWZjjbGlpUWWZZTM5tvBPQWv8UAgwPqmCxcuCIJw9epVvA14nsccD/jPwh6JPqui4tQbP3yD5/n+/n4YTZi1D70PM+mhLb/yyisDAwPz8/NjY2NszaoLFy5gNSzc3vHCPjZ7T5blTCbj8/lGR0fr6urwC0FtIUaFAfC1traura2xqqXGevXOo7a9DftKae1DPTabzViLApWJfd66dYvFhFRb+9SevGh4sMn39fUB2lgJ2HjmK8/cvv0OGi1zTUc8PIvFwpx21WfZbDaGWai+wD623A0Glx0OB4M89ekVFacuXrzocrnUi1Ij1F+RuH3f/NZF9cREXLdk2EfWvj2b5aFjX8Tpi91z3v8I70p1jcK2TtCO/m747D+crag49YvOt8OpgPP+R1jYAybA3Nw+TxbOwg5/wvt/f/8/mCmISdwVFafO/sPZibn/vf7mj780GPzox6/7Yh6s8BaSfdPvTZ49my15x+uC+Rj2Ye6gRqPZ29oXdngjLl/sHkaKUfiLL37VE3Z+9NkaTI9F5vZd+MaFJ5/bB0/e/2yqpVU69qzkJztD3sgvVu9sa2u7KRoQ4cXw0PNDzCXsbGpqGhkZ2draknOJhX3ZD/ahb/J4PKiEhY3r+eefh3mMLRyQTqcHBgZ27Muqqqra2trS6TSbO8Swb3NzE2FQ0HEgDgb74YfrtrS0eL1eBHwG9gE0YR1k9/bKK68g3gWw7+WXX0ZvCKbc2tra7QV1+TuXHQ6HutfDmBhm1bPp+7hDBHCpqDh1FDx5gfKpVEqWZUmS/H7/5ORkTU2NTqfT6/UsFIvRaMR8UIMhW2E6OjqcTif6BVa18OfRb0fbsK+U1j64dPT19SUSCRjer2u1LS0ta2trXq8370dVIpHweDxutzsSiezY3tLpdCAQmJ2dvX37HZ1OV11dXVNTMz4+jlhEzCsKdXdtbW1ychJkNjc319TUVF1dbTKZRkdHPR4Pa4HsQj6fz+12BwIBtgeuG9FodG1traenx2w2V1dX8zw/MDDg8XhCoZCa4ZLJZCQScbvdHo9H/VzYDoVCbrd7a2uLFc4cyvx+v9vtRvA/9dED3yZr354N9bCxD8FTct4bzvc+vPvW7aZr1//lRz9+3VL/E/tw35//srgVdWPR3t9O/HpqfgL+tltRt/P+R3/8+N0//2UxazCLZiOw+OIejNI6/B/i0J//svjnvyx+cG85KPnw1hZNAgt6jAUt1j0r7314t73biutyel3fUM97H97NrqUWu/ew8GwA5A+97//x43f/+PG7iKXMPH8BkTiUHbSNuh4+1D2H/8OeX/3ypz+z/PRnlvZuq/P+R96Ia+dCcjGWcYlV159YNMGtqPujz9b++PG7q64/oWR23a2oe92z8seP3133rGQnQUay133wL+padf3pjx+/mx0Bj20/xPI84gYtzrZnYzniGdQjv1hYbGNjo6urC54fgD9mAhQEQafTmc3mhoaG3t5el8uFpUHZW7r42xiv1nA47PV6h4aG0FNghYa5ublAIFAYtS6dTgeDwbm5Odgj0ZcNDw97PB4sNMc6kVgs5s4lLG3F7iQWi6G7HBwctNvtS0tLWP8tmUxiP2xy8BRJJBIul6u/v785lwYHB1EavKEx4Q8lg2ITiYTD4ejv77dYLNXV1Xq93mazbW5uxmKxvF5P3W+ye0ZRrENkOMhuvpQbsPBB1c3Nzf7+/sbGRovFgqgrYi7dFA0APsSDHBgYCIVCkUiEER7bOOLVXn1727CvlNY+YB9W3cXUOtwWa1R5Xz/c4BEhJe8QWiBss+pnw5Q7ZrzFWXCngncS3ODVp6AG5JWPeZ0IyMIOoT2zlVVYIWw6CMuJwC4IEKXeiW1ZllO5tOOhdDqdd93CbAeyh9bkZd/gjhslwD5AkjfqCnz+aUj2R9KByBfBcCoQlHz+hBcDwYHPP70vfYY/QTaYz/cgQ8Tpj3/y3od3J+b+94N7y77YPSCgP+H1xz/JrocbfuAs/PO3G0Kyzx12opBsiLv4J4HPPw1KvsgXwey/9IPrsmXQWE5fzBP4/FN/wpvPWJHsEiM4pCazLInG7mGVOTwOju5WSC5/llz98U8e0FsuoGDWT3n7zoe35MJjYm06dgo2MD8yLzZNXp5H+pOwb8cGchx35nXYW1tb7e3tRqOR4zhDLokP0w191sCj0+lMJpPdbnc4HHCYwLs3r4vJeyGzSG95EqEPyuOhR+rLcA+w/6kvyvbjiuhScSF0Q3ndqLoXy2QyKGrHjokVkvcsO/Z66Nd27L/gGIsVU9R3XpptpjksfF6vt7u7W5+LvScIwg294eHXLhoMhht6w3Wt1mw2j46OqkOxMI/sPCmOxZ/bsK/01j7EQIHLUjyXdmtC2M++sML6gQwoZJ9F5Z2y2yWK71dfcbcFv3crAY0cR3d7oiKPXHjK4+0ha9+ebbU02Afyy65CG3bAjRd+tSyKcjYaSy4gi5pUsvFZcmGWscRFW3s2ksLFixe9URc8P2B7i3wR/O3ErysrKysqTv1mbCAk+9XhWhDkxR12PrhuKOvPW3itB3f48Irq28A2uxn1oYeFO/A4RXKqD7GnLrLzSQ7h3Ef9JOzbs7EcowyFw3NbW1tDQ0OiKBqNRp7n1RAgilkO4DhOEISenh42egPw2u01zuyC++kp8AJHUXn5d3y373ZRdQnqPOptViC8Vlmnqb6Hwt5HXTK7w92K3XG/unx2DyXYYDfDrJLr6+sI7g1vHvFhQuw9LPRcW1s7MDDAgI9VmGNUyQtvdRv2ldLah7mlzNmiBN86XaKIAmTtK2wb6j0lw75HpRB1/gfYZ2vBfL43Df/6wb1lf8IblHwffbbW0WvDdLqLFy9mR3gfmvrUJdD2ngoQ9qnbxUnaRo+OJ0JokunpaRbzj83xEnMJjsAWi+X27XdWV1fh+cF+xhd509Kh0isAroWJUZKk+fn5pqammpqam2I2cDcb0Mc3i9h7jY2N09PT4XAYLr1H3zkX9Xafn9uwr5TWPrh0YJD36Q7wl74WHrUrkrVvz9ZyLLDPE3b6E9751TnmJn/muTOXXrp0+TuX2R6NRoP1NtSmvj1ZhzIwBQj79mwsxzqDGv4URQmHwzMzMw0NDVqttnAEUB/TnCUAACAASURBVK/X87nU1NS0uLiYTCbZtBxmWzpqb/vyuR/2FQDdotHo1NRUW1vbDX028Iper2fAd1PMDuYKudTY2Dg+Pg6/FtTkvCpxrKs3bn4b9pXS2vftf/z26WdP9/b2smiQ5VMdj+CTkrWveGM+Ftj3YP5fcuu9D+/+6Mevn3nuDPPmq6ysBALah/sCn3+aN37KmIY29lSAsK94SzkZR/PG8uLx+Pj4eFNTk8lkgoevuD0BI9ra2qanpwOBAHz+EGmlcJz0CL7/T9gtAfjgDxCPx0Oh0Pz8fEtLC6KxMNrDd8hx3A29wWw219XVzc/PM0+DvDpwMio2nmIb9pXS2heJRMLhsHo13hNW847R45C1b88mfVywD+SX9beIZZ18//yXxd8v/e73S7/74N6y8/5H7rAD0Vj2hBvKsJsChH17NpaTlEFt6YHX7dLSktVqvaHPTvITtydY/oxGY0NDw9DQUDAYhN/GbnO+j1EfcSxuFbSH7iyVSnm93pGRkcbGRvVcPfU3xmB9Y2MDLiyouuovHXtO2Oc27CultQ8xco5FZSqHmyRrX/GGfYywD+SHgHnwzw18/qkv7vHF7mUjvNCUvkeM2JLHf4R9xVvKiTyaxwHpdHp9fb21tRXun3q9Xu35YTAY9Hr9da22trZ2bGyMrX7BYj6XQ4dS4meESRUuzKlUKhAIjIyMiKKo0+nyhuYxmMvlUmdnp9vtznNkxqv+RFZj9lDbsK+U1j4yfZe4YRS5HFn7WHvYbeN4YR9IBU61zCGXBnbzAO7x/iTs262NlMN+Nf9lMhmXy9XZ2WmxWMxmc6E3qF6v1+l0FotlamrK5/NFIhEMO7I5Z0XeyXRonwqw8dxEIoH4iIiki6Fb8WEyGo039FkHDpPJVFtb29PTs76+zoCvHFBP3Ty3YV8prX37/FIpW2kUIGufulUUbh9H7Hs8rKGziitA2FfYOsptjxr+sB5XMBj8MlY/Rn5v6LMBfsVcAm2ACC0Wy8DAwObmJsYT4V5KCPgYHRxEwwwxRCLc3Ny0Wq1YXq8Q+MDfZrN5bGzM7/cz2jth/rn7b4bbsK+U1r7H+LLplENSgKx9ezYYwr7iMFQ+Rwn79mws5ZMhz0rk9/tHRkawFAeGF8WHCb6iWP6hu7vb6/XCdQAhi2nsa59dG6NkoJssy4uLi4i9x3HcTdGgdtdAhG2dTofYexhtR+UEuOd9feVTb7dhH1n79ln5Tl42svYVb/OEfeUDdsWflLCveEspz6Nq+18wGNzY2FhYWGhsbLyeC/vCjH/MHGU0Gq1Wa09Pz/LyMtx+KeZf8V4VwCdJUiaTicVi4+PjnZ2dVquV4zie5w259ZQZ88HbuqWlZWZmxuFwRCIRVEv111SeFRVPvQ37yNpXvOad1KNk7dvzFUDYVxyGyucoYd+ejaVsM+RRRTQanZ6ebm5uBvyJqmTIrfYB419TU9P8/DwLJkxuv+p+lo3nAviCweD09HRbWxvHcTqdrtCZWhAEnucbGxtnZ2fVxry8r6ZsqygefBv2kbVPXeHKapusfcVfBIR95QN2xZ+UsK94S6GjIAzGHIlEYnR0tLm5Gd6jeZ4foijyPC8IQltb29TUVDQaxWRBSZLAf2XVDakfFsAHJ5hMJhMOh+fm5mpqamDeE3MJZtSbYjb8Msdx17XalpaW1dXVcoi99yQNbRv2kbVPXe3KZ5usfXs2IcK+4jBUPkcJ+/ZsLJQBCqgtTMlk0uPxLCwsIOYf1nvFmK+YS5iI1tTUZLVaBwcHsQhsecZ8YcAny7LX6x0eHrZarQ0NDWpfjZti1m8Gq6sJgtDe3u5yudxuN1tdg2E31cZCBf6OfRzHtbe3p9NpZmSG+vRZDgpIktTT08NxnNFo5Diuo6OjsK6U857dsC8bHiXifPAZyW3T54lWwB1yBJJbk3PjOq1OzPlr8jxvs9nKuXXQsxdRIJPJqF1HFUVZW1tra2vDwm7i9oRJaTqdrq6ubmxszOv1YrU31gedYGMEe0Z4OgcCgeHhYTYaLgiCWiqD4cFyunfu3HE6nWr9CfjUauy4/Xfs0+l06OwhOvyi6bMcFEilUoqi9PX16XQ6wr4d28lO2Mffst3yxz/xJ7zZT/pXHgr4YvciXwSn5id02mxjwSAdYd+OrYZ2MgXYyC/eJOl02uFwdHV1YcgSXqjM8wOrSmDi2vDwcCAQSD1M8Pw4YfAH4MMjZjIZj8fT3d1tsViYr4aYS2yxDY7jTCZTT0/PxsZGocJsD23spsAD7BNFEcvStbW1tVIqSwUsFgsiTpG1r7C15GHfTdFgMGSXcWxqaaJ/5abAW60/r6+vv6F/EC2CrH2F7YX2FFGAmaMymYzP5/P7/Xfu3MF4pTrmnyhm3zI8z9fU1LS0tPT39zudzmQymUqlwEknAP4QuQYWTcTea21ttVgsOp3OsN05Fwui1NfXwwgaDoehcCaXiqhNhwoV+Dv2scBCWFiQPstNAdaNcRzX2dlZWFfKeQ/DPvwER4CoG/rsS5lSGSogCAILEkbYV85vhsd+dgZ/KMHn842OjloslutarXqpN1EUMRwMi+Dt2+84HA5ZltPpNIv5crzC/rHB3GQymclkksnkwsICi73H83we++I1W1NTMzQ0FI/HmeAEfEyKR93QNDU16fV6tXnZWJZJfJjK8umzDw0BjEYjz/Pt7e2PWpNOdn68o+fn56urq5lWoiiWbW2hB2ftheM4q9V6sus/Pd1hKABwUeMLLH+1tbXspxSqGfsE/LW3ty8uLsIVDwGfj4XbL4APzCrLcjweX11d7ezshB8ui7qHh4UCgiCYTKaRkREGfEy0w/hGyqRMjdvtxorFbJIB/MzL7RMzRmFJLrdnZ8+Llnbt2rWhoSHEESiTZrDnY+Jdk0wmOzo6qqur8Z5iutFG2SqAVT7dbjcWetqzIlEGUmBHBdTwF4/Hg8Hg5ORkS0sLAtGJuQQwuika0Fk3NDS0tbWNj4/HYjFFUZLJJNYrO4KDvwA+SZJSqVQgEJienr5161Z9fT06XDwdPtkEvsbGxrm5uVAohKA2ZbuQmnIISaMoytLSUn9//507dwZyCRvl8zkwMDA4ONjS0sJxXHNz89DQ0MDAwJ1cwkb5fN65c8dut9+9ezeRSKhfQ4dQ8Y5fkTD4JZPJ2dlZu91enjWkfNrCPp90eHgYsTaOX4WmOz56CuS9dVOp1OzsbENDA4M/tUkMO3U6XUtLy9TUFNaiAPMdkcl/7DYAfJFIZG5uzmKxAFsxU0LMJUyZ4Hkej7O+vs5i7xHwHXg91eTNMDjwCxyXAkdHR69evdrS0gK31uNy23SfpVSAGksp1T5G16KKcYy+rKN/q4A/VqlkWV5bW2tubtbr9XDyELcnxPxrbm6en58Ph8NgrKfr+cHGc2VZTiaT0Wh0aGiorq4OU/fUtw/jpV6vF0XRZrMtLi4mk0l8R3k6YCd9PrkCWWsfE7dsN5LJZHNz8w294bpWu7KygkhLZasGHvzJ69aJLKHMawU9/o4KnMiqTg/11BVQv4plWY5Gox6Pp729HeH92JgvJhnD+FdTU9PY2DgyMuL1elOpVOkDPgP4sLqGz+fr6uqqq6urqanR6XRgOxak+oY+O1otCILdbne73bFYjJGu+sGf+rdw8m4gi33lnFDPNjc3eZ43mUzV1dUrKys0ra2cqwQ9OylACpACR0oBxkPom1wuV19f3w19NmSxIZfEh0mv18P4ZzQah4eHg8Eg4uGxwd/DmPnHBnMRXyadTq+trfX09CD2niAIat9kg8EA51yz2dzV1VUYbFn9sEfqWzgxN0PYl0GkYrZAxcDAAM3OPjH1mx6EFCAFSIEToAAMYGokcjqdPT09ZrMZTpl5ETlgS7NYLD09PR6PB0FeDtz4B+CTJAkBZeLxuMPh6Ovrgz1STXuiKGInggD09PSEQiF8L4WPdgK+r6P8CGWNfahtHo+HhayD2Zz88o5ylaV7IwVIAVKgbBXIg6RkMun3+0dGRvIGUsVcgkXQZDLV1NTcunVrY2MDw69PvtoHs/Cl0+lIJLK4uGiz2SwWiyiKCG6KG8AANBi0trYWoVjyZu+V7Vf5tB683LFPUZTBwUEsSobVnXU63fDwMBn8nlaNpOuSAqQAKUAK7KkA+I9lCwaDAwMDcJvQ55L4MBkMBsR8NhqN7e3t8/PzsM9JksRiPu9z8JeZ91BCLBZbXV1FHAye5/V6PfM1xgIQGHGuqam5e/cuAs2wG1ZbLtlO2iiBAuWLfahzyWSyrq4OU01RXwVBqK+vTyQSRH4lqH90CVKAFCAFSIHHVgDwl06nUUIsFhsdHTWbzTU1NYjDKqoSHIF1Ol17e/va2lokEonH41gbjVnvduM/BnzpdDqaS9PT001NTUIuqS6S3eQ4Tq/Xm83mlpaW2dlZGs9VjlIqX+xDO5mamrqu1RqNRsQNAvnxPD8+Pk7Yd5QqKt0LKUAKkAKkwK4KqI1/cOOYm5tDzD8sRiCqElsDra2tbXp6OhAIpNNpSZLAdurV3tgemPcikcjs7GxNTQ3Wc+J5XlWqeFPMrleJ5T3X1tYkSWImPfXt7foMdKAkCpQ79o2Pj2O5rTzsa2lpQbhIVmtL8nXQRUgBUoAUIAVIgcdUII+uksnk+vp6W1vbda2W5/m8CMkw/nEcZ7FYZmdnI5EILH8Itgfgk3Mpk8mEQqE7d+7U19djMNdgMIi5ZDQab+gNLKA0Yu+p7z7vltSHaPupKFC+2Ie62N3djfmnDPvYUC85djyVGkkXJQVIAVKAFHhyBZjNIpFIwOWitrb2ppgN+4KJ7OLDhEXS6urqhoaGAoFAKBSCoU6W5XA47PV6R0ZGGhoaEGbv4UnZ/w2GbGlms7muru727XfQaSq5xK6OP+nz6ChQptgH5nM4HLBRA/VuZEOgG9AetFrt+vo64jYfnW+L7oQUIAVIAVKAFNinAnmWtkwm43A47HY7Yr4wi52YSywKtMlk6u3tXVlZ6e3tNZvNBsODuMrIhk+M55pMpp6enkAgwCAv74oKpaOnQPlin6Iodrsdpr4begOCW+LnC2akDg0N0fS+o1dj6Y5IAVKAFCAFHkGBQhTb3NxEzD8Y8DD5z2g0YgkNhFNmsfdgFhFzCYO5HMcZDIbx8fFwOKy+DwZ/6p20fdQUKEfsQ9WMRCJ1dXWo7nq9vrm5eWJiorW1FfY/QRBqa2sRXoiq8lGrtXQ/pAApQAqQAo+hgBoBg8Fgb29vQ0NDfX09fG/FXFJzHttG7L26urrm5ubR0VGfz4erqwt8jPuhU0qvQPli3/DwMIsqKQiCzWYzmUzDw8MssPh1rXZsbIwMfqWvlHRFUoAUIAVIgcNTII/VEokEAj7DXQM2PzbfHc65Fotlfn4+Ho+zu8orhO2njSOuQNlhH0x3kiQ1NjbC1IdfM7Bdt7W1qQ1+zc3NiPNCBr8jXo/p9kgBUoAUIAUeSQFwG+vd4vH43bt3a2trWc8I8mtra5uamopGoyg876xHuiJlPgoKlCn2ra2toWaLonhDb7BYLKBAs9lssViYwY/n+bW1NTL4HYWaSvdACpACpAApcBgKMPJTFMXj8ZhMJkMuPssNvcFsNkuShIuSee8wxC99mWWHfel0OpPJTE9PI1wfsM9ms7GprGxaqyiKPM+3trbKskzVvfRVk65ICpACpAApUDIF0M1h1jtWrtLr9TU1Neg01WhYsluiCx2GAmWHfai7AwMDWIfXYMj68Pb19WGol+d5u92O3zrYo9frt7a2yOB3GJWPyiQFSAFSgBQ4IgqgcwyFQjU1NWrsS6VSR+QO6TYORIHywj5U60gkUlNTg5FcQRBu336HzWYQBKG1tfX27Xfg7WE0GnU6ndPpJGvfgdQ2KoQUIAVIAVLgaCqA/jEcDhP2Hc0v6KDuqhyx786dOzqdDsO7JpOps7OTzWA15CY09Pb2sskNHMeNjo6Ste+gKhyVQwqQAqQAKXAEFSDsO4JfymHcUhlhH+p0MplsaGhgFuyGhgaLxQLaY+O8jY2NWMFaFEVBEBobG7FSDUo4jK+ByiQFSAFSgBQgBZ6iAoR9T1H8Ul667LBvYmKCLchmMBhMJtNN0XBD//d/BoNBr9e3t7fDyQPjvFNTU2TwK2W9pGuRAqQAKUAKlFIBwr5Sqv0Ur1VG2KcoiizLTU1NDPtu6A01NTUtLS3N21NLS0tjY6PRaIQVUBAEFsDvKX5VdGlSgBQgBUgBUuCQFCDsOyRhj1qx5YJ9qNCbm5sY3mXxx0VRRMSWwg2DwcCy6fV6l8tFBr+jVn3pfkgBUoAUIAUORAHCvgOR8egXUi7Yh8U25ufnEa6P8RzbMDxMbA9boAYB/Gw2G63YcfQrNN0hKUAKkAKkwGMoQNj3GKIdx1PKBftQoe/cuXNdq82bzHdD/3er3k0xS3/qqX5sWxCEQCBABr/jWMvpnkkBUoAUIAWKK0DYV1yfE3O0LLAPtTmZTGLGnrkgMcMenHkLjj9Ysc3n8xH2nZiqTw9CCpACpAApwBQg7GNSnOyNssA+fIXpdFoqSMlkUpIkq9XKcZzRaOQ4rqenpyDXgx1oFSe7QtDTkQKkAClACpShAoR9ZfKllxH2FflGbTYbsI/n+b6+viI56RApQAqQAqQAKXDyFCDsO3nf6Y5PVF7YhzXW1J9YZJphH8dxfX196gzq7R0VpJ2kAClACpACpMBxV4Cw77h/g/u8//LCvkJRUNEZ9jFrH/YX5qc9pAApQAqQAqTAyVPgqWOf2shCXfDhVTDCvoyiKAz7YO0jv43Dq3BUMilACpACpMARVOCpYB9QD8NueZpkMhnsJwTMU+YJ/yTsI+x7wipEp5MCpAApQAocewVKiX2gvTzJ0ttT3tEdT8nLQ3/uRwHCPsK+/dQTykMKkAKkAClwkhU4bOxTj+FCx0wm4/f7V1ZWpqam7Hb77dvv2Gw2ay7ZbLbBwcG5ubn19XW/3890LyyEHaKNfSpA2EfYt8+qQtlIAVKAFCAFTqwCh4p9eQO1gUBgdHS0ubnZaDQKgqDVanU6Hb89Xc/tvKE3GI1Gq9U6NzeXSCTU6ueVqT5E20UUIOwj7CtSPegQKUAKkAKkQFkocEjYxwZn4/F4IBCYmZnp6Ogwm806nU4QhBt6gyiKRqNRLEjYiVW1eJ7X6XQNDQ29vb0rKyvBYDCVSmEWPsHfo9ZOwj7CvketM5SfFCAFSAFS4KQpcODYx4BPUZTJycmamhqY8ziOgw1P3CntiIBAQ0EQOI7jeV4QhNbW1vX1dXwH6gudtG/lEJ6HsI+w7xCqFRVJCpACpAApcKwUOFjsY0a4QCBgt9t1Op1erxdV6aZoEARh+7jurn/hXDURchx3UzRMTU0lk0nIzK54rFR/CjdL2EfY9xSqHV2SFCAFSAFS4EgpcIDYh6Ki0ejw8LDJZOI4TswlrHp/Q2/ged5gMDQ2NrblUldX1+jo6NLSkiOXNjY25ubmBgcHbTZbay7V1tYCCQ2G7KAwyrkpGjiOa2pqWlxclGWZIq8p+0uEfYR9+6splIsUIAVIAVLg5CpwINiHYHuKoqyvr1ssFp1Oh9l7Yi7dFLPAZzabu7q61tfXw+GwLMsP1rwv+p/P51tYWLh9+x1RFHmeR2n4FARBp9NZrdZwOKwoSjqdVigVVYCwj7CvaAWhg6QAKUAKkAJloMCTYx9KUBRldnbWYMiO4bJhWcCZXq8fHx8PBAKJREKSpHg8Ho1GY7FYdK+USCRkWY7H4263u7u7W6fTcRzHRo2NRiPHcfX19VtbW2Tz27OqEvYR9u1ZSSgDKUAKkAKkwAlX4AmxD6cnk8n19XWj0Qgmw2isIAjNzc02m21+fl6W5UQiAdSLPUzxeDwWixX/BCAmk8l4PD48PGy1WmtrawVBwJiv0WjU6XStra1er5c8PIrXVMI+wr7iNYSOkgKkAClACpx8BZ4E+0Ba8Xj89u13qqurRVXS6XQ2my0ajaZSqWQyCXp7yHsPUI/9WWQDUAg6lCQplUq53W7M+TMajWzWoE6nGx4eJptfkfpK2EfYV6R60CFSgBQgBUiBslDgCbFPUZSenp7rWi2DMIMh63IxMDAQjUbZeK6a3hjkFbfzFZ6CMWFJkrxeb3Nzs06nY34eoijqdLqFhQWa57dbrSXsI+zbrW7QflKAFCAFSIFyUeCxsQ8nut1uk8lkMBjYwK7RaJyensYcPkZ42CjkvLwMeX8y8mNjwRgmTiaT4XC4t7dXEARDzskXPh8tLS2RSIRsfjvWXcI+wr4dKwbtJAVIAVKAFCgjBR4P+3DW2tqaGrwEQairq9vc3EylUmqAU9Oeej+DOXUG9fZuGWBHlGV5cnJSEISb4gPo5Hm+oaEhGo0S+RXWYMI+wr7CWkF7SAFSgBQgBcpLgcfAPkzp8/l8JpOJBWq5oTeYTKbNzU1ZltlMPrW5DsCnprrCo2ooLHIUh6LRqCzLExMTiO1yU8wu48txXEdHhyzLeK7y+i6LPi1hH2Ff0QpCB0kBUoAUIAXKQIHHwz5FUWw2G8dxbEqfIAiInwzmY9CGDfWnmu12s+ftxoisWFaIJElYDgR3YjQar2u109PTNMkvr/IS9hH25VUJ+pMUIAVIAVKg7BR4VOxjpj6j0YgpfbCx3blzR5IkZudjPAc+U0foK0Q6xnBsA3inPouVnEeQiUQiEok0NTUhqgsm+bW2tqbTaQrpoq7NhH2Efer6QNukAClACpAC5ajAY2Cfoii9vb1wpIULrdVqxXw7NdKpyS+lSolEgjGcOn8ez8ViMURswamyLDMoVG9Eo9FkMunxeCwWi5r8FhcXaYafukIT9hH2qesDbZMCpAApQAqUowKPhH3IvLi4yADrhj67xq7f70dwPjYIy8x1iNI8Nzc3PT09MzMzOzvr9XolSVIDnxrjGCwmEomNjY3p6enZ2dmpqanl5WW1d7CaEaPRqCRJi4uLzKFYr9fX1taGQiEiP1anCfsI+1hloA1SgBQgBUiBMlVg/9iHnMFg8KZoYJ4cPM+vra3t5saRTCYDgUBHR4dWq72uzSadTmc2m2dnZ9kpaoBjsJhOp2dnZ3me1+l017Xa6upqQRAmJiYSiQTyqEkR0QFTqdTg4CDHcWIuIV40YR+r1oR9hH2sMtAGKUAKkAKkQJkq8KjYZ7fbmSeHIRczz+/3w6THDHWM5La2thBX2ahKPM+bzWav18vOUjNcLBZLJpMrKytwE2bnYTQZUaDzLoRgfrIsr66usqFnURQFQdjY2CDyQ80m7CPsK9N3HD02KUAKkAKkAFPgUbHv9u13mEWN5/mpqak8Tw42ehsOh+vr63meh48t4jnjU6/X19fXB4NBBoiM5JLJ5PLyMs/zYEr1WSC/3t7eZDLJSFFdQiwWs9lsiOdiNBq1Wu3g4CC59OK7Juwj7GOtnjZIAVKAFCAFylSB/WMfzGatra3gKkEQ6uvrw+EwjHZ5+JVIJAKBABZPQzjlG3qDOrSyIAgLCwt5yIg1fLu6utQGxbyzmpqaGPbhokBAhPEDMoqiCOwbGhoi7EPNJuwj7CvTdxw9NilACpACpABTYJ/Yh2wejwdxWxC0xW63MwJj5jdsJBKJYDCIzKIo6vX6uro6q9V6Q/9gRQ2dTjc4OJhOp+HVy6gxGo02NTWBLBECur29nZXD83xzc7P6ouxE2AvD4XBjY6MgCEajkef5trY2WZZpnFdRFMI+wj7W6mmDFCAFSAFSoEwVeCTs6+/vhx3OYMiuyeF0OmGuy2OvWCwG7MNyvaIo3tAbLBZLU1MTc7bleX5kZCSVShUGc2EGRYMhu/BGc3MzrIaIyafGPrW1D7iJdTvYMDTHcaurq4R9hH0KKjoLMs5xXF9fH9WMMn3t0WOTAqQAKVCuCuwT+xRFkSSpvr5er9ezkMiF1MVsfhjkhW2vcJD3ppgd8F1dXS2M5CLL8sDAgE6nw4xAg2Hb0DDP842NjbtZ++AO4nQ6GSZyHGe326lzJ+wj7CvXNxw9NylACpACpIBKgf1gH/I4HA61rW58fBxBWApNfRhvjUajsK2wGX6MxvR6vc1mU0d4ZryYTCadTqfZbEZoQLVLBxBwYmKCYd9u3Nna2srGeZuammicl7CPsE/V6GmTFCAFSAFSoFwV2A/2pdNpRVFmZmZYeBRBEDweD8MvBm3MIZdt9PT0sLPEXNJqtY2NjfFcwolqcMTiHFtbWw0NDWysFsPEN/SGubm5wuU68k6XZRm3ihmBJpPJ5/ORwY/m9tHcvnJ9ydFzkwKkAClACjxUYD/YhzyDg4NardZoNGKQ1+VyMezLAy9GgWC7yclJvV7P8zzHcTdFg81m29zcLFyijZ0Fn9zNzc36+npBEBC0uba2dmNjg3n+7nZF+ALPz89fV92q0+kk7CPsI+x72Ojpf1KAFCAFSIFyVWA/2AdmQlwVMZd4nldjHyM2ZuQDluHPZDLpdrtnZmZGR0edTmc8Hs+b0qdmOGxjpd1wOLy6ujo+Pr64uIj131j57Ip55wL77t69C+xDGJeFhQXCPsI+wr5yfcnRc5MCpAApQAo8VGBP7EOGZDLZ1NTEluLled7tdu9p7WNwlkwmJUmSZZmdUghwLDM7BECUcglr/iKPGvXUZ2G5jlQqxbBPFEWO4+7cuUPYR9hH2Pew0dP/pAApQAqQAuWqwD6xL5FI1NXVwY23cJCXsZcayNTbADJ1iL79nMLOYkFeUCY7Vw2I2M6z9gH7KFIHuXSQS0e5vuHouUkBUoAUIAVUCuwf+1j0FmDfI1n78hAwD9fUGMe21aeoaW+3/TixEPt4nu/v7ydrH1n7yNqnave0SQqQAqQAKVCWCuwf+/Zj7cvjOTWiAcsK9+x5Sh4Isj8LC4zH44XYx3EcYR9Z+8jaV5avN3poUoAUIAVIge0K7BP7JEl6krl9jO3U0LYjAu6WQZ1Zva3OT3P7tn+3GhlqvAAAIABJREFU2/4iax9Z+7ZVCPqDFCAFSAFSoAwV2Cf2pdNpm82GpXIfY26fGtTU2wza1DvV2yzDbhvqzIXWPqPReF2rnZ2dpUFewj7CvjJ8v9EjkwKkAClACmxTYE/sUxQF4ZqHh4fz4vbtGIdlNz7bcb8a2vbMoM6s3lafiEFeitu37TvO/UHYR9hXWCtoDylACpACpEB5KbB/7JudnWXLZuy5Socay4pvM2jbLRvLsONG3lkI9Tw9PY1VfQ0Gg9lsplU6aG4fze0rr/caPS0pQAqQAqTAjgrsB/uQZ2NjQ6/XY5Fcnuenp6exZkYeeO0IZ0V2qk/fMZs6Q+F24SnxeBzj0UajURCExsbGRCJBg7xk7SNr345vANpJCpACpAApUEYK7Af7IEcqlWpoaEDEZp7nm5ubC5ELewrhrPgeVs5u2ViGwg31KbFYLJlMbm5uGnIJQfvIjRdfH2EfYV8ZvdfoUUkBUoAUIAV2VGCf2Idsdrsdg6ew+Tmdzic3+CEUMwvIXAh2zAtYTXjqbXYKJvaNjY2xwWiO4zY2NsjUR4O8NMi7Y/OnnaQAKUAKkALlpcAjYZ/D4cBCHUajUafTDQ8PA/sYeLENNZYVbgPyErnE1m2TJCmZS3DIzSuK/Vm4gfJBh5FIpLm5WRAEjPC2tLQkk0nCPsI+wr7yeq/R05ICpAApQArsqMA+sY+RU1tbG8K46PV6i8USDAYTiQRQTI13hXAWzaV4PJ5IJFKpVCKR8OeS0+lcz6WNjQ232+31ekOhkCzLkiShZHZiEbMfIvbJsry4uAhTn9Fo1Gq1w8PDzBN5x8cvn500yEuDvOVT2+lJSQFSgBQgBXZW4FGx79atW+oh1PHx8UKDXyH/AfVSqVQ0Gt3a2pqamrJarQ0NDXV1dZiBp9PpeJ43mUwWi6W5ubmzs3Nubi4YDMbj8XQ6LctynglQjZXsctFo1Gq1gkqNRmN1dfWdO3cI+/DFE/YR9u38CqC9pAApQAqQAuWjwKNi38DAAMM+vV5fW1sbCoUYeDGDHLAsGo3G43FZlj0ez+Tk5MjISFtbm9Fo5Hme4zhBEJhrsJhLBoPhht4gCALHcTzP19TUdHZ2jo6Ozs3NRaPRHcME4tI4ur6+Do8T5m68vLzM7JTl853u+KSEfYR9O1YM2kkKkAKkAClQRgo8KvZFo1Gz2WwwGMRc4nl+eXk5z+AHyxxQLBwOT05OmkwmnU53XasVBAHnGvdKoije0Bt4ntdqtRzHNTc3r62tJRKJZDIZiUTU1j6M8EqSZLfbGZJyHNfd3U3Mx6oyYR9hH6sMtEEKkAKkAClQpgrsH/sYQk1OTqqX62hra5MkKc/gl8qlubm5hoYGjuMMBgMwT3yY9Ho9x3HagnRdq+V5/oY+i5VGo5F98jyv1+vb29vdbncmk0kmk+yKcOB1uVyiKIIpDQaDXq/f2tpi91ym367qsQn7CPtU1YE2SQFSgBQgBcpSgUfFPiBXe3s77Go3xeywbH9/P8ZzMcgbCoWmp6f7+/uFXBJVCbQnCEJdXV1XV9f4+PiEKmEg2Gq1ms1mDPViuBafoijqdLqampqhoaG1tTVgXywWSyQSbre7tbUVI7xYMnh6epqYT12jCfsI+9T1gbZJAVKAFCAFylGBR8I+BlLhcNhiscC0JopidXV1b28vxnYTiUR/f391dTUbb4XFzmDIjtjW1NT09vYuLCyEw2G4a6RSqXQ6DesgvDdisVgwGJyfn7fZbGA4ZvPDyK9OpxMEYXl5OZlMInN9fT27HM/zNpsNt4qnK8fvteCZCfsI+woqBe0gBUgBUoAUKDMFHhX7GPk1NjaqQzff0Bv8fr8sy4lEYnV1Ve2rIQiCVqsVRbG3txd58oKzIEQL+0SQF4Tx29jYgBlPq9WCMuER0tLSEgwGY7GYoijz8/PXtVqj0XhTNJhMpqtXr9rtdnLgzavIhH2EfXlVgv58HAUylEiBAgUepybROaTAU1Lg8bAvk8msra3V1tYyz1mDwdDa2upwOIB0CwsLFosFA7Wtra0zMzNOpxPRmIsvyMF8NZANziLLy8sTExNms5nneUEQbt265fV6Udrs7CzsjhgI5jiuo6PD7/ejXT4lUY/iZQn7CPuOYr2keyIFSAFSgBQopQKPgX3M4Od0Og25JOYSx3EWi2V1dVWSpEwmMzExIYrixMREJBJJp9MYkGVUx0K9MM+MvD0sBEwsFpMkKZ1Ou93uzs5Os9m8tbWFgM8jIyMcx2HhEFEUBUGgZTl2qzyEfYR9u9UN2r8vBfCu3NjY6Ovr6+3t7aNU9gr09PQMDw+Hw+F9VSDKRAocDQUeD/vYEOry8jIz+GE9NJPJtL6+jqAqLpcrlUrlRVpWc56aAvO287JFo1F4766trSWTSXiNsPl8oiiyVUPYvR0NgY/KXRD2EfYdlbp4HO8DL8pgMIigo/jkKJW3AggwVl9fT2uAHsdGXbb3/NjYx2x+drudTa0TRfGmaOA4rqurKxwOS5IUiUTYqC7zvWWEp2a7wm2WDRuY/JdKpRwOR319vU6nw+XEXOI4bmVlhZhvt5pM2EfYt1vdoP17K4AX5crKiuFhzFI4mu0Vf5SOn1gFRFXy+XysR9y7MlEOUuCpKvCE2JdOpyVJ6ujogNOG+DDpdLq2tjasrivLch75qQkvj+3Uf+ZhopxLDocD4V3gwwE7H8dxFLGleD0i7CPsK15D6GgxBfCiXF1dZaMbiDLAUypLBQRBuCkabmYjxWZjzBL2FWs8dOyIKfAk2Md+3qRSqeHh4Rv6bAw/ZoETBKGpqWlmZmZjYwNuuRj5LQQ7NQWqt5E/Ho9jWbbV1dWhoSGTyYTJfDfFbAhonufNZvPS0hK7mSMm8FG5HcI+wr6jUheP430UYp/BYLBarR0dHe2UykyBjo6OtrY2AB8+/X4/9UDHsV2X5z0/Ifapq/ry8jL8KrC6BrZ1Oh3P84ODgx6PJxaLIcIL4z8WtKVwA3GYZVmORCIbGxs2mw2rtIEsMcCi0+kQyUV9G+X5Pe751IR9hH17VhLKsKsCediHUYZAIJDJZCRJyg1E0Ee5KJDJZNgC8MA+svbt2nLowNFT4MmxD8iVTqcVRXG73XV1ddXV1QzOxFyC74XNZltcXAwEAslkMpVKybK84yd2JpNJj8czPT3d1NSk1+t5nmc0idGV6urqrq6ueDxO8/n2U60I+wj79lNPKM/OChRi3w29wefz4YdsglI5KZBKpdbW1jDcD+wja9/OzYb2HkkFDgT78GQoKhKJ9PX11dXVweWCjfneFLOrdAiCUFNT09/fv7S0tFA0dXV1YQwXjYuVg9U+WlpahoeHcUV8Hkl1j9BNEfYR9h2h6njsbgVvGTa3D+sFsQj1CCJKn+WgQCKRKMQ+svYduxZdzjeMt1k4HK6pqcGcOb1eX1NTk0qlHkMWRmDRaBRB9QBtcOYScwnL8l7Xatk/nU53XatVf17Xanmeh8mQOYKJoshxnMlkWlpakmUZt8eu+Bh3W1anEPYR9pVVhT/ghy2CfeXAOvSMTIEdsY+sfQfc3qi4w1TgYLFPPeCrKMrCwgLMftoc1bG4yozkim+IucTzPABREASr1ep2u6EHhpUPU5sTVTZhH2HfiarQJX6YItiXSCQYE9BGOShA1r4Stz663MEqcODYh9tja6Mlk8np6emBgQGM/HIcpzbjiTslRGbBwm48z7e2ttrt9jt37qytreUVjj/pcz8KEPYR9u2nnlCenRUogn3lADr0jEwBsvbt3EJo7/FR4JCwDwKgcCZGNBqdmpqyWq0WiwXhzeHnyz9MHMdhqPeG3lBbW9vd3b20tCRJEiuBPHbVUjzSNmEfYd8jVRjKvE2BIthH1j6GRGWyQda+bW2D/jhuChwq9rEx33Q6rUbAYDC4ubm5tLQ0NjbW0dFhzSWbzdbd3T0+Pr66uup0OqPRKNMynUvqEtgh2tinAoR9hH37rCqUbQcFimBfmbAOPSYUIGvfDs2Ddh0rBQ4b+9RiYOR3//T2qPnV16LtPAUI+wj78qoE/fkIChTBPrL2lRsRkrXvEVoOZT16CpQS+9jTg+fyTIA4mslksH//dMiKpY0iChD2EfYVqR50aA8FimBfuUFPmT8vWfv2aCp0+Mgr8FSw78ircgJvkLCPsO8EVuuSPVIR7CNrX7mBIFn7Stbu6EKHoQBh32GoegTLJOwj7DuC1fLY3FIR7Cs36Cnz5yVr37FptHSjuyhA2LeLMCdtN2EfYd9Jq9OlfJ4i2EfWvnIDQbL2lbLp0bUOXAHCvgOX9GgWSNhH2Hc0a+bxuKsi2Fdu0FPmz0vWvuPRYukud1eAsG93bU7UEcI+wr4TVaFL/DBFsK/MrX2JXCorFiRrX4lbH13uYBUg7DtYPY9saYR9hH1HtnIegxsrgn1PhXjUrKneLv3NSLlU+us+rSuSte8YNFe6xaIKEPYVlefkHCTsI+w7ObW59E9SBPueCnVJkgTuAXU9lXtIJpOJRCIajcZisad1A08F/sjaV/oGSFc8QAUI+w5QzKNcFGEfYd9Rrp9H/d6KYF+JyQPWptXV1WvXrl29epXjuGAwKMtyicErkUhkMpnV1dVvfuvipZcueTyeVCpV4nsosfK4HFn7jnpbpfvbSwHCvr0UOiHHCfsI+05IVX4qj1EE+0rMOvF4XFGU+vp6zcNkt9sVRYnH46XEINzG/Pw87sLhcKTT6RJLUcrnVV+LrH1PpQ3SRQ9KAcK+g1LyiJdD2EfYd8Sr6JG+vSLYpwaCw96GqWlzc/Ps2bMXLlw498K5iopTzc3NiqLEYrHDvrq6fGDfwsJCRcWpiopTTqezTLCPrH1HuqHSze1DAcK+fYh0ErIQ9hH2nYR6/LSeoQj2ldLEBdhqbGzUaDQWi6Wurq6i4tSVK1dg6tvxTtSetolEIv4wqfereQ7b6pwPz4iry2fYB2sfsG/HnOrCWbG4+n4+1adjNiErBJdT31Ve5kP6k6x9T6sZ0nUPRAHCvgOR8egXQthH2Hf0a+nRvcMi2HdIbFFYbCKRkCQpEolcvHhRo9G0tbUtLCyAuubm5nYb58UK6MlkMh6Pp1IpJnEmk9lxRiBQTJ2TnQLqwo3tiH2yLCPzbiVLksQyyLKc3ivJsqzWIR6Py7KM74LdlSzLpRzgJmsfU542jqkChH3H9It71Nsm7CPse9Q6Q/n/rkAR7CuZtQmkNTIyUlFxSqPRtLS0SJJ0+TuXNRrNlStXotGoJEnqm5EkKRaLTU5OzszMhMNhRVFcLpfVajWZTE1NTePj48FgMJPJqE9JJBLgqq2trcHBQbPZfO3aterq6oaGBrvdHovF2EhuHvY5HI5MJrOwsGDLpdXVVZYT3IaSA4FAV1eXzWZzOByRSMThcLhcLufuye/3s4eCE0kwGBwZGbkpGq5du8Zx3ODgYOFTqEnxMLbJ2vf3hkFbx1ABwr5j+KU9zi0T9hH2PU69oXOgQBHsOwyw2LHMeDyeyWR6eno0Gk1lZeXs7KyiKENDQzD4jY2NqQ1+MEr5fL6KilNnnjvj9/tnZmYufOMCMuPzwoULi4uLqVRKPUYcCoVaW1vPnj2rzontq1evbm1twZJXiH2KokxPTyOnzWZT3wxsjZlMZnh4GBm2trasVmvhJfL2GI1GTFuMxWKKogwPD3/t6+fz8ly8eHF4eLhkfsRk7aN3wnFXgLDvuH+D+7x/wj7Cvn1WFcq2gwJFsE9tLdsR1w5qJ8xd1dXVGo3m0kuXYD8LBoMvvvhVjUZTXV2tNt2BTvx+v0aj+drXzzPGev755zFGDHh69QevplIpjN6C5Jqbm3Goqqrq2//47ddef+3SS5cYaV3+zmWMNedhH+b2Mevjqz94NW98Vn3z17VaRVGamppYsYUblZWVmL8I7FMUZWNjg8Hoiy9+9erVq7B04ty1tbU80Dwo2QvLIWvfDi2Edh0fBQj7js939UR3SthH2PdEFajMTy6CfYVYcBh7YOqbmJiorKysqDg1NjaWyWQw6gp+qqysHBsbS6fTzHSXSqVg7auqqtJoNFevXl1ZWXG5XD6fz+Fw1NbWajSaiopT3d3dmUwmHo+n0+np6emzZ89WVlY2Nja6XK5AIJBMJgOBwNraWldXF8q5ffsdXFpRFDa50Ol0plKpTCbD7nBkZATFMlPfzMxMZWXl6WdPLy8vp1Ipt9u9sLCwuLi48DDNz88vLy9PTk6efva0RqM5/expl8slSVI6nb579+7zzz+v0Wi0Wu3S0pLH45EkKRwOLy0tgYO/+a2LuIfDpnCy9pX5q+AEPD5h3wn4EvfzCIR9hH37qSeUZ2cFimDfYXMGg0hJkpipD2yHoU+bzQaLV3t7O4vkwgZ5YTY798K5QCCgKEoqlfr/7Z0PZFvr/8fPKkRnV6eUzp3dK3527746OmqU7O7uGqV6IyJysyOiouqamqqK2Z1QU1FVM1VVNVVTNVNTUzUVVVFRUVFTUxVRURUREXFEHMf53eZ9++wsyc76L2mS83lc2UnynOfP+5yTvu77eT7Pg7iKg4MDg+FwzBcDqfF4XJZllH/9+o8omc2rk2U5lUrBXbNYLLIsI78S+zCZjxl+HR0dGA5GjEgmk7FYLBzH/dnVBVcyL2oECsuyzPN8Xd0lnU73+vVr1CsIwoM/HnAcd/Pmzf39fVmWBUFIJg8ji2VZ3tvbg9/Z09Oj9DuZbud+QG5f8YeEPq0SBQj7quRCnbWZhH2EfWe9h7R8vgr2nTtVFBaYSqVEUdza2qq/XM9xnNvtliQpnkuZTGZ5eRnYp+Qehn2w6Hp7e0GEgDCExALyOjo68BWKcrvd4+PjgiDE4/F0Oo0ID4ToIr/JZMpms+DCPOxTYmjD1Qa2mF82m93d3cUQ7evXrwFneeuwoEnd3d3oi9frxaBtJpOJRCL1l+vr6i5NTk6CXBkjgh2fPn1aV3fp+vUfDw4OGKoWyngun5Dbp+XfgdroO2FfbVzH7/aCsI+w77s3CWX4pgIq2FcGtw/YZ7VaOY5rvdPKlkFhzcU4b/3l+vfv32OcNw/75ufn2ZBrOp0Gn/E8z3FcW1sbuoDpd6xMWHqRSMTv94+NjT3i7Q1XGxA1DHbMG+Rlbl80GoUvyPM8CpEkiW0rUrjWDPhPkqSOjg4w35s3b1Aai/8F73q93kAgsLKysrq66vP5VldXV1ZWAoHA6OioXq/X6XRv374twww/cvuUNwkdV50ChH1Vd8lO12DCPsK+0905dNahAirYdy4ekkohYL6NjQ3MeDMYDE6n02q1/mWz/2WzW61WnueNRiMGc61WKwZG87BvYWFByUNK7Gu53RKLxWCSoa5QKDQ5OelwOFrvtGL8FDSGV6PRiOl6RbEPJWPiYFNTEybhybJsMpk4jmu+1sxigdFlEKcsy3Nzcyi/vb0dUSYINMlkMnt7e+idshlFj1++fKnspoqqp/6K3D76Rah2BQj7qv0KHrP9hH2Efce8VShbEQVUsK/Ubh9iZkFF6vRTV3epsbFxeXkZhh9COjDI++7dOyUPoUy4fa13WjGeC/J78uQJXD1wVVNT059dXQMDA0+fPsVcQKPRCH+uKPYh9IQFDmN+XiwWg//ndruVzWAu4+joKKDW4XDkcSGwD70wGo08z1ssFuvXyZJLZrN5aWkpb73AU+Odyonk9hV5Quij6lGAsK96rtWZWkrYR9h3phtI4yerYJ8KH5zLVwApxG3o9Xq32z02NjbydRobGxscHMQyzg/+eIDxXCX2qbt98XgcI7xutxu0Z/g/w9TUFIJ52d4bf3Z1cRx377d7KoO8MMNCoRAwbnx8XJKkyclJWH17e3vKDTxgDQ4ODqLSvr4+WZaVGfIGeTGGKwhC9uuUyWQQqiIIwrlorlJIqd0+SZJEUcT9pvGHjrpfIgUI+0okbKUVS9hH2Fdp92Q1tUcF+0rq9jE/7JdfDzdka7ndkhcAy0TMZDJ3797F5D+EaBwH++rqLmGQN5vNfv78Gau3tLW1RaNRBE9gGWTYgUajkWFf0XX7WGv/9cMwUa+np0eWZfCiw+FQzi9ECbFYDCuzcBwXDofzdloDYyGkg+O4xcVFrB3DNudFjVgjEBG+Jb0cwMFSuH3YQ49dTTogBUqnAGFf6bStqJIJ+wj7KuqGrLLGqGCfijN09q/ARuPj41jTZHx8XBTFRCKR/DrF43FJkvr6+mCqBYPBTC6Fw2EMj6q7fdi67d27d3DdJiYmEIoBVy+RSEiStLGxgVBcDPJi8ZS8SF6GfaIofvjwQa/XN19rnpuba7jaUH+53u/3s700cPry8nJ7ezvHcQaDYXZ29us+/fcuk8lEo1GMO/f29gIc0TBMMRRFcXh4uKOjo6+vb39/v+oieZXAJ4ri2tra7Ozs2toam1FaZY8KNbfiFSDsq/hLdD4NJOwj7DufO0mbpahgX+nsJeyHkUgkbv3vFlatSyaTRbEGdOj1esFtLpdLkiRBEL6LfXD7gH1YaZnjuNHRUfiF4EsgIKxEjuPUQzpAuqC6hw8fchwHWLTb7Yg1gVGXzWbX1tbw1c2bNyORyLcoR8glRIRwHPfq1StZlpnbJ8uyz+fDlMf29vYyDPKm0+mzu31APeVgbiqVWl5eHhoaslqt93+/7/F4ZFkWRVGbjxv1uqQKEPaVVN7KKZywj7Cvcu7G6muJCvad3dL7VgmAuaWlJTh2T548UcZDKM/CYOjnz5/rL9frdLrma80HBweSJO3u7l754YpOp8tz+1Cyw+HQ6XStd1pjsZgoitvb21gnpfla88ePH3GRJElaW1tj+7PpdLq2tjbMBWTIpdPp2BJ9aBXKn56exvbBHMdNT0+zEV58e++3e3V1l/R6/ZMnT/7dhGNiYmLo6/TixQuPx7O7u/vvMPHm5iYYsf5yvdfrTSQSmM83Pz/ffK0ZtaytrbEqlOKc7/EZ5/YpvT0oHI1G379/39/f/2dXl8VicTgcFotlZGSEsK/6fiaqpMWEfVVyoc7aTMI+wr6z3kNaPl8F+0rk9sHq29/fB3Jd+eFKKBRig6SFKIPIDxYeYbfbsUgy/L/5+XklMiKWAhbaTz/fiMVi6XRaEIS3b9/+9PMNnGK32/v6+jBFD7CFSF6O44LBIKYYspWiQ6GQMoQWjY/H4y23W2DFLS4usgYA+5RbA6PGoq+rq6uSJGUymWAw2NbWhjwtt1vMZjNb56/+cv3s7Cwrv1Cc8/3kdG6fEvhSqdTHjx9nZmbGxsYcDofZbLZarQ6Hg88lk8mE1arJ7dPyb07p+k7YVzptK6pkwj7Cvoq6IausMSrYd75IwUpjS+g5HA6n0zk2Nqa+8xhcqN3d3Z6eHqfT+ffff8dyyeVyOZ3OQCCgRMZkMpnNZicmJpxO5/Pn/yQSCWx3Jsvy0tLSvd/uwVrDxriPHz/e2dmRZXloaOjBHw/u/35/Y2NDFMVsNru1teXMJURjKAkYZNnT08Nx3C+/3sT+Gegdmjo0NOR0Oru7u/HaXZBcLld3d/fnz5/ZpiAHBwdDQ0OYDgj+++nnG3a7fXV1lY0gMwFLdHAit48N5rLbPRqNLi0tDQ4Oms3mrq4uk8lkt9v5XHrE2x/xh8eEfUwuOiiFAoR9pVC1Assk7CPsq8DbsmqapIJ9StY5X9TA8iVMo+9WBI+N5cdEN7xVMh9jL5aTNTuZTMK0297eDgQCm5ub4XAYhIdphZhpx0pga7uwSXUItsDCfqIoYnrfwMBAnhWHyX+sASoHWM8FVIrtSRKJRCgUCuQSmxSITYpZR0p6cBy3T+ntYdri3t7e1NSU0+k0mUxYZBv2nsPhsNsPl90m7FO5Deirc1SAsO8cxazkogj7imAffprplRT4rgKYfe/3+/EHm+f5v2z2SCSCpUNKBxmpVCqRS8fEGvAWQjHQKpxeFBmTyaQyJ/IjZzabhSbgRXxYWAhrHssAQUB1r1+/rr9c/9PPNz59+qRcjQ8VoXY0T+VVWSl6JwgCLgcGf5PJpDJP6a4F06cQ+xh9shsJfwxisdiHDx8wbRGDuX/Z/vP2eJ5/xNvtdrvJZOJ5fmBggOcP3zO3jy3gx8qkA1LgXBTA47O/v9/T02Oz2Xiet9lsPT0931ocqpLJhtqmogBhXz72jY+Pq+hFX5EChQoEg8FC7Csnc5SaaRjZMNMur3ds5ZTClrDJiIlEIpvNvn37FsEWw8PDeVZf4bkn+kTZtrzmnaicU2cuxL5wOAxKY/dMJBKZm5tzOp0Wi+XPri6z2YwBXP4oWSwWm83mdDq9Xu+LFy+ePHmCP8DAPoR0sNLogBQ4dwXi8Xhvby9h37kLWzkFEvZ9hX0Wi8Xr9Uaj0T1KpMDxFIhGox8+fGB/m8vj9p0aTcp/IgI1lpeXb9y4cet/txDJcf36j2VYS6+cnS06t29vb0/OJUmStra2MG3RbDbD22ODubZcwn7K/f39AwMDjx8/7u/vBx3C/+N53mw2ezyeaDQaiUSOd29SLlLgZApEo9HNzU2Xy4VblNw+uRYTYd8X7GM/r8oZ5XRMCqgogMAFh8OBCViPeDvDvgsxnMoJOsesCzEowWCQbRzcfK15cXFRGeF7zKIqPFue2+dwOAKBwPv370dGRjwezyPebjabMVzL7hYM5vb09AwMDExOTvI8Pzg42Nvbi72F8zLDF0SIi8o9yaJhKA8pcCIF8GvmdDrZn0LCvlqkPpmwLx/7MLHGTokUOIkC7A85w74KZ5QyNy+RSCwuLno8nlevXu3u7tYe8+W5fUA0p9NptVpNJpPFYmGDuexWsdvt3d3dXq/X7Xb39vbC/IPnx+cSy6k8OMldSXlJgdMogPsNM5Vpbl/tkR9h33/Y19XVxdbHwm8uvZICx1eA/WFm2EduXx5ZykepMIwjL2eVvlW6fbgfzLlktVrtdjt+Xth9gr+pjx8/np+ff/78H5fLhWx4hd3CMrMDnucdlEjfki55AAAQvUlEQVSBcilgsVicTieFdBz9dNXIv4R9h9gXjUbdbjfm3GB4hV5JgWMqYLPZ/rIdrqyG/xj2VSm7lK7ZLEC4JoE4z+3D+KzP5wuFQsPDw93d3WxKnxLp7HZ7V1fX06dPe3p6uru7n+SSy+WyWCwoQZmZ53mr1drZ2dnV1UWvpECJFOg8Sl1dXT09PVgXXZIO/1BSqg0FtI59bMfPWCwWCASCubSxsREMBumVFPiuAsjw5s0bkJ9yAZeahJvSQWENlKx0+wBt+/v7+DsRjUYXFha6u7stucQrEnZdQ0iQw+EYHh5GAC8+R4Q4BogtFsvg4ODS0tKHDx+WKJECpVFgeXkZBS8vL8fj8doAHeqFUgHCvkM16H9llPcEHZ9UgaILuNQAx1AXjq9AUbcvbwGXRCKxvLzs8Xgw289sNrMAcObqwRR0u93Pnj1zu90DAwNsDWeTyTQ6OnrSm5PykwJnUYD+OJ5Fvco8l7Dvv+siUSIFTq4AFjhdX1/Xwrp9x2cgbeYsdPvC4TB+X3Bn4VgUxZ2dnd3d3dnZ2e7ubiAgn0tw9R7xh5tzWK3W/v7+x48fMzQ0mUzDw8PYHEWkRAqUXgFiPjyzNfZK2FdjF5S6U1YF8LNYFPu0iT6a7XVRt4/t0oGbUgl/+OTg4GBlZeXZs2cI/rAf7cPL55LFYlEO8prNZq/XK8uyKIo4nV5JAVKAFDipAoR9J1WM8pMCXxRQwT6a26c1BPyW25dnmSg9ZdxJgiD4fL7R0VGsz8xoj88lhAqxzdkI+748fnRECpACJ1eAsO/kmtEZpMCRAirYpzXo0Xh/j+P2Hd01X/7N8/9isdje3t7S0tLAwABb7Q+LgRP2fVGNjkgBUuAMChD2nUE8OlXzCqhgH7l9WgPBY7p9RR+aPP5Lp9Orq6vDw8PYxgPL/pnNZuzJS4O8RTWkD0kBUuA4ChD2HUclykMKFFdABfu0Bj0a7+/p3L68uwq3E17x1dbW1suXL10u1yPe3tHRMTQ0RIO8eaLRW1KAFDiRAoR9J5KLMpMCXymggn0V6/alUqnvrpycOkrpdBr5k8kk69HRl6mi3zL+Qy2JREJ5LvsWB4VFsVpYTtZg9aJY/os6OIvb99VdlVtSSun/JZPJeDy+uLg4Pz9PC07laUVvSQFS4EQKEPadSC7KTAp8pYAK9l0UfHyrXoZTyiFCURQFQSg8RRCEbDYrCEIqlWL5Wc5sLoH58K0kSZlMBuWgIkEQlK5VNptF/ry6MpkMKkqn08ivbBKKYg2A9KIoFi0qr+Qyvz0Xt++reyv3Rgl/hd/SJ6QAKUAKnFQBwr6TKkb5SYEvCqhgH8OsMvNH0epSqZSQS6lUyu/3ezyegYEBj8fj8/ni8ThOQYORc29vb2NjIxwOZzKZ9fX10dHRt2/fxmIxmHOhUGhjYyMej2ez2fX19fHx8cXFxYODA3yLLXeTyeTi4uKzZ88GBgZGRkY2NzeTyaRyN15UtLOzs7GxcXBwkE6nl5aWvF7vyspKIpFAUYDF9fX1ycnJp0+fPnv2bGJiwu/3A0YrSuF0On2Obt+XOyx3BPgjBMyThd6SAqTAKRQg7DuFaHQKKfCfAirYVxS/LuRDAFY8Hu/s7Gy+1qzT6bijpNPpmpqanE6nJEnJZDKdTieTSVmWx8bG9Hq92+32eDz1l+s5jquru3T9+o/BYDCRSDQ2Nur1eq/X++CPB/hWp9M1X2sOBAKyLAcCgV9+vdl8rfmoksN/r/xwpampyePxyLKsrMhqter1+qmpKYvFUld3ieM4vV7feqcV25rNz88bDAZ8zkrT6XQ3btyYnJyUJKlyyK9Ebh89aaQAKUAKnK8ChH3nqyeVpi0FVLCvcogEJPfy5UuQU2Nj4+Dg4MzMzPPn/1z54QqQ7tWrVwAyZB4eHuY47v7v95GhsbGR47iW2y3pdHp/f1+v13Mc13C1AQXi4Nb/bsXjcUEQOjo68LnBYPB4PLOzs1arFZ/odLrZ2VllRZ2dnRzHPXz4kLWN47ju7m5JkoLBIJiy+Vqzy+UaHR2dmJjgeR6163Q6bBIPiLwQns6rtHRun7YeKuotKUAKlFIBwr5Sqktl17oCKtiXxwQX9RYu1NbWVlNTE9DN7/ezaNDNzU2j0QiGC4VC2Ww2kUjIsgzs4zju+vUfp6amNjc3x8fH5+bmJEna29sDjXEcZzAYJicng8Hg2NgYeM7j8YAjHz58uLu7i/gDURRnZ2fh/zVcbdjc3BRFEbu8m0wmAN/du3cXFhaCweDQ0NDa2posy3///TfHcTqdDm/ZEOfS0hJOsVqtoihWCF6T21frzzr1jxSoEQUI+2rkQlI3LkQBFeyrEBxJp9OZTKa9vZ3jOKPRGI/HM5lM/CghSqOrq4vjuNY7rYiZVWIfdgPLZDKyLGdyaX9/H9hnMBii0SgjSFmWV1ZWAGQDAwPIn8ylVColy/Le3l7rnVaO49ra2gRBAF8C+3Q6nc/nk2U5m83KspxOp0VRbLndUld3Sa/XR6PRTCYTi8Xi8TiCgnme7+vrm56erhyRSzq370LubaqUFCAFalIBwr6avKzUqTIpoIJ9F2XvKetF6EMgEMB8vrm5uaK6zM3NMV8NhOf1ejmOq79cv7KyAgsQvJXJZKLRKEZ+XS6XLMtYVCWRSEiSNDg4iLNCoZAoisrhV3h7MPDqL9f7fD4QntlshmsYiUQEQWCYKEnS/d/vAyInJiaUwbwI/kVHlJ292GNy+4reWvQhKUAKVJoChH2VdkWoPdWkgAr2VYIRxeIzMPD64I8HPM/bbLa/bHb8Z7PZeJ43Go26XBoZGUGPgH3Xr/+I6XogqlQqpcQ+BFUo4zMe/PGA47h7v91D35UKJJNJSZKAfRzHTU9P4zID+zo6OpSYCITy+XwYmEaZdvthm0dHR0OhkCzL8AsvFvXyaqe5fdX06FJbSQGtKkDYp9UrT/0+DwVUsC+PCS7kLQZS+/r6YObBPFN5RaStLMvAPoPBwNbqw1J5SuyDd6jEPgwld3Z2KhdqQcfREoZ9k5OTkB/YZzabWYQv8mNceGVl5db/buU1uP5yfU9Pz/b2tizLSrK8EIVZpeT2ncfzRGWQAqRAyRUg7Cu5xFRBDSuggn2VQCRK7Lvyw5WW2y2td1qL/tdyu6Xldsvk5CSGU4F9P/18g2FNIfa9efOGsRpsxTzsUyqgjn0mk4kVxWpMJpPZbDYWi/X19f3y6808+Gu+1vzu3btCvmSnl/+A3L4aftKpa6RAzShA2Fczl5I6cgEKqGBf+bGjsEbQGBiusbExEAik02nERhwFdRz+m0wm2bw65SknxT4s3XL37t1YLKa0CdPpNLCvt7cX9DY1NYWrBbevKPZhpxAoHI1Gl5eXFxYWZmZmOjs7MVWxsbFRSZaF3S/nJ+T2XcDjR1WSAqTAyRUg7Du5ZnQGKXCkgAr2VQKRgOFmZ2cBW+/evYOphh07QEWZTCYSifh8vv39fcZnbJBXSU55c/sK3b6+vr66uksNVxs+f/6c58PF43FJkjDcrNfrl5aWYCt+C/swdW9tbS0QCGC56SPJDwOKERHccLVhe3s7ryJlg8t8TG4fu0Z0QAqQAhWrAGFfxV4aalgVKKCCfWVmjqLVwYLa3t7Gkit/dnWxYAis1QITzuv16nS6Kz9cWVxcRIDt6QZ5ERH8bzDvyMgI+BLxv9iW7d8NPGAHNjU1hcPhdDoty3JR7EMAstFo1Ov193+/j71DErkUi8UkSRodHcVag1gCsBIIm9y+KnhcqYmkACkgy4R9dBeQAqdXQAX7KoFFAEySJAHj6uouWSwWLLaXyWSwAPLY2Bg24bBYLKd2+9DZTCaDDTkarjY8f/6PIAhYvU+W5Wg0arVaMTg7NTUliiKI81vYJ0lSW1sb9mrD+tLZXMIyge3t7bAVMZpcIVKT23f6B4nOJAVIgXIpQNhXLqWpnlpUQAX7itpv5f8QSCSKosPhwFBve3v7x48fg8Ggz+ezWCz48MaNG5FIhG2eMTIyUld3yWAwKBvMBnkbrjbU1V1SDvKygI/9/X0We+tyufx+fygUevPmDYvJePz4sSRJjC+xFW9eJG8qlZIkaX5+Hm0zGAyvXr3y+/3BYHB5eZmFA9+9ezdvBqGytWU+JrevFp9v6hMpUIMKEPbV4EWlLpVNARXsqxALCkAmiuLu7i5cPbCU8rX5WrPf78fKeZgO+OLFC47jmpqalPDEsA+m3czMTF74Lc5dWFhABmUVOLbZbNhOjW0Hgj15Ozo68orCOC/Wfy4sB7vM7ezsVM7EPtqlo2wPHVVECpACZ1GAsO8s6tG5WldABfuUwHThx4iK2N7eDgQCY2NjD/540Hqn1Wg0Dg4OLiws7O7uSpKEFfiQMxwO+/3+jY2NwpYnk8n19XW/3x+NRgVByKNbvN3c3PT5fG63u62trfVOa0dHB+y6g4MDdgoq+vTpk9/v//TpE/scNeJbQRCCweDExITL5br/+/3WO62dnZ0ej2dtbW1/f79yNuQFWxcO8kYiEexKrPXnhPpPCpACFaMAYV/FXApqSBUqoIJ9eTxUyE9l/gSjkEU1zmazyo3U4OqBVwobKQgCeq3itCn3UlPWmHcKLD1M1yuUK5VLqEtZCI7ziipsZ/k/KcS+cDhM2Fd47egTUoAUuEAFCPsuUHyquuoVUMG+8mPHd2vE0Cr2vVW+FkUuBOEWLRPlFJ7FMp9XRXDRlE1lxyq1s2aU84Dm9lX9w0wdIAW0oQBhnzauM/WyNAqoYF+lcUk5GUibdZHbV5qHjEolBUiB81SAsO881aSytKaACvZpE30022ty+7T27FN/SYEqVYCwr0ovHDW7IhRQwT5y+7SGgOT2VcQzSY0gBUgBVQUI+1TloS9JAVUFVLBPa9Cj8f6S26f6oNCXpAApUCkKEPZVypWgdlSjAirYR26f1kCQ3L5qfISpzaSA1hQg7NPaFaf+nqcCKtinNejReH/J7TvP54rKIgVIgZIpQNhXMmmpYA0ooIJ95PZpDQTJ7dPAE09dJAWqXgHCvqq/hNSBC1RABfu0Bj0a7y+5fRf4GFLVpAApcHwFCPuOrxXlJAXyFVDBPnL7tAaC5PblPx70nhQgBSpPAcK+yrsm1KLqUUAF+7QGPRrvL7l91fPUUktJAU0rQNin6ctPnT+jAirYR26f1kCQ3L4zPk10OilACpRBAcK+MohMVdSsAirYpzXo0Xh/ye2r2YecOkYK1JYChH21dT2pN+VVoCj2hcNhQRCSyWSKkmYUSCaT2Wx2fX3darXyPG+323meD4fDsizjJinvjUm1kQKkAClQXAHCvuK60KekwHEUKMQ+m812cHAgy7JISWMKyLK8ubmpxL5IJELYd5zniPKQAqRA2RQg7Cub1FRRDSqQh32PDl0e+/j4+OvXr6enp+lVOwpMT0/PzMyMjIz8ZTv0+cjtq8GnnbpECtSEAoR9NXEZqRMXpADDPpvNxvP8I97+iLdbLBYzJU0qYLFYcA/Y7XaHw0GDvBf0XFK1pAAp8E0FCPu+KQ19QQp8VwFgn9/vV2Iff5QcDgfP8/SqHQUY+j/i7TabbXd3lwZ5v/sQUQZSgBQopwKEfeVUm+qqNQWAfTs7O1arFaN7MHvoVcsK8DxvtVr7+vri8ThhX60989QfUqDKFSDsq/ILSM2/aAVAfgsLC06n024/HOSl/7SsAJivv7+fmO+iH02qnxQgBYoo8P/sDTt0qvxVIwAAAABJRU5ErkJggg==)"
      ]
    },
    {
      "cell_type": "markdown",
      "metadata": {
        "id": "guICPdkK4blD"
      },
      "source": [
        "\n",
        "\n",
        "---\n",
        "\n",
        "### 🧪 Caso Real: Dataset **Adult (Income)**\n",
        "\n",
        "Vamos seguir essas etapas com um exemplo simples e real.\n",
        "\n",
        "---"
      ]
    },
    {
      "cell_type": "markdown",
      "metadata": {
        "id": "roY6SCebe0Q7"
      },
      "source": [
        "#### 1. 📖 **Estudar o problema**\n",
        "\n",
        "Queremos prever se uma pessoa ganha mais de **\\$50.000 por ano** com base em suas características (idade, escolaridade, horas de trabalho etc.). Isso é útil, por exemplo, para **classificação de perfil de clientes** em campanhas de crédito ou marketing.\n",
        "\n",
        "---"
      ]
    },
    {
      "cell_type": "markdown",
      "metadata": {
        "id": "jLwMoKr5e4Ok"
      },
      "source": [
        "#### 2. 🥢 **Coleta de dados**\n",
        "\n",
        "O dataset “Adult” foi extraído do censo norte-americano de 1994 pelo UCI Machine Learning Repository. Já está pronto para uso, mas originalmente envolveu **milhões de registros** coletados via formulários e digitalizados.\n",
        "\n",
        "Vamos carregar diretamente do site da instituição que coletou os dados:"
      ]
    },
    {
      "cell_type": "code",
      "execution_count": null,
      "metadata": {
        "colab": {
          "base_uri": "https://localhost:8080/",
          "height": 418
        },
        "id": "0nb0p3im7KNP",
        "outputId": "f26ba406-bf0c-42d7-c2b8-3e5ebbb39a37"
      },
      "outputs": [
        {
          "name": "stdout",
          "output_type": "stream",
          "text": [
            "(32561, 15)\n"
          ]
        },
        {
          "data": {
            "application/vnd.google.colaboratory.intrinsic+json": {
              "summary": "{\n  \"name\": \"df\",\n  \"rows\": 32561,\n  \"fields\": [\n    {\n      \"column\": \"age\",\n      \"properties\": {\n        \"dtype\": \"number\",\n        \"std\": 13,\n        \"min\": 17,\n        \"max\": 90,\n        \"num_unique_values\": 73,\n        \"samples\": [\n          28,\n          73,\n          35\n        ],\n        \"semantic_type\": \"\",\n        \"description\": \"\"\n      }\n    },\n    {\n      \"column\": \"workclass\",\n      \"properties\": {\n        \"dtype\": \"category\",\n        \"num_unique_values\": 9,\n        \"samples\": [\n          \" Without-pay\",\n          \" Self-emp-not-inc\",\n          \" ?\"\n        ],\n        \"semantic_type\": \"\",\n        \"description\": \"\"\n      }\n    },\n    {\n      \"column\": \"fnlwgt\",\n      \"properties\": {\n        \"dtype\": \"number\",\n        \"std\": 105549,\n        \"min\": 12285,\n        \"max\": 1484705,\n        \"num_unique_values\": 21648,\n        \"samples\": [\n          128485,\n          469907,\n          235951\n        ],\n        \"semantic_type\": \"\",\n        \"description\": \"\"\n      }\n    },\n    {\n      \"column\": \"education\",\n      \"properties\": {\n        \"dtype\": \"category\",\n        \"num_unique_values\": 16,\n        \"samples\": [\n          \" Bachelors\",\n          \" HS-grad\",\n          \" Some-college\"\n        ],\n        \"semantic_type\": \"\",\n        \"description\": \"\"\n      }\n    },\n    {\n      \"column\": \"education-num\",\n      \"properties\": {\n        \"dtype\": \"number\",\n        \"std\": 2,\n        \"min\": 1,\n        \"max\": 16,\n        \"num_unique_values\": 16,\n        \"samples\": [\n          13,\n          9,\n          10\n        ],\n        \"semantic_type\": \"\",\n        \"description\": \"\"\n      }\n    },\n    {\n      \"column\": \"marital-status\",\n      \"properties\": {\n        \"dtype\": \"category\",\n        \"num_unique_values\": 7,\n        \"samples\": [\n          \" Never-married\",\n          \" Married-civ-spouse\",\n          \" Married-AF-spouse\"\n        ],\n        \"semantic_type\": \"\",\n        \"description\": \"\"\n      }\n    },\n    {\n      \"column\": \"occupation\",\n      \"properties\": {\n        \"dtype\": \"category\",\n        \"num_unique_values\": 15,\n        \"samples\": [\n          \" Machine-op-inspct\",\n          \" ?\",\n          \" Adm-clerical\"\n        ],\n        \"semantic_type\": \"\",\n        \"description\": \"\"\n      }\n    },\n    {\n      \"column\": \"relationship\",\n      \"properties\": {\n        \"dtype\": \"category\",\n        \"num_unique_values\": 6,\n        \"samples\": [\n          \" Not-in-family\",\n          \" Husband\",\n          \" Other-relative\"\n        ],\n        \"semantic_type\": \"\",\n        \"description\": \"\"\n      }\n    },\n    {\n      \"column\": \"race\",\n      \"properties\": {\n        \"dtype\": \"category\",\n        \"num_unique_values\": 5,\n        \"samples\": [\n          \" Black\",\n          \" Other\",\n          \" Asian-Pac-Islander\"\n        ],\n        \"semantic_type\": \"\",\n        \"description\": \"\"\n      }\n    },\n    {\n      \"column\": \"sex\",\n      \"properties\": {\n        \"dtype\": \"category\",\n        \"num_unique_values\": 2,\n        \"samples\": [\n          \" Female\",\n          \" Male\"\n        ],\n        \"semantic_type\": \"\",\n        \"description\": \"\"\n      }\n    },\n    {\n      \"column\": \"capital-gain\",\n      \"properties\": {\n        \"dtype\": \"number\",\n        \"std\": 7385,\n        \"min\": 0,\n        \"max\": 99999,\n        \"num_unique_values\": 119,\n        \"samples\": [\n          3781,\n          15831\n        ],\n        \"semantic_type\": \"\",\n        \"description\": \"\"\n      }\n    },\n    {\n      \"column\": \"capital-loss\",\n      \"properties\": {\n        \"dtype\": \"number\",\n        \"std\": 402,\n        \"min\": 0,\n        \"max\": 4356,\n        \"num_unique_values\": 92,\n        \"samples\": [\n          419,\n          2051\n        ],\n        \"semantic_type\": \"\",\n        \"description\": \"\"\n      }\n    },\n    {\n      \"column\": \"hours-per-week\",\n      \"properties\": {\n        \"dtype\": \"number\",\n        \"std\": 12,\n        \"min\": 1,\n        \"max\": 99,\n        \"num_unique_values\": 94,\n        \"samples\": [\n          6,\n          22\n        ],\n        \"semantic_type\": \"\",\n        \"description\": \"\"\n      }\n    },\n    {\n      \"column\": \"native-country\",\n      \"properties\": {\n        \"dtype\": \"category\",\n        \"num_unique_values\": 42,\n        \"samples\": [\n          \" El-Salvador\",\n          \" Philippines\"\n        ],\n        \"semantic_type\": \"\",\n        \"description\": \"\"\n      }\n    },\n    {\n      \"column\": \"income-per-year\",\n      \"properties\": {\n        \"dtype\": \"category\",\n        \"num_unique_values\": 2,\n        \"samples\": [\n          \" >50K\",\n          \" <=50K\"\n        ],\n        \"semantic_type\": \"\",\n        \"description\": \"\"\n      }\n    }\n  ]\n}",
              "type": "dataframe",
              "variable_name": "df"
            },
            "text/html": [
              "\n",
              "  <div id=\"df-8f2e8fb0-c2f9-4405-87e1-e51dd4e2669c\" class=\"colab-df-container\">\n",
              "    <div>\n",
              "<style scoped>\n",
              "    .dataframe tbody tr th:only-of-type {\n",
              "        vertical-align: middle;\n",
              "    }\n",
              "\n",
              "    .dataframe tbody tr th {\n",
              "        vertical-align: top;\n",
              "    }\n",
              "\n",
              "    .dataframe thead th {\n",
              "        text-align: right;\n",
              "    }\n",
              "</style>\n",
              "<table border=\"1\" class=\"dataframe\">\n",
              "  <thead>\n",
              "    <tr style=\"text-align: right;\">\n",
              "      <th></th>\n",
              "      <th>age</th>\n",
              "      <th>workclass</th>\n",
              "      <th>fnlwgt</th>\n",
              "      <th>education</th>\n",
              "      <th>education-num</th>\n",
              "      <th>marital-status</th>\n",
              "      <th>occupation</th>\n",
              "      <th>relationship</th>\n",
              "      <th>race</th>\n",
              "      <th>sex</th>\n",
              "      <th>capital-gain</th>\n",
              "      <th>capital-loss</th>\n",
              "      <th>hours-per-week</th>\n",
              "      <th>native-country</th>\n",
              "      <th>income-per-year</th>\n",
              "    </tr>\n",
              "  </thead>\n",
              "  <tbody>\n",
              "    <tr>\n",
              "      <th>0</th>\n",
              "      <td>39</td>\n",
              "      <td>State-gov</td>\n",
              "      <td>77516</td>\n",
              "      <td>Bachelors</td>\n",
              "      <td>13</td>\n",
              "      <td>Never-married</td>\n",
              "      <td>Adm-clerical</td>\n",
              "      <td>Not-in-family</td>\n",
              "      <td>White</td>\n",
              "      <td>Male</td>\n",
              "      <td>2174</td>\n",
              "      <td>0</td>\n",
              "      <td>40</td>\n",
              "      <td>United-States</td>\n",
              "      <td>&lt;=50K</td>\n",
              "    </tr>\n",
              "    <tr>\n",
              "      <th>1</th>\n",
              "      <td>50</td>\n",
              "      <td>Self-emp-not-inc</td>\n",
              "      <td>83311</td>\n",
              "      <td>Bachelors</td>\n",
              "      <td>13</td>\n",
              "      <td>Married-civ-spouse</td>\n",
              "      <td>Exec-managerial</td>\n",
              "      <td>Husband</td>\n",
              "      <td>White</td>\n",
              "      <td>Male</td>\n",
              "      <td>0</td>\n",
              "      <td>0</td>\n",
              "      <td>13</td>\n",
              "      <td>United-States</td>\n",
              "      <td>&lt;=50K</td>\n",
              "    </tr>\n",
              "    <tr>\n",
              "      <th>2</th>\n",
              "      <td>38</td>\n",
              "      <td>Private</td>\n",
              "      <td>215646</td>\n",
              "      <td>HS-grad</td>\n",
              "      <td>9</td>\n",
              "      <td>Divorced</td>\n",
              "      <td>Handlers-cleaners</td>\n",
              "      <td>Not-in-family</td>\n",
              "      <td>White</td>\n",
              "      <td>Male</td>\n",
              "      <td>0</td>\n",
              "      <td>0</td>\n",
              "      <td>40</td>\n",
              "      <td>United-States</td>\n",
              "      <td>&lt;=50K</td>\n",
              "    </tr>\n",
              "    <tr>\n",
              "      <th>3</th>\n",
              "      <td>53</td>\n",
              "      <td>Private</td>\n",
              "      <td>234721</td>\n",
              "      <td>11th</td>\n",
              "      <td>7</td>\n",
              "      <td>Married-civ-spouse</td>\n",
              "      <td>Handlers-cleaners</td>\n",
              "      <td>Husband</td>\n",
              "      <td>Black</td>\n",
              "      <td>Male</td>\n",
              "      <td>0</td>\n",
              "      <td>0</td>\n",
              "      <td>40</td>\n",
              "      <td>United-States</td>\n",
              "      <td>&lt;=50K</td>\n",
              "    </tr>\n",
              "    <tr>\n",
              "      <th>4</th>\n",
              "      <td>28</td>\n",
              "      <td>Private</td>\n",
              "      <td>338409</td>\n",
              "      <td>Bachelors</td>\n",
              "      <td>13</td>\n",
              "      <td>Married-civ-spouse</td>\n",
              "      <td>Prof-specialty</td>\n",
              "      <td>Wife</td>\n",
              "      <td>Black</td>\n",
              "      <td>Female</td>\n",
              "      <td>0</td>\n",
              "      <td>0</td>\n",
              "      <td>40</td>\n",
              "      <td>Cuba</td>\n",
              "      <td>&lt;=50K</td>\n",
              "    </tr>\n",
              "  </tbody>\n",
              "</table>\n",
              "</div>\n",
              "    <div class=\"colab-df-buttons\">\n",
              "\n",
              "  <div class=\"colab-df-container\">\n",
              "    <button class=\"colab-df-convert\" onclick=\"convertToInteractive('df-8f2e8fb0-c2f9-4405-87e1-e51dd4e2669c')\"\n",
              "            title=\"Convert this dataframe to an interactive table.\"\n",
              "            style=\"display:none;\">\n",
              "\n",
              "  <svg xmlns=\"http://www.w3.org/2000/svg\" height=\"24px\" viewBox=\"0 -960 960 960\">\n",
              "    <path d=\"M120-120v-720h720v720H120Zm60-500h600v-160H180v160Zm220 220h160v-160H400v160Zm0 220h160v-160H400v160ZM180-400h160v-160H180v160Zm440 0h160v-160H620v160ZM180-180h160v-160H180v160Zm440 0h160v-160H620v160Z\"/>\n",
              "  </svg>\n",
              "    </button>\n",
              "\n",
              "  <style>\n",
              "    .colab-df-container {\n",
              "      display:flex;\n",
              "      gap: 12px;\n",
              "    }\n",
              "\n",
              "    .colab-df-convert {\n",
              "      background-color: #E8F0FE;\n",
              "      border: none;\n",
              "      border-radius: 50%;\n",
              "      cursor: pointer;\n",
              "      display: none;\n",
              "      fill: #1967D2;\n",
              "      height: 32px;\n",
              "      padding: 0 0 0 0;\n",
              "      width: 32px;\n",
              "    }\n",
              "\n",
              "    .colab-df-convert:hover {\n",
              "      background-color: #E2EBFA;\n",
              "      box-shadow: 0px 1px 2px rgba(60, 64, 67, 0.3), 0px 1px 3px 1px rgba(60, 64, 67, 0.15);\n",
              "      fill: #174EA6;\n",
              "    }\n",
              "\n",
              "    .colab-df-buttons div {\n",
              "      margin-bottom: 4px;\n",
              "    }\n",
              "\n",
              "    [theme=dark] .colab-df-convert {\n",
              "      background-color: #3B4455;\n",
              "      fill: #D2E3FC;\n",
              "    }\n",
              "\n",
              "    [theme=dark] .colab-df-convert:hover {\n",
              "      background-color: #434B5C;\n",
              "      box-shadow: 0px 1px 3px 1px rgba(0, 0, 0, 0.15);\n",
              "      filter: drop-shadow(0px 1px 2px rgba(0, 0, 0, 0.3));\n",
              "      fill: #FFFFFF;\n",
              "    }\n",
              "  </style>\n",
              "\n",
              "    <script>\n",
              "      const buttonEl =\n",
              "        document.querySelector('#df-8f2e8fb0-c2f9-4405-87e1-e51dd4e2669c button.colab-df-convert');\n",
              "      buttonEl.style.display =\n",
              "        google.colab.kernel.accessAllowed ? 'block' : 'none';\n",
              "\n",
              "      async function convertToInteractive(key) {\n",
              "        const element = document.querySelector('#df-8f2e8fb0-c2f9-4405-87e1-e51dd4e2669c');\n",
              "        const dataTable =\n",
              "          await google.colab.kernel.invokeFunction('convertToInteractive',\n",
              "                                                    [key], {});\n",
              "        if (!dataTable) return;\n",
              "\n",
              "        const docLinkHtml = 'Like what you see? Visit the ' +\n",
              "          '<a target=\"_blank\" href=https://colab.research.google.com/notebooks/data_table.ipynb>data table notebook</a>'\n",
              "          + ' to learn more about interactive tables.';\n",
              "        element.innerHTML = '';\n",
              "        dataTable['output_type'] = 'display_data';\n",
              "        await google.colab.output.renderOutput(dataTable, element);\n",
              "        const docLink = document.createElement('div');\n",
              "        docLink.innerHTML = docLinkHtml;\n",
              "        element.appendChild(docLink);\n",
              "      }\n",
              "    </script>\n",
              "  </div>\n",
              "\n",
              "\n",
              "    <div id=\"df-7a8810b0-f3ae-435f-8abd-759209e0777a\">\n",
              "      <button class=\"colab-df-quickchart\" onclick=\"quickchart('df-7a8810b0-f3ae-435f-8abd-759209e0777a')\"\n",
              "                title=\"Suggest charts\"\n",
              "                style=\"display:none;\">\n",
              "\n",
              "<svg xmlns=\"http://www.w3.org/2000/svg\" height=\"24px\"viewBox=\"0 0 24 24\"\n",
              "     width=\"24px\">\n",
              "    <g>\n",
              "        <path d=\"M19 3H5c-1.1 0-2 .9-2 2v14c0 1.1.9 2 2 2h14c1.1 0 2-.9 2-2V5c0-1.1-.9-2-2-2zM9 17H7v-7h2v7zm4 0h-2V7h2v10zm4 0h-2v-4h2v4z\"/>\n",
              "    </g>\n",
              "</svg>\n",
              "      </button>\n",
              "\n",
              "<style>\n",
              "  .colab-df-quickchart {\n",
              "      --bg-color: #E8F0FE;\n",
              "      --fill-color: #1967D2;\n",
              "      --hover-bg-color: #E2EBFA;\n",
              "      --hover-fill-color: #174EA6;\n",
              "      --disabled-fill-color: #AAA;\n",
              "      --disabled-bg-color: #DDD;\n",
              "  }\n",
              "\n",
              "  [theme=dark] .colab-df-quickchart {\n",
              "      --bg-color: #3B4455;\n",
              "      --fill-color: #D2E3FC;\n",
              "      --hover-bg-color: #434B5C;\n",
              "      --hover-fill-color: #FFFFFF;\n",
              "      --disabled-bg-color: #3B4455;\n",
              "      --disabled-fill-color: #666;\n",
              "  }\n",
              "\n",
              "  .colab-df-quickchart {\n",
              "    background-color: var(--bg-color);\n",
              "    border: none;\n",
              "    border-radius: 50%;\n",
              "    cursor: pointer;\n",
              "    display: none;\n",
              "    fill: var(--fill-color);\n",
              "    height: 32px;\n",
              "    padding: 0;\n",
              "    width: 32px;\n",
              "  }\n",
              "\n",
              "  .colab-df-quickchart:hover {\n",
              "    background-color: var(--hover-bg-color);\n",
              "    box-shadow: 0 1px 2px rgba(60, 64, 67, 0.3), 0 1px 3px 1px rgba(60, 64, 67, 0.15);\n",
              "    fill: var(--button-hover-fill-color);\n",
              "  }\n",
              "\n",
              "  .colab-df-quickchart-complete:disabled,\n",
              "  .colab-df-quickchart-complete:disabled:hover {\n",
              "    background-color: var(--disabled-bg-color);\n",
              "    fill: var(--disabled-fill-color);\n",
              "    box-shadow: none;\n",
              "  }\n",
              "\n",
              "  .colab-df-spinner {\n",
              "    border: 2px solid var(--fill-color);\n",
              "    border-color: transparent;\n",
              "    border-bottom-color: var(--fill-color);\n",
              "    animation:\n",
              "      spin 1s steps(1) infinite;\n",
              "  }\n",
              "\n",
              "  @keyframes spin {\n",
              "    0% {\n",
              "      border-color: transparent;\n",
              "      border-bottom-color: var(--fill-color);\n",
              "      border-left-color: var(--fill-color);\n",
              "    }\n",
              "    20% {\n",
              "      border-color: transparent;\n",
              "      border-left-color: var(--fill-color);\n",
              "      border-top-color: var(--fill-color);\n",
              "    }\n",
              "    30% {\n",
              "      border-color: transparent;\n",
              "      border-left-color: var(--fill-color);\n",
              "      border-top-color: var(--fill-color);\n",
              "      border-right-color: var(--fill-color);\n",
              "    }\n",
              "    40% {\n",
              "      border-color: transparent;\n",
              "      border-right-color: var(--fill-color);\n",
              "      border-top-color: var(--fill-color);\n",
              "    }\n",
              "    60% {\n",
              "      border-color: transparent;\n",
              "      border-right-color: var(--fill-color);\n",
              "    }\n",
              "    80% {\n",
              "      border-color: transparent;\n",
              "      border-right-color: var(--fill-color);\n",
              "      border-bottom-color: var(--fill-color);\n",
              "    }\n",
              "    90% {\n",
              "      border-color: transparent;\n",
              "      border-bottom-color: var(--fill-color);\n",
              "    }\n",
              "  }\n",
              "</style>\n",
              "\n",
              "      <script>\n",
              "        async function quickchart(key) {\n",
              "          const quickchartButtonEl =\n",
              "            document.querySelector('#' + key + ' button');\n",
              "          quickchartButtonEl.disabled = true;  // To prevent multiple clicks.\n",
              "          quickchartButtonEl.classList.add('colab-df-spinner');\n",
              "          try {\n",
              "            const charts = await google.colab.kernel.invokeFunction(\n",
              "                'suggestCharts', [key], {});\n",
              "          } catch (error) {\n",
              "            console.error('Error during call to suggestCharts:', error);\n",
              "          }\n",
              "          quickchartButtonEl.classList.remove('colab-df-spinner');\n",
              "          quickchartButtonEl.classList.add('colab-df-quickchart-complete');\n",
              "        }\n",
              "        (() => {\n",
              "          let quickchartButtonEl =\n",
              "            document.querySelector('#df-7a8810b0-f3ae-435f-8abd-759209e0777a button');\n",
              "          quickchartButtonEl.style.display =\n",
              "            google.colab.kernel.accessAllowed ? 'block' : 'none';\n",
              "        })();\n",
              "      </script>\n",
              "    </div>\n",
              "\n",
              "    </div>\n",
              "  </div>\n"
            ],
            "text/plain": [
              "   age          workclass  fnlwgt   education  education-num  \\\n",
              "0   39          State-gov   77516   Bachelors             13   \n",
              "1   50   Self-emp-not-inc   83311   Bachelors             13   \n",
              "2   38            Private  215646     HS-grad              9   \n",
              "3   53            Private  234721        11th              7   \n",
              "4   28            Private  338409   Bachelors             13   \n",
              "\n",
              "        marital-status          occupation    relationship    race      sex  \\\n",
              "0        Never-married        Adm-clerical   Not-in-family   White     Male   \n",
              "1   Married-civ-spouse     Exec-managerial         Husband   White     Male   \n",
              "2             Divorced   Handlers-cleaners   Not-in-family   White     Male   \n",
              "3   Married-civ-spouse   Handlers-cleaners         Husband   Black     Male   \n",
              "4   Married-civ-spouse      Prof-specialty            Wife   Black   Female   \n",
              "\n",
              "   capital-gain  capital-loss  hours-per-week  native-country income-per-year  \n",
              "0          2174             0              40   United-States           <=50K  \n",
              "1             0             0              13   United-States           <=50K  \n",
              "2             0             0              40   United-States           <=50K  \n",
              "3             0             0              40   United-States           <=50K  \n",
              "4             0             0              40            Cuba           <=50K  "
            ]
          },
          "execution_count": 77,
          "metadata": {},
          "output_type": "execute_result"
        }
      ],
      "source": [
        "import pandas as pd\n",
        "\n",
        "url = 'https://archive.ics.uci.edu/ml/machine-learning-databases/adult/adult.data'\n",
        "df = pd.read_csv(url, header=None)\n",
        "df.columns = ['age', 'workclass', 'fnlwgt', 'education', 'education-num', 'marital-status', 'occupation', 'relationship', 'race', 'sex', 'capital-gain', 'capital-loss', 'hours-per-week', 'native-country', 'income-per-year']\n",
        "print(df.shape)\n",
        "df.head()"
      ]
    },
    {
      "cell_type": "markdown",
      "metadata": {
        "id": "xCbRJPj96mch"
      },
      "source": [
        "---\n",
        "\n",
        "#### 3. 🏋️‍♂️ **Treinar o modelo**\n",
        "\n",
        "Selecionamos algumas variáveis simples (idade, escolaridade, horas por semana), tratamos os dados e normalizamos. Esse processo de escolha de quais características vamos usar, que tipo de limpeza de dados, normalização, etc são decisões muito importantes que podem decidir o sucesso ou fracasso do seu modelo. Preste muita atenção no código usado para fazer essas etapas, pois são procedimentos extremamente comuns de tratamento de dados.  \n",
        "Nosso modelo será o de **regressão logística**, mas não se preocupe com os detalhes dele nesse momento, pois ele será explicado na próxima aula. Por enquanto, pense nele como um modelo \"caixa preta\" de ML."
      ]
    },
    {
      "cell_type": "code",
      "execution_count": null,
      "metadata": {
        "id": "srXkrQMYgEDD"
      },
      "outputs": [],
      "source": [
        "from sklearn.model_selection import train_test_split\n",
        "from sklearn.preprocessing import StandardScaler\n",
        "from sklearn.linear_model import LogisticRegression\n",
        "\n",
        "# Selecionamos características (colunas) de interesse\n",
        "df = df[[\"age\", \"education-num\", \"hours-per-week\", \"income-per-year\"]]\n",
        "\n",
        "# Removemos amostras em que alguma coluna tem valor inválido\n",
        "df = df.dropna()\n",
        "\n",
        "# Convertemos nossa coluna de previsão (feature target) para 0 ou 1, pois esse modelo não trabalha com strings (palavras), apenas números.\n",
        "df[\"income-per-year\"] = df[\"income-per-year\"].map({\" >50K\": 1, \" <=50K\": 0})\n",
        "\n",
        "# Separamos o dataset em X (características) e y (target)\n",
        "X = df.drop(\"income-per-year\", axis=1)\n",
        "y = df[\"income-per-year\"]\n",
        "\n",
        "# Escalonamento dos dados\n",
        "scaler = StandardScaler()\n",
        "X_scaled = scaler.fit_transform(X)\n"
      ]
    },
    {
      "cell_type": "markdown",
      "metadata": {
        "id": "c06y6ZFyKs2J"
      },
      "source": [
        "Agora nossos dados estão pré-processados e prontos para entrar no modelo.  \n",
        "  \n",
        "*Mas como sabemos se nosso treinamento está sendo efetivo?*  \n",
        "  \n",
        "Para isso, separamos um conjunto de amostras para ser o conjunto de teste. Esse conjunto é isolado: essas amostras **nunca** serão usadas no treinamento do modelo. O objetivo delas é ser um critério para avaliar se estamos indo no caminho certo. Pense em conjunto de treino como seu material de estudo e o de teste como a prova final: treinar é estudar pelo livro, fazer questões antigas, ou até mesmo praticar com provas antigas, mas você não pode ter acesso às questões da prova final, senão isso seria colar.  \n",
        "  \n",
        "*Mas ao separar amostras para o teste, estou perdendo amostras que poderiam ser muito valiosas no meu treinamento. E agora?*  \n",
        "  \n",
        "Isso de fato é um problema, mas inevitável. Uma prática muito comum é separar 30% das amostras para teste, o que costuma ser uma proporção boa o suficiente para ao mesmo tempo avaliar bem o modelo e não prejudicar tanto o treinamento. Para não haver viés nessa escolha, costuma-se escolher aleatoriamente."
      ]
    },
    {
      "cell_type": "code",
      "execution_count": null,
      "metadata": {
        "id": "HdiXVrFpH9hS"
      },
      "outputs": [],
      "source": [
        "# Separação em treino e teste\n",
        "X_train, X_test, y_train, y_test = train_test_split(X_scaled, y, test_size=0.3, random_state=42)"
      ]
    },
    {
      "cell_type": "markdown",
      "metadata": {
        "id": "TPcpEPRdOpjJ"
      },
      "source": [
        "Agora estamos pronto para treinar nosso modelo, isto é, dar as amostras separadas no conjunto de treino como entrada para ele aprender os padrões dos dados."
      ]
    },
    {
      "cell_type": "code",
      "execution_count": null,
      "metadata": {
        "colab": {
          "base_uri": "https://localhost:8080/"
        },
        "id": "6nAI0OdQOkxf",
        "outputId": "40e9bbb6-2c68-4180-e2f6-a042955b4792"
      },
      "outputs": [
        {
          "name": "stdout",
          "output_type": "stream",
          "text": [
            "Modelo treinado com sucesso!\n"
          ]
        }
      ],
      "source": [
        "# Treinamento\n",
        "modelo = LogisticRegression()\n",
        "modelo.fit(X_train, y_train)\n",
        "print(\"Modelo treinado com sucesso!\")"
      ]
    },
    {
      "cell_type": "markdown",
      "metadata": {
        "id": "4-jA6v2T8HtQ"
      },
      "source": [
        "---\n",
        "\n",
        "#### 4. 🧐 **Avaliação da solução**\n",
        "Agora o conjunto de teste entra em ação. Essas amostras vão nos dizer o quão bem o modelo aprendeu a resolver o nosso problema de saber qual a renda da população americana."
      ]
    },
    {
      "cell_type": "code",
      "execution_count": null,
      "metadata": {
        "id": "wJvaFQ8-PfN8"
      },
      "outputs": [],
      "source": [
        "y_pred = modelo.predict(X_test)"
      ]
    },
    {
      "cell_type": "markdown",
      "metadata": {
        "id": "E757tSygQILQ"
      },
      "source": [
        "Vamos ver a saída do nosso modelo, essas são as previsões de renda que ele está fazendo para os nossos cidadãos americanos de renda desconhecida."
      ]
    },
    {
      "cell_type": "code",
      "execution_count": null,
      "metadata": {
        "colab": {
          "base_uri": "https://localhost:8080/"
        },
        "id": "uRahPnx4jKjK",
        "outputId": "c02216ce-e00d-4962-e603-07da50dc46e4"
      },
      "outputs": [
        {
          "name": "stdout",
          "output_type": "stream",
          "text": [
            "Cidadão 1: <50K$\n",
            "Cidadão 2: <50K$\n",
            "Cidadão 3: <50K$\n",
            "Cidadão 4: <50K$\n",
            "Cidadão 5: <50K$\n",
            "Cidadão 6: >=50K$\n",
            "Cidadão 7: <50K$\n",
            "Cidadão 8: <50K$\n",
            "Cidadão 9: <50K$\n",
            "...\n"
          ]
        }
      ],
      "source": [
        "for i in range(9):\n",
        "  prediction = \"<50K\" if y_pred[i] == 0 else \">=50K\"\n",
        "  print(f\"Cidadão {i+1}: {prediction}$\")\n",
        "print(\"...\")\n"
      ]
    },
    {
      "cell_type": "markdown",
      "metadata": {
        "id": "ckeqWZBARa9e"
      },
      "source": [
        "*Mas será que ele está indo bem?*  \n",
        "Temos o gabarito das previsões `y_test`, só precisamos de uma métrica para avaliar nosso desempenho nessas amostras.  \n",
        "Para esse tipo de problema, uma métrica muito comum é a acurácia (*accuracy* ou acc). Definimos a acurácia como:  \n",
        "$$acc = \\dfrac{palpites\\ corretos}{total\\ de\\ palpites}$$\n",
        "Dessa forma, acc = 0 significa que erramos tudo e acc = 1 que acertamos tudo. Vamos ver a acurácia do nosso modelo no conjunto de teste:"
      ]
    },
    {
      "cell_type": "code",
      "execution_count": null,
      "metadata": {
        "colab": {
          "base_uri": "https://localhost:8080/"
        },
        "id": "wTfS-GC_SeKg",
        "outputId": "bb2b5964-b149-4b96-dae2-5d0beb3942f5"
      },
      "outputs": [
        {
          "name": "stdout",
          "output_type": "stream",
          "text": [
            "Acurácia do modelo no conjunto de teste: 0.79\n"
          ]
        }
      ],
      "source": [
        "from sklearn.metrics import accuracy_score\n",
        "\n",
        "test_acc = accuracy_score(y_test, y_pred)\n",
        "print(f\"Acurácia do modelo no conjunto de teste: {test_acc:.2f}\")"
      ]
    },
    {
      "cell_type": "markdown",
      "metadata": {
        "id": "NiORuIWTPgob"
      },
      "source": [
        "---\n",
        "\n",
        "#### 5. ❌ **Análise de erros**\n",
        "\n",
        "Aqui poderíamos:\n",
        "\n",
        "* Ver quais tipos de perfis o modelo mais erra (ex: mulheres com pós-graduação trabalhando meio período?)\n",
        "* Usar uma matriz de confusão\n",
        "* Ver quais features mais influenciam o modelo\n",
        "\n",
        "---\n"
      ]
    },
    {
      "cell_type": "markdown",
      "metadata": {
        "id": "fokMwW6QfDWM"
      },
      "source": [
        "#### 6. ✅ **Melhoria / Lançamento**\n",
        "\n",
        "Se a acurácia for suficiente (digamos, >85%), o modelo pode ser testado em um sistema real. Caso contrário, poderíamos:\n",
        "\n",
        "* Adicionar novas features (ex: ocupação, status marital)\n",
        "* Testar outros modelos (árvores, random forest)\n",
        "* Fazer tunagem de hiperparâmetros"
      ]
    }
  ],
  "metadata": {
    "colab": {
      "include_colab_link": true,
      "provenance": [],
      "toc_visible": true
    },
    "kernelspec": {
      "display_name": "Python 3",
      "name": "python3"
    },
    "language_info": {
      "name": "python"
    }
  },
  "nbformat": 4,
  "nbformat_minor": 0
}
